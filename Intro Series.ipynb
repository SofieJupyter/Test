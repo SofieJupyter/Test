{
 "cells": [
  {
   "cell_type": "markdown",
   "id": "4addb00b",
   "metadata": {},
   "source": [
    "# <h1 style=\"font-size:3rem;colour:oranger;\">Jupyter notrebook tutorial"
   ]
  },
  {
   "cell_type": "code",
   "execution_count": null,
   "id": "a267901c-f72e-45c9-aa8c-811d9b6da498",
   "metadata": {},
   "outputs": [],
   "source": [
    "\n",
    "\n",
    "!jupyter notebook --ip 0.0.0.0 --port 8888"
   ]
  },
  {
   "cell_type": "code",
   "execution_count": 1,
   "id": "075bb661",
   "metadata": {},
   "outputs": [],
   "source": [
    "a = \"hello\"\n",
    "b = \"world\""
   ]
  },
  {
   "cell_type": "code",
   "execution_count": 2,
   "id": "7c48652c-c49e-4f2d-a9e9-90cb6fe2b3e2",
   "metadata": {},
   "outputs": [],
   "source": [
    "a + \" \"+ b\n",
    "c = 'test'"
   ]
  },
  {
   "cell_type": "code",
   "execution_count": 3,
   "id": "afa7da10-06e4-48ce-a3d3-ebca03f065cf",
   "metadata": {},
   "outputs": [
    {
     "data": {
      "text/plain": [
       "'hello'"
      ]
     },
     "execution_count": 3,
     "metadata": {},
     "output_type": "execute_result"
    }
   ],
   "source": [
    "a"
   ]
  },
  {
   "cell_type": "markdown",
   "id": "47b3a51d-d817-4668-88e7-688967573b16",
   "metadata": {
    "tags": []
   },
   "source": [
    "# This is a heading 1\n",
    "## This is a heading 2\n",
    "### This is a heading 3\n",
    "\n",
    "<h1>this is html</h1>\n",
    "\n",
    "* bullet 1\n",
    "* bullet 2\n",
    "* [this is a link](http:///www.google.se)\n",
    "\n",
    "> this is used for styling text\n",
    "> this is used for ***styling*** text\n",
    "\n",
    "This is **bold**"
   ]
  },
  {
   "cell_type": "markdown",
   "id": "35e47de1-e4dc-45e2-993f-aa93a87dbe9c",
   "metadata": {},
   "source": [
    "Cod to import a excell sheet to python panda\n",
    "https://www.youtube.com/watch?v=Sb0A9i6d320"
   ]
  },
  {
   "cell_type": "code",
   "execution_count": null,
   "id": "44b868c6-1fd8-49cf-bd97-7cac58a5c7c4",
   "metadata": {},
   "outputs": [],
   "source": [
    " df = pd.read_excell(\n",
    "     ïo='supermarket_sales.xlsx',\n",
    "     engine='openpyxl',\n",
    "     sheet_name='Sales',\n",
    "     skiprows=3,\n",
    "     usecols='B:R',\n",
    "     nrow=1000,\n",
    " )\n",
    "    \n",
    "Print (df)"
   ]
  },
  {
   "cell_type": "markdown",
   "id": "f35b46ce-56d6-48f1-b6ad-3f715651d2ba",
   "metadata": {},
   "source": [
    "https://www.youtube.com/watch?v=uuwCfnsWoIY"
   ]
  },
  {
   "cell_type": "code",
   "execution_count": 6,
   "id": "9bf8178f-e660-4668-a1a8-cc3963077ec7",
   "metadata": {},
   "outputs": [],
   "source": [
    "import numpy as np\n",
    "import pandas as pd"
   ]
  },
  {
   "cell_type": "code",
   "execution_count": 10,
   "id": "79dbdcf0-4d54-4fa0-9484-b989645f5e6f",
   "metadata": {
    "collapsed": true,
    "jupyter": {
     "outputs_hidden": true
    },
    "tags": []
   },
   "outputs": [
    {
     "name": "stderr",
     "output_type": "stream",
     "text": [
      "C:\\Users\\IBSOBE\\AppData\\Local\\Temp\\ipykernel_15780\\3836548115.py:9: DeprecationWarning: `np.float` is a deprecated alias for the builtin `float`. To silence this warning, use `float` by itself. Doing this will not modify any behavior and is safe. If you specifically wanted the numpy scalar type, use `np.float64` here.\n",
      "Deprecated in NumPy 1.20; for more details and guidance: https://numpy.org/devdocs/release/1.20.0-notes.html#deprecations\n",
      "  }, dtype=np.float, name='G7 Polulation in milions')\n"
     ]
    }
   ],
   "source": [
    "g7_pop = pd.Series({\n",
    "    'Canada': 35.467,\n",
    "    'France': 63.951,\n",
    "    'Germany': 80.94,\n",
    "    'Italy': 60.665,\n",
    "    'Japan': 127.06,\n",
    "    'United Kingdom': 64.51,\n",
    "    'United Sattes': 318.52,\n",
    "}, dtype=np.float, name='G7 Polulation in milions')    "
   ]
  },
  {
   "cell_type": "code",
   "execution_count": 11,
   "id": "2ae11aeb-f392-4488-a4f4-e1c225d4e394",
   "metadata": {
    "collapsed": true,
    "jupyter": {
     "outputs_hidden": true
    },
    "tags": []
   },
   "outputs": [
    {
     "data": {
      "text/plain": [
       "Canada             35.467\n",
       "France             63.951\n",
       "Germany            80.940\n",
       "Italy              60.665\n",
       "Japan             127.060\n",
       "United Kingdom     64.510\n",
       "United Sattes     318.520\n",
       "Name: G7 Polulation in milions, dtype: float64"
      ]
     },
     "execution_count": 11,
     "metadata": {},
     "output_type": "execute_result"
    }
   ],
   "source": [
    "g7_pop"
   ]
  },
  {
   "cell_type": "code",
   "execution_count": 13,
   "id": "f3ab812a-86c7-4b02-895f-ab4d07d0d4ef",
   "metadata": {
    "collapsed": true,
    "jupyter": {
     "outputs_hidden": true
    },
    "tags": []
   },
   "outputs": [
    {
     "name": "stderr",
     "output_type": "stream",
     "text": [
      "C:\\Users\\IBSOBE\\AppData\\Local\\Temp\\ipykernel_15780\\1951927651.py:5: DeprecationWarning: `np.float` is a deprecated alias for the builtin `float`. To silence this warning, use `float` by itself. Doing this will not modify any behavior and is safe. If you specifically wanted the numpy scalar type, use `np.float64` here.\n",
      "Deprecated in NumPy 1.20; for more details and guidance: https://numpy.org/devdocs/release/1.20.0-notes.html#deprecations\n",
      "  dtype=np.float,\n"
     ]
    }
   ],
   "source": [
    "gdp = pd.Series(\n",
    "    [1785387, 2833687, 3874437, 2167744, 4602367, 295039, 17348075],\n",
    "    index=['Canada','France', 'Germany','Italy',\n",
    "          'Japan','United Kingdom','United Sattes'],\n",
    "    dtype=np.float,\n",
    "    name='G7 GDP in milions')\n",
    "    "
   ]
  },
  {
   "cell_type": "code",
   "execution_count": 14,
   "id": "5ae61a0e-84d6-4a77-9a87-5ddab9425483",
   "metadata": {
    "collapsed": true,
    "jupyter": {
     "outputs_hidden": true
    },
    "tags": []
   },
   "outputs": [
    {
     "data": {
      "text/plain": [
       "Canada             1785387.0\n",
       "France             2833687.0\n",
       "Germany            3874437.0\n",
       "Italy              2167744.0\n",
       "Japan              4602367.0\n",
       "United Kingdom      295039.0\n",
       "United Sattes     17348075.0\n",
       "Name: G7 GDP in milions, dtype: float64"
      ]
     },
     "execution_count": 14,
     "metadata": {},
     "output_type": "execute_result"
    }
   ],
   "source": [
    "gdp"
   ]
  },
  {
   "cell_type": "markdown",
   "id": "e57dc135-2aee-46e5-a9fd-7d97adcb4561",
   "metadata": {
    "jp-MarkdownHeadingCollapsed": true,
    "tags": []
   },
   "source": [
    "# Series vectoriezed operations"
   ]
  },
  {
   "cell_type": "markdown",
   "id": "30d9785a-31c4-4de0-915a-5af5d7d75713",
   "metadata": {},
   "source": [
    "the actions bellow wont change the original series. All of the actions are omittabel"
   ]
  },
  {
   "cell_type": "code",
   "execution_count": 15,
   "id": "3b212461-be0c-4620-9500-992b1a24b607",
   "metadata": {
    "collapsed": true,
    "jupyter": {
     "outputs_hidden": true
    },
    "tags": []
   },
   "outputs": [
    {
     "data": {
      "text/plain": [
       "Canada             35467000.0\n",
       "France             63951000.0\n",
       "Germany            80940000.0\n",
       "Italy              60665000.0\n",
       "Japan             127060000.0\n",
       "United Kingdom     64510000.0\n",
       "United Sattes     318520000.0\n",
       "Name: G7 Polulation in milions, dtype: float64"
      ]
     },
     "execution_count": 15,
     "metadata": {},
     "output_type": "execute_result"
    }
   ],
   "source": [
    "g7_pop * 1_000_000"
   ]
  },
  {
   "cell_type": "markdown",
   "id": "a1789439-3420-48c3-8d73-410308a4ffea",
   "metadata": {},
   "source": [
    "operations between series"
   ]
  },
  {
   "cell_type": "code",
   "execution_count": 19,
   "id": "0f1fde7a-f935-4b10-af72-d5827cd6f3da",
   "metadata": {
    "collapsed": true,
    "jupyter": {
     "outputs_hidden": true
    },
    "tags": []
   },
   "outputs": [
    {
     "data": {
      "text/plain": [
       "Canada             1785387.0\n",
       "France             2833687.0\n",
       "Germany            3874437.0\n",
       "Italy              2167744.0\n",
       "Japan              4602367.0\n",
       "United Kingdom      295039.0\n",
       "United Sattes     17348075.0\n",
       "Name: G7 GDP in milions, dtype: float64"
      ]
     },
     "execution_count": 19,
     "metadata": {},
     "output_type": "execute_result"
    }
   ],
   "source": [
    "gdp"
   ]
  },
  {
   "cell_type": "code",
   "execution_count": 18,
   "id": "835869f7-aa89-4022-b780-dd38b099fb89",
   "metadata": {
    "collapsed": true,
    "jupyter": {
     "outputs_hidden": true
    },
    "tags": []
   },
   "outputs": [
    {
     "data": {
      "text/plain": [
       "Canada             35.467\n",
       "France             63.951\n",
       "Germany            80.940\n",
       "Italy              60.665\n",
       "Japan             127.060\n",
       "United Kingdom     64.510\n",
       "United Sattes     318.520\n",
       "Name: G7 Polulation in milions, dtype: float64"
      ]
     },
     "execution_count": 18,
     "metadata": {},
     "output_type": "execute_result"
    }
   ],
   "source": [
    "g7_pop"
   ]
  },
  {
   "cell_type": "code",
   "execution_count": 17,
   "id": "76fc7810-6ff4-4966-960c-aad9e23a1904",
   "metadata": {
    "collapsed": true,
    "jupyter": {
     "outputs_hidden": true
    },
    "tags": []
   },
   "outputs": [
    {
     "data": {
      "text/plain": [
       "Canada            50339.385908\n",
       "France            44310.284437\n",
       "Germany           47868.013343\n",
       "Italy             35733.025633\n",
       "Japan             36221.997482\n",
       "United Kingdom     4573.538986\n",
       "United Sattes     54464.633304\n",
       "dtype: float64"
      ]
     },
     "execution_count": 17,
     "metadata": {},
     "output_type": "execute_result"
    }
   ],
   "source": [
    "gdp/g7_pop"
   ]
  },
  {
   "cell_type": "code",
   "execution_count": null,
   "id": "c53f5e2a-5751-45df-a3b4-ccaa2f0eb5cd",
   "metadata": {
    "collapsed": true,
    "jupyter": {
     "outputs_hidden": true
    },
    "tags": []
   },
   "outputs": [
    {
     "data": {
      "text/plain": [
       "Canada            50339.385908\n",
       "France            44310.284437\n",
       "Germany           47868.013343\n",
       "Italy             35733.025633\n",
       "Japan             36221.997482\n",
       "United Kingdom     4573.538986\n",
       "United Sattes     54464.633304\n",
       "dtype: float64"
      ]
     },
     "execution_count": 20,
     "metadata": {},
     "output_type": "execute_result"
    }
   ],
   "source": [
    "(gdp * 1_000_000) / (g7_pop * 1_000_000"
   ]
  },
  {
   "cell_type": "markdown",
   "id": "3a15df31-28dd-4347-80c6-fd2bc6638ece",
   "metadata": {},
   "source": [
    "## Using universal functions"
   ]
  },
  {
   "cell_type": "markdown",
   "id": "44d828fc-d68b-40b1-a0c9-3cfe2b21658b",
   "metadata": {},
   "source": [
    "g7_pop.describe() will give you a summary of the series"
   ]
  },
  {
   "cell_type": "code",
   "execution_count": null,
   "id": "9e4a3faf-5737-4825-9935-192e5add84cd",
   "metadata": {
    "tags": []
   },
   "outputs": [],
   "source": [
    "g7_pop.describe()"
   ]
  },
  {
   "cell_type": "code",
   "execution_count": null,
   "id": "2e29c17d-8917-4f7d-b64b-7f24cc318f69",
   "metadata": {},
   "outputs": [],
   "source": [
    "g7_pop.max()"
   ]
  },
  {
   "cell_type": "code",
   "execution_count": null,
   "id": "35ee90bd-fd0e-4765-a18d-224d99f199ed",
   "metadata": {},
   "outputs": [],
   "source": [
    "g7_pop.min()"
   ]
  },
  {
   "cell_type": "code",
   "execution_count": null,
   "id": "e62c7de4-3be8-4dc9-9138-333df9b379ef",
   "metadata": {},
   "outputs": [],
   "source": [
    "g7_pop.mean()"
   ]
  },
  {
   "cell_type": "code",
   "execution_count": null,
   "id": "c5df55f4-9dc5-46c6-9165-4be872857b6b",
   "metadata": {},
   "outputs": [],
   "source": [
    "g7_pop.std()"
   ]
  },
  {
   "cell_type": "code",
   "execution_count": null,
   "id": "b1fc9bdc-87ab-4c04-8128-185bad4aff7b",
   "metadata": {},
   "outputs": [],
   "source": [
    "g7_pop.quantile(.2)"
   ]
  },
  {
   "cell_type": "code",
   "execution_count": null,
   "id": "6c676cdc-8058-44a6-ae5f-ec880cc8bd73",
   "metadata": {},
   "outputs": [],
   "source": [
    "np.log(g7_pop)"
   ]
  },
  {
   "cell_type": "markdown",
   "id": "c06e398c-d164-4c5b-8758-4da5f86c43e2",
   "metadata": {
    "tags": []
   },
   "source": [
    "# Sorting Series of values\n",
    "\n",
    "in many canses a Series values need to be soreted.\n",
    "\n",
    "Sorting in Pandas is extremely easy. There are two important methods to be used for Series and Data frames that will take care of the job:\n",
    "Sort_values and sort_index ."
   ]
  },
  {
   "cell_type": "markdown",
   "id": "a43e7e3c-c597-4552-839c-3ee2616a7ae0",
   "metadata": {},
   "source": [
    "## Sort values"
   ]
  },
  {
   "cell_type": "code",
   "execution_count": 29,
   "id": "4e00c0dd-b7fc-4af5-b7c8-b4c26a88edbc",
   "metadata": {
    "collapsed": true,
    "jupyter": {
     "outputs_hidden": true
    },
    "tags": []
   },
   "outputs": [
    {
     "data": {
      "text/plain": [
       "\u001b[1;31mSignature:\u001b[0m\n",
       "\u001b[0mg7_pop\u001b[0m\u001b[1;33m.\u001b[0m\u001b[0msort_values\u001b[0m\u001b[1;33m(\u001b[0m\u001b[1;33m\n",
       "\u001b[0m    \u001b[0maxis\u001b[0m\u001b[1;33m=\u001b[0m\u001b[1;36m0\u001b[0m\u001b[1;33m,\u001b[0m\u001b[1;33m\n",
       "\u001b[0m    \u001b[0mascending\u001b[0m\u001b[1;33m:\u001b[0m \u001b[1;34m'bool | int | Sequence[bool | int]'\u001b[0m \u001b[1;33m=\u001b[0m \u001b[1;32mTrue\u001b[0m\u001b[1;33m,\u001b[0m\u001b[1;33m\n",
       "\u001b[0m    \u001b[0minplace\u001b[0m\u001b[1;33m:\u001b[0m \u001b[1;34m'bool'\u001b[0m \u001b[1;33m=\u001b[0m \u001b[1;32mFalse\u001b[0m\u001b[1;33m,\u001b[0m\u001b[1;33m\n",
       "\u001b[0m    \u001b[0mkind\u001b[0m\u001b[1;33m:\u001b[0m \u001b[1;34m'str'\u001b[0m \u001b[1;33m=\u001b[0m \u001b[1;34m'quicksort'\u001b[0m\u001b[1;33m,\u001b[0m\u001b[1;33m\n",
       "\u001b[0m    \u001b[0mna_position\u001b[0m\u001b[1;33m:\u001b[0m \u001b[1;34m'str'\u001b[0m \u001b[1;33m=\u001b[0m \u001b[1;34m'last'\u001b[0m\u001b[1;33m,\u001b[0m\u001b[1;33m\n",
       "\u001b[0m    \u001b[0mignore_index\u001b[0m\u001b[1;33m:\u001b[0m \u001b[1;34m'bool'\u001b[0m \u001b[1;33m=\u001b[0m \u001b[1;32mFalse\u001b[0m\u001b[1;33m,\u001b[0m\u001b[1;33m\n",
       "\u001b[0m    \u001b[0mkey\u001b[0m\u001b[1;33m:\u001b[0m \u001b[1;34m'ValueKeyFunc'\u001b[0m \u001b[1;33m=\u001b[0m \u001b[1;32mNone\u001b[0m\u001b[1;33m,\u001b[0m\u001b[1;33m\n",
       "\u001b[0m\u001b[1;33m)\u001b[0m\u001b[1;33m\u001b[0m\u001b[1;33m\u001b[0m\u001b[0m\n",
       "\u001b[1;31mDocstring:\u001b[0m\n",
       "Sort by the values.\n",
       "\n",
       "Sort a Series in ascending or descending order by some\n",
       "criterion.\n",
       "\n",
       "Parameters\n",
       "----------\n",
       "axis : {0 or 'index'}, default 0\n",
       "    Axis to direct sorting. The value 'index' is accepted for\n",
       "    compatibility with DataFrame.sort_values.\n",
       "ascending : bool or list of bools, default True\n",
       "    If True, sort values in ascending order, otherwise descending.\n",
       "inplace : bool, default False\n",
       "    If True, perform operation in-place.\n",
       "kind : {'quicksort', 'mergesort', 'heapsort', 'stable'}, default 'quicksort'\n",
       "    Choice of sorting algorithm. See also :func:`numpy.sort` for more\n",
       "    information. 'mergesort' and 'stable' are the only stable  algorithms.\n",
       "na_position : {'first' or 'last'}, default 'last'\n",
       "    Argument 'first' puts NaNs at the beginning, 'last' puts NaNs at\n",
       "    the end.\n",
       "ignore_index : bool, default False\n",
       "    If True, the resulting axis will be labeled 0, 1, …, n - 1.\n",
       "\n",
       "    .. versionadded:: 1.0.0\n",
       "\n",
       "key : callable, optional\n",
       "    If not None, apply the key function to the series values\n",
       "    before sorting. This is similar to the `key` argument in the\n",
       "    builtin :meth:`sorted` function, with the notable difference that\n",
       "    this `key` function should be *vectorized*. It should expect a\n",
       "    ``Series`` and return an array-like.\n",
       "\n",
       "    .. versionadded:: 1.1.0\n",
       "\n",
       "Returns\n",
       "-------\n",
       "Series or None\n",
       "    Series ordered by values or None if ``inplace=True``.\n",
       "\n",
       "See Also\n",
       "--------\n",
       "Series.sort_index : Sort by the Series indices.\n",
       "DataFrame.sort_values : Sort DataFrame by the values along either axis.\n",
       "DataFrame.sort_index : Sort DataFrame by indices.\n",
       "\n",
       "Examples\n",
       "--------\n",
       ">>> s = pd.Series([np.nan, 1, 3, 10, 5])\n",
       ">>> s\n",
       "0     NaN\n",
       "1     1.0\n",
       "2     3.0\n",
       "3     10.0\n",
       "4     5.0\n",
       "dtype: float64\n",
       "\n",
       "Sort values ascending order (default behaviour)\n",
       "\n",
       ">>> s.sort_values(ascending=True)\n",
       "1     1.0\n",
       "2     3.0\n",
       "4     5.0\n",
       "3    10.0\n",
       "0     NaN\n",
       "dtype: float64\n",
       "\n",
       "Sort values descending order\n",
       "\n",
       ">>> s.sort_values(ascending=False)\n",
       "3    10.0\n",
       "4     5.0\n",
       "2     3.0\n",
       "1     1.0\n",
       "0     NaN\n",
       "dtype: float64\n",
       "\n",
       "Sort values inplace\n",
       "\n",
       ">>> s.sort_values(ascending=False, inplace=True)\n",
       ">>> s\n",
       "3    10.0\n",
       "4     5.0\n",
       "2     3.0\n",
       "1     1.0\n",
       "0     NaN\n",
       "dtype: float64\n",
       "\n",
       "Sort values putting NAs first\n",
       "\n",
       ">>> s.sort_values(na_position='first')\n",
       "0     NaN\n",
       "1     1.0\n",
       "2     3.0\n",
       "4     5.0\n",
       "3    10.0\n",
       "dtype: float64\n",
       "\n",
       "Sort a series of strings\n",
       "\n",
       ">>> s = pd.Series(['z', 'b', 'd', 'a', 'c'])\n",
       ">>> s\n",
       "0    z\n",
       "1    b\n",
       "2    d\n",
       "3    a\n",
       "4    c\n",
       "dtype: object\n",
       "\n",
       ">>> s.sort_values()\n",
       "3    a\n",
       "1    b\n",
       "4    c\n",
       "2    d\n",
       "0    z\n",
       "dtype: object\n",
       "\n",
       "Sort using a key function. Your `key` function will be\n",
       "given the ``Series`` of values and should return an array-like.\n",
       "\n",
       ">>> s = pd.Series(['a', 'B', 'c', 'D', 'e'])\n",
       ">>> s.sort_values()\n",
       "1    B\n",
       "3    D\n",
       "0    a\n",
       "2    c\n",
       "4    e\n",
       "dtype: object\n",
       ">>> s.sort_values(key=lambda x: x.str.lower())\n",
       "0    a\n",
       "1    B\n",
       "2    c\n",
       "3    D\n",
       "4    e\n",
       "dtype: object\n",
       "\n",
       "NumPy ufuncs work well here. For example, we can\n",
       "sort by the ``sin`` of the value\n",
       "\n",
       ">>> s = pd.Series([-4, -2, 0, 2, 4])\n",
       ">>> s.sort_values(key=np.sin)\n",
       "1   -2\n",
       "4    4\n",
       "2    0\n",
       "0   -4\n",
       "3    2\n",
       "dtype: int64\n",
       "\n",
       "More complicated user-defined functions can be used,\n",
       "as long as they expect a Series and return an array-like\n",
       "\n",
       ">>> s.sort_values(key=lambda x: (np.tan(x.cumsum())))\n",
       "0   -4\n",
       "3    2\n",
       "4    4\n",
       "1   -2\n",
       "2    0\n",
       "dtype: int64\n",
       "\u001b[1;31mFile:\u001b[0m      c:\\users\\ibsobe\\anaconda3\\lib\\site-packages\\pandas\\core\\series.py\n",
       "\u001b[1;31mType:\u001b[0m      method\n"
      ]
     },
     "metadata": {},
     "output_type": "display_data"
    }
   ],
   "source": [
    "g7_pop.sort_values?"
   ]
  },
  {
   "cell_type": "code",
   "execution_count": 25,
   "id": "e725a341-692a-4576-b571-41c886496834",
   "metadata": {
    "collapsed": true,
    "jupyter": {
     "outputs_hidden": true
    },
    "tags": []
   },
   "outputs": [
    {
     "data": {
      "text/plain": [
       "Canada             35.467\n",
       "Italy              60.665\n",
       "France             63.951\n",
       "United Kingdom     64.510\n",
       "Germany            80.940\n",
       "Japan             127.060\n",
       "United Sattes     318.520\n",
       "Name: G7 Polulation in milions, dtype: float64"
      ]
     },
     "execution_count": 25,
     "metadata": {},
     "output_type": "execute_result"
    }
   ],
   "source": [
    "g7_pop.sort_values()"
   ]
  },
  {
   "cell_type": "code",
   "execution_count": null,
   "id": "5a275855-8a3b-4c19-9c0e-bc14d9816afc",
   "metadata": {},
   "outputs": [],
   "source": [
    "g7_pop.sort_values(ascending=False)"
   ]
  },
  {
   "cell_type": "markdown",
   "id": "07f2076a-85ed-491a-8137-b9e99fb5d045",
   "metadata": {},
   "source": [
    "perfoming the above actions wont change the origninal data in the series. To start using a new series with the sorted data you can:\n",
    "* 1) creat a new varible for that series with these conditions: **pop_sort = g7_pop.sort_values()**\n",
    "* 2) modifie the original sereies by adding the inplace paramater: **g7_pop.sort_values(inplace=True)**"
   ]
  },
  {
   "cell_type": "code",
   "execution_count": 24,
   "id": "db24cec3-405c-4c1d-989c-638d4f6b4cce",
   "metadata": {
    "collapsed": true,
    "jupyter": {
     "outputs_hidden": true
    },
    "tags": []
   },
   "outputs": [
    {
     "data": {
      "text/plain": [
       "Canada             35.467\n",
       "Italy              60.665\n",
       "France             63.951\n",
       "United Kingdom     64.510\n",
       "Germany            80.940\n",
       "Japan             127.060\n",
       "United Sattes     318.520\n",
       "Name: G7 Polulation in milions, dtype: float64"
      ]
     },
     "execution_count": 24,
     "metadata": {},
     "output_type": "execute_result"
    }
   ],
   "source": [
    "pop_sort = g7_pop.sort_values()\n",
    "pop_sort"
   ]
  },
  {
   "cell_type": "code",
   "execution_count": 28,
   "id": "5ce03d4a-dbc5-482b-8392-dc4835f6f5e8",
   "metadata": {
    "collapsed": true,
    "jupyter": {
     "outputs_hidden": true
    },
    "tags": []
   },
   "outputs": [
    {
     "data": {
      "text/plain": [
       "Canada             35.467\n",
       "Italy              60.665\n",
       "France             63.951\n",
       "United Kingdom     64.510\n",
       "Germany            80.940\n",
       "Japan             127.060\n",
       "United Sattes     318.520\n",
       "Name: G7 Polulation in milions, dtype: float64"
      ]
     },
     "execution_count": 28,
     "metadata": {},
     "output_type": "execute_result"
    }
   ],
   "source": [
    "g7_pop.sort_values(inplace=True)\n",
    "g7_pop"
   ]
  },
  {
   "cell_type": "markdown",
   "id": "cd6967e8-3da4-4a40-8185-5083be0f9bd4",
   "metadata": {
    "tags": []
   },
   "source": [
    "## Sort index"
   ]
  },
  {
   "cell_type": "code",
   "execution_count": 34,
   "id": "16dd9d5a-525a-4f95-8be6-a0965d4a5325",
   "metadata": {
    "collapsed": true,
    "jupyter": {
     "outputs_hidden": true
    },
    "tags": []
   },
   "outputs": [
    {
     "data": {
      "text/plain": [
       "\u001b[1;31mSignature:\u001b[0m\n",
       "\u001b[0mg7_pop\u001b[0m\u001b[1;33m.\u001b[0m\u001b[0msort_index\u001b[0m\u001b[1;33m(\u001b[0m\u001b[1;33m\n",
       "\u001b[0m    \u001b[0maxis\u001b[0m\u001b[1;33m=\u001b[0m\u001b[1;36m0\u001b[0m\u001b[1;33m,\u001b[0m\u001b[1;33m\n",
       "\u001b[0m    \u001b[0mlevel\u001b[0m\u001b[1;33m=\u001b[0m\u001b[1;32mNone\u001b[0m\u001b[1;33m,\u001b[0m\u001b[1;33m\n",
       "\u001b[0m    \u001b[0mascending\u001b[0m\u001b[1;33m:\u001b[0m \u001b[1;34m'bool | int | Sequence[bool | int]'\u001b[0m \u001b[1;33m=\u001b[0m \u001b[1;32mTrue\u001b[0m\u001b[1;33m,\u001b[0m\u001b[1;33m\n",
       "\u001b[0m    \u001b[0minplace\u001b[0m\u001b[1;33m:\u001b[0m \u001b[1;34m'bool'\u001b[0m \u001b[1;33m=\u001b[0m \u001b[1;32mFalse\u001b[0m\u001b[1;33m,\u001b[0m\u001b[1;33m\n",
       "\u001b[0m    \u001b[0mkind\u001b[0m\u001b[1;33m:\u001b[0m \u001b[1;34m'str'\u001b[0m \u001b[1;33m=\u001b[0m \u001b[1;34m'quicksort'\u001b[0m\u001b[1;33m,\u001b[0m\u001b[1;33m\n",
       "\u001b[0m    \u001b[0mna_position\u001b[0m\u001b[1;33m:\u001b[0m \u001b[1;34m'str'\u001b[0m \u001b[1;33m=\u001b[0m \u001b[1;34m'last'\u001b[0m\u001b[1;33m,\u001b[0m\u001b[1;33m\n",
       "\u001b[0m    \u001b[0msort_remaining\u001b[0m\u001b[1;33m:\u001b[0m \u001b[1;34m'bool'\u001b[0m \u001b[1;33m=\u001b[0m \u001b[1;32mTrue\u001b[0m\u001b[1;33m,\u001b[0m\u001b[1;33m\n",
       "\u001b[0m    \u001b[0mignore_index\u001b[0m\u001b[1;33m:\u001b[0m \u001b[1;34m'bool'\u001b[0m \u001b[1;33m=\u001b[0m \u001b[1;32mFalse\u001b[0m\u001b[1;33m,\u001b[0m\u001b[1;33m\n",
       "\u001b[0m    \u001b[0mkey\u001b[0m\u001b[1;33m:\u001b[0m \u001b[1;34m'IndexKeyFunc'\u001b[0m \u001b[1;33m=\u001b[0m \u001b[1;32mNone\u001b[0m\u001b[1;33m,\u001b[0m\u001b[1;33m\n",
       "\u001b[0m\u001b[1;33m)\u001b[0m\u001b[1;33m\u001b[0m\u001b[1;33m\u001b[0m\u001b[0m\n",
       "\u001b[1;31mDocstring:\u001b[0m\n",
       "Sort Series by index labels.\n",
       "\n",
       "Returns a new Series sorted by label if `inplace` argument is\n",
       "``False``, otherwise updates the original series and returns None.\n",
       "\n",
       "Parameters\n",
       "----------\n",
       "axis : int, default 0\n",
       "    Axis to direct sorting. This can only be 0 for Series.\n",
       "level : int, optional\n",
       "    If not None, sort on values in specified index level(s).\n",
       "ascending : bool or list-like of bools, default True\n",
       "    Sort ascending vs. descending. When the index is a MultiIndex the\n",
       "    sort direction can be controlled for each level individually.\n",
       "inplace : bool, default False\n",
       "    If True, perform operation in-place.\n",
       "kind : {'quicksort', 'mergesort', 'heapsort', 'stable'}, default 'quicksort'\n",
       "    Choice of sorting algorithm. See also :func:`numpy.sort` for more\n",
       "    information. 'mergesort' and 'stable' are the only stable algorithms. For\n",
       "    DataFrames, this option is only applied when sorting on a single\n",
       "    column or label.\n",
       "na_position : {'first', 'last'}, default 'last'\n",
       "    If 'first' puts NaNs at the beginning, 'last' puts NaNs at the end.\n",
       "    Not implemented for MultiIndex.\n",
       "sort_remaining : bool, default True\n",
       "    If True and sorting by level and index is multilevel, sort by other\n",
       "    levels too (in order) after sorting by specified level.\n",
       "ignore_index : bool, default False\n",
       "    If True, the resulting axis will be labeled 0, 1, …, n - 1.\n",
       "\n",
       "    .. versionadded:: 1.0.0\n",
       "\n",
       "key : callable, optional\n",
       "    If not None, apply the key function to the index values\n",
       "    before sorting. This is similar to the `key` argument in the\n",
       "    builtin :meth:`sorted` function, with the notable difference that\n",
       "    this `key` function should be *vectorized*. It should expect an\n",
       "    ``Index`` and return an ``Index`` of the same shape.\n",
       "\n",
       "    .. versionadded:: 1.1.0\n",
       "\n",
       "Returns\n",
       "-------\n",
       "Series or None\n",
       "    The original Series sorted by the labels or None if ``inplace=True``.\n",
       "\n",
       "See Also\n",
       "--------\n",
       "DataFrame.sort_index: Sort DataFrame by the index.\n",
       "DataFrame.sort_values: Sort DataFrame by the value.\n",
       "Series.sort_values : Sort Series by the value.\n",
       "\n",
       "Examples\n",
       "--------\n",
       ">>> s = pd.Series(['a', 'b', 'c', 'd'], index=[3, 2, 1, 4])\n",
       ">>> s.sort_index()\n",
       "1    c\n",
       "2    b\n",
       "3    a\n",
       "4    d\n",
       "dtype: object\n",
       "\n",
       "Sort Descending\n",
       "\n",
       ">>> s.sort_index(ascending=False)\n",
       "4    d\n",
       "3    a\n",
       "2    b\n",
       "1    c\n",
       "dtype: object\n",
       "\n",
       "Sort Inplace\n",
       "\n",
       ">>> s.sort_index(inplace=True)\n",
       ">>> s\n",
       "1    c\n",
       "2    b\n",
       "3    a\n",
       "4    d\n",
       "dtype: object\n",
       "\n",
       "By default NaNs are put at the end, but use `na_position` to place\n",
       "them at the beginning\n",
       "\n",
       ">>> s = pd.Series(['a', 'b', 'c', 'd'], index=[3, 2, 1, np.nan])\n",
       ">>> s.sort_index(na_position='first')\n",
       "NaN     d\n",
       " 1.0    c\n",
       " 2.0    b\n",
       " 3.0    a\n",
       "dtype: object\n",
       "\n",
       "Specify index level to sort\n",
       "\n",
       ">>> arrays = [np.array(['qux', 'qux', 'foo', 'foo',\n",
       "...                     'baz', 'baz', 'bar', 'bar']),\n",
       "...           np.array(['two', 'one', 'two', 'one',\n",
       "...                     'two', 'one', 'two', 'one'])]\n",
       ">>> s = pd.Series([1, 2, 3, 4, 5, 6, 7, 8], index=arrays)\n",
       ">>> s.sort_index(level=1)\n",
       "bar  one    8\n",
       "baz  one    6\n",
       "foo  one    4\n",
       "qux  one    2\n",
       "bar  two    7\n",
       "baz  two    5\n",
       "foo  two    3\n",
       "qux  two    1\n",
       "dtype: int64\n",
       "\n",
       "Does not sort by remaining levels when sorting by levels\n",
       "\n",
       ">>> s.sort_index(level=1, sort_remaining=False)\n",
       "qux  one    2\n",
       "foo  one    4\n",
       "baz  one    6\n",
       "bar  one    8\n",
       "qux  two    1\n",
       "foo  two    3\n",
       "baz  two    5\n",
       "bar  two    7\n",
       "dtype: int64\n",
       "\n",
       "Apply a key function before sorting\n",
       "\n",
       ">>> s = pd.Series([1, 2, 3, 4], index=['A', 'b', 'C', 'd'])\n",
       ">>> s.sort_index(key=lambda x : x.str.lower())\n",
       "A    1\n",
       "b    2\n",
       "C    3\n",
       "d    4\n",
       "dtype: int64\n",
       "\u001b[1;31mFile:\u001b[0m      c:\\users\\ibsobe\\anaconda3\\lib\\site-packages\\pandas\\core\\series.py\n",
       "\u001b[1;31mType:\u001b[0m      method\n"
      ]
     },
     "metadata": {},
     "output_type": "display_data"
    }
   ],
   "source": [
    "g7_pop.sort_index?"
   ]
  },
  {
   "cell_type": "code",
   "execution_count": 33,
   "id": "22e389c5-4adb-40c4-8159-12e5f3a7e250",
   "metadata": {
    "collapsed": true,
    "jupyter": {
     "outputs_hidden": true
    },
    "tags": []
   },
   "outputs": [
    {
     "data": {
      "text/plain": [
       "United Sattes     318.520\n",
       "United Kingdom     64.510\n",
       "Japan             127.060\n",
       "Italy              60.665\n",
       "Germany            80.940\n",
       "France             63.951\n",
       "Canada             35.467\n",
       "Name: G7 Polulation in milions, dtype: float64"
      ]
     },
     "execution_count": 33,
     "metadata": {},
     "output_type": "execute_result"
    }
   ],
   "source": [
    "g7_pop.sort_index(ascending=False)"
   ]
  },
  {
   "cell_type": "code",
   "execution_count": 35,
   "id": "dd3838df-9aa2-46b6-a85c-cee53ceca9aa",
   "metadata": {
    "collapsed": true,
    "jupyter": {
     "outputs_hidden": true
    },
    "tags": []
   },
   "outputs": [
    {
     "data": {
      "text/plain": [
       "Canada             35.467\n",
       "France             63.951\n",
       "Germany            80.940\n",
       "Italy              60.665\n",
       "Japan             127.060\n",
       "United Kingdom     64.510\n",
       "United Sattes     318.520\n",
       "Name: G7 Polulation in milions, dtype: float64"
      ]
     },
     "execution_count": 35,
     "metadata": {},
     "output_type": "execute_result"
    }
   ],
   "source": [
    "g7_pop.sort_index()"
   ]
  },
  {
   "cell_type": "markdown",
   "id": "161c0d07-a526-4be4-b386-121157343456",
   "metadata": {},
   "source": [
    "# Data Frames"
   ]
  },
  {
   "cell_type": "code",
   "execution_count": 44,
   "id": "bd3b1a18-b7b7-4288-b340-4e028d57e6ce",
   "metadata": {},
   "outputs": [],
   "source": [
    "df = pd.DataFrame({\n",
    "    'Population': [35.5, 63.9, 80.9, 60.6, 127.0, 64.5, 318.5],\n",
    "    'GDP': [1785387, 2833687, 3874437, 2167744, 4602367, 2950039, 17348075],\n",
    "    'Surface Area': [9984670, 640679, 357114, 301336, 377930, 242495, 9525067],\n",
    "    'HDI': [0.913, 0.888, 0.916, 0.873, 0.891, 0.907, 0.915],\n",
    "    'Continent': ['America', 'Europe', 'Europe', 'Europe', 'Asia', 'Europe', 'America']\n",
    "})\n",
    "\n",
    "df.columns= ['Population', 'GDP', 'Surface Area', 'HDI', 'Continent']\n",
    "\n",
    "df.index = ['Canada', 'France', 'Germany', 'Italy', 'Japan', 'United Kingdom', 'United States']"
   ]
  },
  {
   "cell_type": "code",
   "execution_count": 45,
   "id": "0333ee5a-280b-4f04-8924-3af310d9a3de",
   "metadata": {},
   "outputs": [
    {
     "data": {
      "text/html": [
       "<div>\n",
       "<style scoped>\n",
       "    .dataframe tbody tr th:only-of-type {\n",
       "        vertical-align: middle;\n",
       "    }\n",
       "\n",
       "    .dataframe tbody tr th {\n",
       "        vertical-align: top;\n",
       "    }\n",
       "\n",
       "    .dataframe thead th {\n",
       "        text-align: right;\n",
       "    }\n",
       "</style>\n",
       "<table border=\"1\" class=\"dataframe\">\n",
       "  <thead>\n",
       "    <tr style=\"text-align: right;\">\n",
       "      <th></th>\n",
       "      <th>Population</th>\n",
       "      <th>GDP</th>\n",
       "      <th>Surface Area</th>\n",
       "      <th>HDI</th>\n",
       "      <th>Continent</th>\n",
       "    </tr>\n",
       "  </thead>\n",
       "  <tbody>\n",
       "    <tr>\n",
       "      <th>Canada</th>\n",
       "      <td>35.5</td>\n",
       "      <td>1785387</td>\n",
       "      <td>9984670</td>\n",
       "      <td>0.913</td>\n",
       "      <td>America</td>\n",
       "    </tr>\n",
       "    <tr>\n",
       "      <th>France</th>\n",
       "      <td>63.9</td>\n",
       "      <td>2833687</td>\n",
       "      <td>640679</td>\n",
       "      <td>0.888</td>\n",
       "      <td>Europe</td>\n",
       "    </tr>\n",
       "    <tr>\n",
       "      <th>Germany</th>\n",
       "      <td>80.9</td>\n",
       "      <td>3874437</td>\n",
       "      <td>357114</td>\n",
       "      <td>0.916</td>\n",
       "      <td>Europe</td>\n",
       "    </tr>\n",
       "    <tr>\n",
       "      <th>Italy</th>\n",
       "      <td>60.6</td>\n",
       "      <td>2167744</td>\n",
       "      <td>301336</td>\n",
       "      <td>0.873</td>\n",
       "      <td>Europe</td>\n",
       "    </tr>\n",
       "    <tr>\n",
       "      <th>Japan</th>\n",
       "      <td>127.0</td>\n",
       "      <td>4602367</td>\n",
       "      <td>377930</td>\n",
       "      <td>0.891</td>\n",
       "      <td>Asia</td>\n",
       "    </tr>\n",
       "    <tr>\n",
       "      <th>United Kingdom</th>\n",
       "      <td>64.5</td>\n",
       "      <td>2950039</td>\n",
       "      <td>242495</td>\n",
       "      <td>0.907</td>\n",
       "      <td>Europe</td>\n",
       "    </tr>\n",
       "    <tr>\n",
       "      <th>United States</th>\n",
       "      <td>318.5</td>\n",
       "      <td>17348075</td>\n",
       "      <td>9525067</td>\n",
       "      <td>0.915</td>\n",
       "      <td>America</td>\n",
       "    </tr>\n",
       "  </tbody>\n",
       "</table>\n",
       "</div>"
      ],
      "text/plain": [
       "                Population       GDP  Surface Area    HDI Continent\n",
       "Canada                35.5   1785387       9984670  0.913   America\n",
       "France                63.9   2833687        640679  0.888    Europe\n",
       "Germany               80.9   3874437        357114  0.916    Europe\n",
       "Italy                 60.6   2167744        301336  0.873    Europe\n",
       "Japan                127.0   4602367        377930  0.891      Asia\n",
       "United Kingdom        64.5   2950039        242495  0.907    Europe\n",
       "United States        318.5  17348075       9525067  0.915   America"
      ]
     },
     "execution_count": 45,
     "metadata": {},
     "output_type": "execute_result"
    }
   ],
   "source": [
    "df"
   ]
  },
  {
   "cell_type": "markdown",
   "id": "130bfa16-8325-4ab7-bb67-561aa0ed0e6a",
   "metadata": {
    "tags": []
   },
   "source": [
    "## Direct indexation and selection\n",
    "### Overview of comandas\n",
    "**Comand** and behaviour\n",
    "* df[col_key] --> Selection of columns by name if it's labeled, else selects by position\n",
    "* df[[col_key_1, ..., col_key_N]] --> Selection of multiple columns by namne if it's labled, else selects by position\n",
    "* df.loc[row_key_1:row_key2] --> Selection of multiple rows by name if it's lables, else selects by position\n",
    "* df.loc[condition] --> Conditional selesction (bolean selesction)"
   ]
  },
  {
   "cell_type": "markdown",
   "id": "6459349e-742d-47b0-9047-7ff085f58d11",
   "metadata": {},
   "source": [
    "### Indexing by column"
   ]
  },
  {
   "cell_type": "code",
   "execution_count": 81,
   "id": "05d726fc-a0ae-4481-a56a-cd8643ce5750",
   "metadata": {
    "collapsed": true,
    "jupyter": {
     "outputs_hidden": true
    },
    "tags": []
   },
   "outputs": [
    {
     "data": {
      "text/plain": [
       "Canada             35.5\n",
       "France             63.9\n",
       "Germany            80.9\n",
       "Italy              60.6\n",
       "Japan             127.0\n",
       "United Kingdom     64.5\n",
       "United States     318.5\n",
       "Name: Population, dtype: float64"
      ]
     },
     "execution_count": 81,
     "metadata": {},
     "output_type": "execute_result"
    }
   ],
   "source": [
    "df['Population']"
   ]
  },
  {
   "cell_type": "code",
   "execution_count": 82,
   "id": "ce79d199-a20d-40aa-8866-8e99d8e22752",
   "metadata": {
    "collapsed": true,
    "jupyter": {
     "outputs_hidden": true
    },
    "tags": []
   },
   "outputs": [
    {
     "data": {
      "text/html": [
       "<div>\n",
       "<style scoped>\n",
       "    .dataframe tbody tr th:only-of-type {\n",
       "        vertical-align: middle;\n",
       "    }\n",
       "\n",
       "    .dataframe tbody tr th {\n",
       "        vertical-align: top;\n",
       "    }\n",
       "\n",
       "    .dataframe thead th {\n",
       "        text-align: right;\n",
       "    }\n",
       "</style>\n",
       "<table border=\"1\" class=\"dataframe\">\n",
       "  <thead>\n",
       "    <tr style=\"text-align: right;\">\n",
       "      <th></th>\n",
       "      <th>Population</th>\n",
       "    </tr>\n",
       "  </thead>\n",
       "  <tbody>\n",
       "    <tr>\n",
       "      <th>Canada</th>\n",
       "      <td>35.5</td>\n",
       "    </tr>\n",
       "    <tr>\n",
       "      <th>France</th>\n",
       "      <td>63.9</td>\n",
       "    </tr>\n",
       "    <tr>\n",
       "      <th>Germany</th>\n",
       "      <td>80.9</td>\n",
       "    </tr>\n",
       "    <tr>\n",
       "      <th>Italy</th>\n",
       "      <td>60.6</td>\n",
       "    </tr>\n",
       "    <tr>\n",
       "      <th>Japan</th>\n",
       "      <td>127.0</td>\n",
       "    </tr>\n",
       "    <tr>\n",
       "      <th>United Kingdom</th>\n",
       "      <td>64.5</td>\n",
       "    </tr>\n",
       "    <tr>\n",
       "      <th>United States</th>\n",
       "      <td>318.5</td>\n",
       "    </tr>\n",
       "  </tbody>\n",
       "</table>\n",
       "</div>"
      ],
      "text/plain": [
       "                Population\n",
       "Canada                35.5\n",
       "France                63.9\n",
       "Germany               80.9\n",
       "Italy                 60.6\n",
       "Japan                127.0\n",
       "United Kingdom        64.5\n",
       "United States        318.5"
      ]
     },
     "execution_count": 82,
     "metadata": {},
     "output_type": "execute_result"
    }
   ],
   "source": [
    "df[['Population']]"
   ]
  },
  {
   "cell_type": "code",
   "execution_count": 52,
   "id": "cc8a13af-31c1-4c88-83fc-b44517b4eef6",
   "metadata": {
    "tags": []
   },
   "outputs": [
    {
     "data": {
      "text/html": [
       "<div>\n",
       "<style scoped>\n",
       "    .dataframe tbody tr th:only-of-type {\n",
       "        vertical-align: middle;\n",
       "    }\n",
       "\n",
       "    .dataframe tbody tr th {\n",
       "        vertical-align: top;\n",
       "    }\n",
       "\n",
       "    .dataframe thead th {\n",
       "        text-align: right;\n",
       "    }\n",
       "</style>\n",
       "<table border=\"1\" class=\"dataframe\">\n",
       "  <thead>\n",
       "    <tr style=\"text-align: right;\">\n",
       "      <th></th>\n",
       "      <th>Surface Area</th>\n",
       "      <th>Population</th>\n",
       "      <th>GDP</th>\n",
       "    </tr>\n",
       "  </thead>\n",
       "  <tbody>\n",
       "    <tr>\n",
       "      <th>Canada</th>\n",
       "      <td>9984670</td>\n",
       "      <td>35.5</td>\n",
       "      <td>1785387</td>\n",
       "    </tr>\n",
       "    <tr>\n",
       "      <th>France</th>\n",
       "      <td>640679</td>\n",
       "      <td>63.9</td>\n",
       "      <td>2833687</td>\n",
       "    </tr>\n",
       "    <tr>\n",
       "      <th>Germany</th>\n",
       "      <td>357114</td>\n",
       "      <td>80.9</td>\n",
       "      <td>3874437</td>\n",
       "    </tr>\n",
       "    <tr>\n",
       "      <th>Italy</th>\n",
       "      <td>301336</td>\n",
       "      <td>60.6</td>\n",
       "      <td>2167744</td>\n",
       "    </tr>\n",
       "    <tr>\n",
       "      <th>Japan</th>\n",
       "      <td>377930</td>\n",
       "      <td>127.0</td>\n",
       "      <td>4602367</td>\n",
       "    </tr>\n",
       "    <tr>\n",
       "      <th>United Kingdom</th>\n",
       "      <td>242495</td>\n",
       "      <td>64.5</td>\n",
       "      <td>2950039</td>\n",
       "    </tr>\n",
       "    <tr>\n",
       "      <th>United States</th>\n",
       "      <td>9525067</td>\n",
       "      <td>318.5</td>\n",
       "      <td>17348075</td>\n",
       "    </tr>\n",
       "  </tbody>\n",
       "</table>\n",
       "</div>"
      ],
      "text/plain": [
       "                Surface Area  Population       GDP\n",
       "Canada               9984670        35.5   1785387\n",
       "France                640679        63.9   2833687\n",
       "Germany               357114        80.9   3874437\n",
       "Italy                 301336        60.6   2167744\n",
       "Japan                 377930       127.0   4602367\n",
       "United Kingdom        242495        64.5   2950039\n",
       "United States        9525067       318.5  17348075"
      ]
     },
     "execution_count": 52,
     "metadata": {},
     "output_type": "execute_result"
    }
   ],
   "source": [
    "df[['Surface Area', 'Population', 'GDP']]"
   ]
  },
  {
   "cell_type": "markdown",
   "id": "dcc03d08-3547-43b4-9931-c03bd60f3c31",
   "metadata": {},
   "source": [
    "above action doesnot change the original data"
   ]
  },
  {
   "cell_type": "code",
   "execution_count": 64,
   "id": "5a2eceac-56bf-4aaa-88cf-a502dde161c3",
   "metadata": {
    "collapsed": true,
    "jupyter": {
     "outputs_hidden": true
    },
    "tags": []
   },
   "outputs": [
    {
     "data": {
      "text/html": [
       "<div>\n",
       "<style scoped>\n",
       "    .dataframe tbody tr th:only-of-type {\n",
       "        vertical-align: middle;\n",
       "    }\n",
       "\n",
       "    .dataframe tbody tr th {\n",
       "        vertical-align: top;\n",
       "    }\n",
       "\n",
       "    .dataframe thead th {\n",
       "        text-align: right;\n",
       "    }\n",
       "</style>\n",
       "<table border=\"1\" class=\"dataframe\">\n",
       "  <thead>\n",
       "    <tr style=\"text-align: right;\">\n",
       "      <th></th>\n",
       "      <th>Population</th>\n",
       "      <th>GDP</th>\n",
       "    </tr>\n",
       "  </thead>\n",
       "  <tbody>\n",
       "    <tr>\n",
       "      <th>France</th>\n",
       "      <td>63.9</td>\n",
       "      <td>2833687</td>\n",
       "    </tr>\n",
       "    <tr>\n",
       "      <th>Germany</th>\n",
       "      <td>80.9</td>\n",
       "      <td>3874437</td>\n",
       "    </tr>\n",
       "    <tr>\n",
       "      <th>Italy</th>\n",
       "      <td>60.6</td>\n",
       "      <td>2167744</td>\n",
       "    </tr>\n",
       "  </tbody>\n",
       "</table>\n",
       "</div>"
      ],
      "text/plain": [
       "         Population      GDP\n",
       "France         63.9  2833687\n",
       "Germany        80.9  3874437\n",
       "Italy          60.6  2167744"
      ]
     },
     "execution_count": 64,
     "metadata": {},
     "output_type": "execute_result"
    }
   ],
   "source": [
    "df.loc['France':'Italy', ('Population', 'GDP')]"
   ]
  },
  {
   "cell_type": "markdown",
   "id": "2ded1ca0-ac7d-4901-90a1-b228e85247c8",
   "metadata": {},
   "source": [
    "## Conditional selection"
   ]
  },
  {
   "cell_type": "code",
   "execution_count": 68,
   "id": "a7564e91-26ef-45cc-a2f7-59743f51bbca",
   "metadata": {
    "collapsed": true,
    "jupyter": {
     "outputs_hidden": true
    },
    "tags": []
   },
   "outputs": [
    {
     "data": {
      "text/html": [
       "<div>\n",
       "<style scoped>\n",
       "    .dataframe tbody tr th:only-of-type {\n",
       "        vertical-align: middle;\n",
       "    }\n",
       "\n",
       "    .dataframe tbody tr th {\n",
       "        vertical-align: top;\n",
       "    }\n",
       "\n",
       "    .dataframe thead th {\n",
       "        text-align: right;\n",
       "    }\n",
       "</style>\n",
       "<table border=\"1\" class=\"dataframe\">\n",
       "  <thead>\n",
       "    <tr style=\"text-align: right;\">\n",
       "      <th></th>\n",
       "      <th>Population</th>\n",
       "      <th>GDP</th>\n",
       "      <th>Surface Area</th>\n",
       "      <th>HDI</th>\n",
       "      <th>Continent</th>\n",
       "    </tr>\n",
       "  </thead>\n",
       "  <tbody>\n",
       "    <tr>\n",
       "      <th>Canada</th>\n",
       "      <td>35.5</td>\n",
       "      <td>1785387</td>\n",
       "      <td>9984670</td>\n",
       "      <td>0.913</td>\n",
       "      <td>America</td>\n",
       "    </tr>\n",
       "    <tr>\n",
       "      <th>Germany</th>\n",
       "      <td>80.9</td>\n",
       "      <td>3874437</td>\n",
       "      <td>357114</td>\n",
       "      <td>0.916</td>\n",
       "      <td>Europe</td>\n",
       "    </tr>\n",
       "    <tr>\n",
       "      <th>Japan</th>\n",
       "      <td>127.0</td>\n",
       "      <td>4602367</td>\n",
       "      <td>377930</td>\n",
       "      <td>0.891</td>\n",
       "      <td>Asia</td>\n",
       "    </tr>\n",
       "    <tr>\n",
       "      <th>United States</th>\n",
       "      <td>318.5</td>\n",
       "      <td>17348075</td>\n",
       "      <td>9525067</td>\n",
       "      <td>0.915</td>\n",
       "      <td>America</td>\n",
       "    </tr>\n",
       "  </tbody>\n",
       "</table>\n",
       "</div>"
      ],
      "text/plain": [
       "               Population       GDP  Surface Area    HDI Continent\n",
       "Canada               35.5   1785387       9984670  0.913   America\n",
       "Germany              80.9   3874437        357114  0.916    Europe\n",
       "Japan               127.0   4602367        377930  0.891      Asia\n",
       "United States       318.5  17348075       9525067  0.915   America"
      ]
     },
     "execution_count": 68,
     "metadata": {},
     "output_type": "execute_result"
    }
   ],
   "source": [
    "df.loc[(df['GDP'] > 3_000_000) | (df['Continent'] == 'America')]"
   ]
  },
  {
   "cell_type": "code",
   "execution_count": 71,
   "id": "06071286-b540-4bdb-95b4-a7af41bf8aea",
   "metadata": {
    "collapsed": true,
    "jupyter": {
     "outputs_hidden": true
    },
    "tags": []
   },
   "outputs": [
    {
     "data": {
      "text/html": [
       "<div>\n",
       "<style scoped>\n",
       "    .dataframe tbody tr th:only-of-type {\n",
       "        vertical-align: middle;\n",
       "    }\n",
       "\n",
       "    .dataframe tbody tr th {\n",
       "        vertical-align: top;\n",
       "    }\n",
       "\n",
       "    .dataframe thead th {\n",
       "        text-align: right;\n",
       "    }\n",
       "</style>\n",
       "<table border=\"1\" class=\"dataframe\">\n",
       "  <thead>\n",
       "    <tr style=\"text-align: right;\">\n",
       "      <th></th>\n",
       "      <th>Population</th>\n",
       "      <th>GDP</th>\n",
       "      <th>Surface Area</th>\n",
       "      <th>HDI</th>\n",
       "      <th>Continent</th>\n",
       "    </tr>\n",
       "  </thead>\n",
       "  <tbody>\n",
       "    <tr>\n",
       "      <th>Germany</th>\n",
       "      <td>80.9</td>\n",
       "      <td>3874437</td>\n",
       "      <td>357114</td>\n",
       "      <td>0.916</td>\n",
       "      <td>Europe</td>\n",
       "    </tr>\n",
       "  </tbody>\n",
       "</table>\n",
       "</div>"
      ],
      "text/plain": [
       "         Population      GDP  Surface Area    HDI Continent\n",
       "Germany        80.9  3874437        357114  0.916    Europe"
      ]
     },
     "execution_count": 71,
     "metadata": {},
     "output_type": "execute_result"
    }
   ],
   "source": [
    "df.loc[(df['Population'] > 80) & (df['Continent'] == 'Europe')]"
   ]
  },
  {
   "cell_type": "code",
   "execution_count": 73,
   "id": "c7315118-c1b0-4879-be91-e5ad60973db6",
   "metadata": {
    "collapsed": true,
    "jupyter": {
     "outputs_hidden": true
    },
    "tags": []
   },
   "outputs": [
    {
     "data": {
      "text/html": [
       "<div>\n",
       "<style scoped>\n",
       "    .dataframe tbody tr th:only-of-type {\n",
       "        vertical-align: middle;\n",
       "    }\n",
       "\n",
       "    .dataframe tbody tr th {\n",
       "        vertical-align: top;\n",
       "    }\n",
       "\n",
       "    .dataframe thead th {\n",
       "        text-align: right;\n",
       "    }\n",
       "</style>\n",
       "<table border=\"1\" class=\"dataframe\">\n",
       "  <thead>\n",
       "    <tr style=\"text-align: right;\">\n",
       "      <th></th>\n",
       "      <th>Population</th>\n",
       "      <th>GDP</th>\n",
       "    </tr>\n",
       "  </thead>\n",
       "  <tbody>\n",
       "    <tr>\n",
       "      <th>Germany</th>\n",
       "      <td>80.9</td>\n",
       "      <td>3874437</td>\n",
       "    </tr>\n",
       "  </tbody>\n",
       "</table>\n",
       "</div>"
      ],
      "text/plain": [
       "         Population      GDP\n",
       "Germany        80.9  3874437"
      ]
     },
     "execution_count": 73,
     "metadata": {},
     "output_type": "execute_result"
    }
   ],
   "source": [
    "df.loc[(df['Population'] > 80) & (df['Continent'] == 'Europe'), ['Population', 'GDP']]"
   ]
  },
  {
   "cell_type": "code",
   "execution_count": 76,
   "id": "b6930b80-fe95-44a1-ac34-ffe63c5f6b90",
   "metadata": {
    "collapsed": true,
    "jupyter": {
     "outputs_hidden": true
    },
    "tags": []
   },
   "outputs": [
    {
     "data": {
      "text/html": [
       "<div>\n",
       "<style scoped>\n",
       "    .dataframe tbody tr th:only-of-type {\n",
       "        vertical-align: middle;\n",
       "    }\n",
       "\n",
       "    .dataframe tbody tr th {\n",
       "        vertical-align: top;\n",
       "    }\n",
       "\n",
       "    .dataframe thead th {\n",
       "        text-align: right;\n",
       "    }\n",
       "</style>\n",
       "<table border=\"1\" class=\"dataframe\">\n",
       "  <thead>\n",
       "    <tr style=\"text-align: right;\">\n",
       "      <th></th>\n",
       "      <th>Population</th>\n",
       "      <th>GDP</th>\n",
       "      <th>Surface Area</th>\n",
       "      <th>HDI</th>\n",
       "      <th>Continent</th>\n",
       "    </tr>\n",
       "  </thead>\n",
       "  <tbody>\n",
       "    <tr>\n",
       "      <th>Canada</th>\n",
       "      <td>35.5</td>\n",
       "      <td>1785387</td>\n",
       "      <td>9984670</td>\n",
       "      <td>0.913</td>\n",
       "      <td>America</td>\n",
       "    </tr>\n",
       "    <tr>\n",
       "      <th>France</th>\n",
       "      <td>63.9</td>\n",
       "      <td>2833687</td>\n",
       "      <td>640679</td>\n",
       "      <td>0.888</td>\n",
       "      <td>Europe</td>\n",
       "    </tr>\n",
       "    <tr>\n",
       "      <th>Germany</th>\n",
       "      <td>80.9</td>\n",
       "      <td>3874437</td>\n",
       "      <td>357114</td>\n",
       "      <td>0.916</td>\n",
       "      <td>Europe</td>\n",
       "    </tr>\n",
       "    <tr>\n",
       "      <th>Italy</th>\n",
       "      <td>60.6</td>\n",
       "      <td>2167744</td>\n",
       "      <td>301336</td>\n",
       "      <td>0.873</td>\n",
       "      <td>Europe</td>\n",
       "    </tr>\n",
       "    <tr>\n",
       "      <th>Japan</th>\n",
       "      <td>127.0</td>\n",
       "      <td>4602367</td>\n",
       "      <td>377930</td>\n",
       "      <td>0.891</td>\n",
       "      <td>Asia</td>\n",
       "    </tr>\n",
       "    <tr>\n",
       "      <th>United Kingdom</th>\n",
       "      <td>64.5</td>\n",
       "      <td>2950039</td>\n",
       "      <td>242495</td>\n",
       "      <td>0.907</td>\n",
       "      <td>Europe</td>\n",
       "    </tr>\n",
       "    <tr>\n",
       "      <th>United States</th>\n",
       "      <td>318.5</td>\n",
       "      <td>17348075</td>\n",
       "      <td>9525067</td>\n",
       "      <td>0.915</td>\n",
       "      <td>America</td>\n",
       "    </tr>\n",
       "  </tbody>\n",
       "</table>\n",
       "</div>"
      ],
      "text/plain": [
       "                Population       GDP  Surface Area    HDI Continent\n",
       "Canada                35.5   1785387       9984670  0.913   America\n",
       "France                63.9   2833687        640679  0.888    Europe\n",
       "Germany               80.9   3874437        357114  0.916    Europe\n",
       "Italy                 60.6   2167744        301336  0.873    Europe\n",
       "Japan                127.0   4602367        377930  0.891      Asia\n",
       "United Kingdom        64.5   2950039        242495  0.907    Europe\n",
       "United States        318.5  17348075       9525067  0.915   America"
      ]
     },
     "execution_count": 76,
     "metadata": {},
     "output_type": "execute_result"
    }
   ],
   "source": [
    "df"
   ]
  },
  {
   "cell_type": "code",
   "execution_count": 74,
   "id": "2956428a-7592-41e5-82a5-5c08df7eb097",
   "metadata": {
    "collapsed": true,
    "jupyter": {
     "outputs_hidden": true
    },
    "tags": []
   },
   "outputs": [
    {
     "data": {
      "text/plain": [
       "Canada             True\n",
       "France            False\n",
       "Germany           False\n",
       "Italy             False\n",
       "Japan              True\n",
       "United Kingdom    False\n",
       "United States      True\n",
       "Name: Continent, dtype: bool"
      ]
     },
     "execution_count": 74,
     "metadata": {},
     "output_type": "execute_result"
    }
   ],
   "source": [
    "df['Continent'].isin(['America', 'Asia'])"
   ]
  },
  {
   "cell_type": "code",
   "execution_count": 75,
   "id": "8de6dd11-6cd3-4f39-a797-9dd0ba13e832",
   "metadata": {
    "collapsed": true,
    "jupyter": {
     "outputs_hidden": true
    },
    "tags": []
   },
   "outputs": [
    {
     "data": {
      "text/html": [
       "<div>\n",
       "<style scoped>\n",
       "    .dataframe tbody tr th:only-of-type {\n",
       "        vertical-align: middle;\n",
       "    }\n",
       "\n",
       "    .dataframe tbody tr th {\n",
       "        vertical-align: top;\n",
       "    }\n",
       "\n",
       "    .dataframe thead th {\n",
       "        text-align: right;\n",
       "    }\n",
       "</style>\n",
       "<table border=\"1\" class=\"dataframe\">\n",
       "  <thead>\n",
       "    <tr style=\"text-align: right;\">\n",
       "      <th></th>\n",
       "      <th>Population</th>\n",
       "      <th>GDP</th>\n",
       "      <th>Surface Area</th>\n",
       "      <th>HDI</th>\n",
       "      <th>Continent</th>\n",
       "    </tr>\n",
       "  </thead>\n",
       "  <tbody>\n",
       "    <tr>\n",
       "      <th>Canada</th>\n",
       "      <td>35.5</td>\n",
       "      <td>1785387</td>\n",
       "      <td>9984670</td>\n",
       "      <td>0.913</td>\n",
       "      <td>America</td>\n",
       "    </tr>\n",
       "    <tr>\n",
       "      <th>Japan</th>\n",
       "      <td>127.0</td>\n",
       "      <td>4602367</td>\n",
       "      <td>377930</td>\n",
       "      <td>0.891</td>\n",
       "      <td>Asia</td>\n",
       "    </tr>\n",
       "    <tr>\n",
       "      <th>United States</th>\n",
       "      <td>318.5</td>\n",
       "      <td>17348075</td>\n",
       "      <td>9525067</td>\n",
       "      <td>0.915</td>\n",
       "      <td>America</td>\n",
       "    </tr>\n",
       "  </tbody>\n",
       "</table>\n",
       "</div>"
      ],
      "text/plain": [
       "               Population       GDP  Surface Area    HDI Continent\n",
       "Canada               35.5   1785387       9984670  0.913   America\n",
       "Japan               127.0   4602367        377930  0.891      Asia\n",
       "United States       318.5  17348075       9525067  0.915   America"
      ]
     },
     "execution_count": 75,
     "metadata": {},
     "output_type": "execute_result"
    }
   ],
   "source": [
    "df.loc[df['Continent'].isin(['America', 'Asia'])]"
   ]
  },
  {
   "cell_type": "code",
   "execution_count": 79,
   "id": "79039e9f-6df3-4eda-9117-dbcd698c92d3",
   "metadata": {
    "collapsed": true,
    "jupyter": {
     "outputs_hidden": true
    },
    "tags": []
   },
   "outputs": [
    {
     "data": {
      "text/html": [
       "<div>\n",
       "<style scoped>\n",
       "    .dataframe tbody tr th:only-of-type {\n",
       "        vertical-align: middle;\n",
       "    }\n",
       "\n",
       "    .dataframe tbody tr th {\n",
       "        vertical-align: top;\n",
       "    }\n",
       "\n",
       "    .dataframe thead th {\n",
       "        text-align: right;\n",
       "    }\n",
       "</style>\n",
       "<table border=\"1\" class=\"dataframe\">\n",
       "  <thead>\n",
       "    <tr style=\"text-align: right;\">\n",
       "      <th></th>\n",
       "      <th>Population</th>\n",
       "      <th>GDP</th>\n",
       "    </tr>\n",
       "  </thead>\n",
       "  <tbody>\n",
       "    <tr>\n",
       "      <th>Canada</th>\n",
       "      <td>35.5</td>\n",
       "      <td>1785387</td>\n",
       "    </tr>\n",
       "    <tr>\n",
       "      <th>Japan</th>\n",
       "      <td>127.0</td>\n",
       "      <td>4602367</td>\n",
       "    </tr>\n",
       "    <tr>\n",
       "      <th>United States</th>\n",
       "      <td>318.5</td>\n",
       "      <td>17348075</td>\n",
       "    </tr>\n",
       "  </tbody>\n",
       "</table>\n",
       "</div>"
      ],
      "text/plain": [
       "               Population       GDP\n",
       "Canada               35.5   1785387\n",
       "Japan               127.0   4602367\n",
       "United States       318.5  17348075"
      ]
     },
     "execution_count": 79,
     "metadata": {},
     "output_type": "execute_result"
    }
   ],
   "source": [
    "df.loc[df['Continent'].isin(['America', 'Asia']), ['Population', 'GDP']]"
   ]
  },
  {
   "cell_type": "markdown",
   "id": "2afc5952-636f-4376-bce4-403b66e3f56e",
   "metadata": {},
   "source": [
    "## Modifying DataFrame using Conditional Selection"
   ]
  },
  {
   "cell_type": "code",
   "execution_count": 83,
   "id": "31ca2672-3c85-4e5b-8e77-16f0cfb5f449",
   "metadata": {},
   "outputs": [
    {
     "data": {
      "text/html": [
       "<div>\n",
       "<style scoped>\n",
       "    .dataframe tbody tr th:only-of-type {\n",
       "        vertical-align: middle;\n",
       "    }\n",
       "\n",
       "    .dataframe tbody tr th {\n",
       "        vertical-align: top;\n",
       "    }\n",
       "\n",
       "    .dataframe thead th {\n",
       "        text-align: right;\n",
       "    }\n",
       "</style>\n",
       "<table border=\"1\" class=\"dataframe\">\n",
       "  <thead>\n",
       "    <tr style=\"text-align: right;\">\n",
       "      <th></th>\n",
       "      <th>Population</th>\n",
       "      <th>GDP</th>\n",
       "      <th>Surface Area</th>\n",
       "      <th>HDI</th>\n",
       "      <th>Continent</th>\n",
       "    </tr>\n",
       "  </thead>\n",
       "  <tbody>\n",
       "    <tr>\n",
       "      <th>Canada</th>\n",
       "      <td>35.5</td>\n",
       "      <td>1785387</td>\n",
       "      <td>9984670</td>\n",
       "      <td>0.913</td>\n",
       "      <td>America</td>\n",
       "    </tr>\n",
       "    <tr>\n",
       "      <th>France</th>\n",
       "      <td>63.9</td>\n",
       "      <td>2833687</td>\n",
       "      <td>640679</td>\n",
       "      <td>0.888</td>\n",
       "      <td>Europe</td>\n",
       "    </tr>\n",
       "    <tr>\n",
       "      <th>Germany</th>\n",
       "      <td>80.9</td>\n",
       "      <td>3874437</td>\n",
       "      <td>357114</td>\n",
       "      <td>0.916</td>\n",
       "      <td>Europe</td>\n",
       "    </tr>\n",
       "    <tr>\n",
       "      <th>Italy</th>\n",
       "      <td>60.6</td>\n",
       "      <td>2167744</td>\n",
       "      <td>301336</td>\n",
       "      <td>0.873</td>\n",
       "      <td>Europe</td>\n",
       "    </tr>\n",
       "    <tr>\n",
       "      <th>Japan</th>\n",
       "      <td>127.0</td>\n",
       "      <td>4602367</td>\n",
       "      <td>377930</td>\n",
       "      <td>0.891</td>\n",
       "      <td>Asia</td>\n",
       "    </tr>\n",
       "    <tr>\n",
       "      <th>United Kingdom</th>\n",
       "      <td>64.5</td>\n",
       "      <td>2950039</td>\n",
       "      <td>242495</td>\n",
       "      <td>0.907</td>\n",
       "      <td>Europe</td>\n",
       "    </tr>\n",
       "    <tr>\n",
       "      <th>United States</th>\n",
       "      <td>318.5</td>\n",
       "      <td>17348075</td>\n",
       "      <td>9525067</td>\n",
       "      <td>0.915</td>\n",
       "      <td>America</td>\n",
       "    </tr>\n",
       "  </tbody>\n",
       "</table>\n",
       "</div>"
      ],
      "text/plain": [
       "                Population       GDP  Surface Area    HDI Continent\n",
       "Canada                35.5   1785387       9984670  0.913   America\n",
       "France                63.9   2833687        640679  0.888    Europe\n",
       "Germany               80.9   3874437        357114  0.916    Europe\n",
       "Italy                 60.6   2167744        301336  0.873    Europe\n",
       "Japan                127.0   4602367        377930  0.891      Asia\n",
       "United Kingdom        64.5   2950039        242495  0.907    Europe\n",
       "United States        318.5  17348075       9525067  0.915   America"
      ]
     },
     "execution_count": 83,
     "metadata": {},
     "output_type": "execute_result"
    }
   ],
   "source": [
    "df"
   ]
  },
  {
   "cell_type": "code",
   "execution_count": null,
   "id": "e9b92167-c010-4683-8e5b-eda74c8d296a",
   "metadata": {},
   "outputs": [],
   "source": []
  },
  {
   "cell_type": "code",
   "execution_count": 85,
   "id": "4800959d-7b82-4a17-a20c-331def054fbb",
   "metadata": {},
   "outputs": [
    {
     "data": {
      "text/html": [
       "<div>\n",
       "<style scoped>\n",
       "    .dataframe tbody tr th:only-of-type {\n",
       "        vertical-align: middle;\n",
       "    }\n",
       "\n",
       "    .dataframe tbody tr th {\n",
       "        vertical-align: top;\n",
       "    }\n",
       "\n",
       "    .dataframe thead th {\n",
       "        text-align: right;\n",
       "    }\n",
       "</style>\n",
       "<table border=\"1\" class=\"dataframe\">\n",
       "  <thead>\n",
       "    <tr style=\"text-align: right;\">\n",
       "      <th></th>\n",
       "      <th>Population</th>\n",
       "      <th>GDP</th>\n",
       "      <th>Surface Area</th>\n",
       "      <th>HDI</th>\n",
       "      <th>Continent</th>\n",
       "    </tr>\n",
       "  </thead>\n",
       "  <tbody>\n",
       "    <tr>\n",
       "      <th>Canada</th>\n",
       "      <td>35.5</td>\n",
       "      <td>1785387</td>\n",
       "      <td>9984670</td>\n",
       "      <td>0.913</td>\n",
       "      <td>America</td>\n",
       "    </tr>\n",
       "    <tr>\n",
       "      <th>France</th>\n",
       "      <td>63.9</td>\n",
       "      <td>2833687</td>\n",
       "      <td>640679</td>\n",
       "      <td>0.888</td>\n",
       "      <td>Europe</td>\n",
       "    </tr>\n",
       "    <tr>\n",
       "      <th>Italy</th>\n",
       "      <td>60.6</td>\n",
       "      <td>2167744</td>\n",
       "      <td>301336</td>\n",
       "      <td>0.873</td>\n",
       "      <td>Europe</td>\n",
       "    </tr>\n",
       "    <tr>\n",
       "      <th>United Kingdom</th>\n",
       "      <td>64.5</td>\n",
       "      <td>2950039</td>\n",
       "      <td>242495</td>\n",
       "      <td>0.907</td>\n",
       "      <td>Europe</td>\n",
       "    </tr>\n",
       "  </tbody>\n",
       "</table>\n",
       "</div>"
      ],
      "text/plain": [
       "                Population      GDP  Surface Area    HDI Continent\n",
       "Canada                35.5  1785387       9984670  0.913   America\n",
       "France                63.9  2833687        640679  0.888    Europe\n",
       "Italy                 60.6  2167744        301336  0.873    Europe\n",
       "United Kingdom        64.5  2950039        242495  0.907    Europe"
      ]
     },
     "execution_count": 85,
     "metadata": {},
     "output_type": "execute_result"
    }
   ],
   "source": [
    "df.loc[df['Population'] < 70]"
   ]
  },
  {
   "cell_type": "markdown",
   "id": "f0d18c05-d9a7-45f8-aac5-5dcc53d78b20",
   "metadata": {},
   "source": [
    "df.loc[df['Population'] < 70, 'GDP'] = 70 \n",
    "\n",
    "Above code will change the GDP value for every row which got population < 70\n",
    "\n",
    "This action **will** change the origninal data\n",
    "\n",
    "so will also:\n",
    "\n",
    "df.loc[df['Population'] < 70, 'GDP'] = np.nan"
   ]
  },
  {
   "cell_type": "code",
   "execution_count": 94,
   "id": "ca32da6e-7715-45f2-90fc-bdf1afcd246c",
   "metadata": {},
   "outputs": [
    {
     "data": {
      "text/html": [
       "<div>\n",
       "<style scoped>\n",
       "    .dataframe tbody tr th:only-of-type {\n",
       "        vertical-align: middle;\n",
       "    }\n",
       "\n",
       "    .dataframe tbody tr th {\n",
       "        vertical-align: top;\n",
       "    }\n",
       "\n",
       "    .dataframe thead th {\n",
       "        text-align: right;\n",
       "    }\n",
       "</style>\n",
       "<table border=\"1\" class=\"dataframe\">\n",
       "  <thead>\n",
       "    <tr style=\"text-align: right;\">\n",
       "      <th></th>\n",
       "      <th>Population</th>\n",
       "      <th>GDP</th>\n",
       "      <th>Surface Area</th>\n",
       "      <th>HDI</th>\n",
       "      <th>Continent</th>\n",
       "    </tr>\n",
       "  </thead>\n",
       "  <tbody>\n",
       "    <tr>\n",
       "      <th>Canada</th>\n",
       "      <td>35.5</td>\n",
       "      <td>NaN</td>\n",
       "      <td>9984670</td>\n",
       "      <td>0.913</td>\n",
       "      <td>America</td>\n",
       "    </tr>\n",
       "    <tr>\n",
       "      <th>France</th>\n",
       "      <td>63.9</td>\n",
       "      <td>NaN</td>\n",
       "      <td>640679</td>\n",
       "      <td>0.888</td>\n",
       "      <td>Europe</td>\n",
       "    </tr>\n",
       "    <tr>\n",
       "      <th>Germany</th>\n",
       "      <td>80.9</td>\n",
       "      <td>3874437.0</td>\n",
       "      <td>357114</td>\n",
       "      <td>0.916</td>\n",
       "      <td>Europe</td>\n",
       "    </tr>\n",
       "    <tr>\n",
       "      <th>Italy</th>\n",
       "      <td>60.6</td>\n",
       "      <td>NaN</td>\n",
       "      <td>301336</td>\n",
       "      <td>0.873</td>\n",
       "      <td>Europe</td>\n",
       "    </tr>\n",
       "    <tr>\n",
       "      <th>Japan</th>\n",
       "      <td>127.0</td>\n",
       "      <td>4602367.0</td>\n",
       "      <td>377930</td>\n",
       "      <td>0.891</td>\n",
       "      <td>Asia</td>\n",
       "    </tr>\n",
       "    <tr>\n",
       "      <th>United Kingdom</th>\n",
       "      <td>64.5</td>\n",
       "      <td>NaN</td>\n",
       "      <td>242495</td>\n",
       "      <td>0.907</td>\n",
       "      <td>Europe</td>\n",
       "    </tr>\n",
       "    <tr>\n",
       "      <th>United States</th>\n",
       "      <td>318.5</td>\n",
       "      <td>17348075.0</td>\n",
       "      <td>9525067</td>\n",
       "      <td>0.915</td>\n",
       "      <td>America</td>\n",
       "    </tr>\n",
       "  </tbody>\n",
       "</table>\n",
       "</div>"
      ],
      "text/plain": [
       "                Population         GDP  Surface Area    HDI Continent\n",
       "Canada                35.5         NaN       9984670  0.913   America\n",
       "France                63.9         NaN        640679  0.888    Europe\n",
       "Germany               80.9   3874437.0        357114  0.916    Europe\n",
       "Italy                 60.6         NaN        301336  0.873    Europe\n",
       "Japan                127.0   4602367.0        377930  0.891      Asia\n",
       "United Kingdom        64.5         NaN        242495  0.907    Europe\n",
       "United States        318.5  17348075.0       9525067  0.915   America"
      ]
     },
     "execution_count": 94,
     "metadata": {},
     "output_type": "execute_result"
    }
   ],
   "source": [
    "df"
   ]
  },
  {
   "cell_type": "markdown",
   "id": "e2aff0e3-c123-423e-b851-55498487d334",
   "metadata": {},
   "source": [
    "## Counting things\n",
    "\n",
    "there are two handy methods to get summaries of columns in data frames. Please note that these will also work on series "
   ]
  },
  {
   "cell_type": "code",
   "execution_count": 90,
   "id": "29eca432-972f-4d20-8c2f-b1bbb5726dce",
   "metadata": {},
   "outputs": [
    {
     "data": {
      "text/plain": [
       "array(['America', 'Europe', 'Asia'], dtype=object)"
      ]
     },
     "execution_count": 90,
     "metadata": {},
     "output_type": "execute_result"
    }
   ],
   "source": [
    "df['Continent'].unique()"
   ]
  },
  {
   "cell_type": "markdown",
   "id": "883cd5d3-4237-464f-bec4-f0d89bce1837",
   "metadata": {},
   "source": [
    "this could be used to find the number of körningar gjord i en månad\n"
   ]
  },
  {
   "cell_type": "code",
   "execution_count": 91,
   "id": "a225bd18-9f7f-4312-9ef6-df1342b68f2a",
   "metadata": {},
   "outputs": [
    {
     "data": {
      "text/plain": [
       "Europe     4\n",
       "America    2\n",
       "Asia       1\n",
       "Name: Continent, dtype: int64"
      ]
     },
     "execution_count": 91,
     "metadata": {},
     "output_type": "execute_result"
    }
   ],
   "source": [
    "df['Continent'].value_counts()"
   ]
  },
  {
   "cell_type": "code",
   "execution_count": 95,
   "id": "0b43e28f-c7c8-4c10-8b78-9e86b954edaa",
   "metadata": {},
   "outputs": [
    {
     "data": {
      "text/plain": [
       "Europe     0.571429\n",
       "America    0.285714\n",
       "Asia       0.142857\n",
       "Name: Continent, dtype: float64"
      ]
     },
     "execution_count": 95,
     "metadata": {},
     "output_type": "execute_result"
    }
   ],
   "source": [
    "df['Continent'].value_counts() / df.shape[0]"
   ]
  },
  {
   "cell_type": "code",
   "execution_count": null,
   "id": "31df75b2-98d3-43a4-847e-7beba8285aeb",
   "metadata": {},
   "outputs": [],
   "source": [
    "df.head(3)"
   ]
  },
  {
   "cell_type": "code",
   "execution_count": null,
   "id": "2884bf90-8519-4ac4-9e72-2cd998fbeabc",
   "metadata": {},
   "outputs": [],
   "source": [
    "df.tail(3)"
   ]
  },
  {
   "cell_type": "code",
   "execution_count": 96,
   "id": "83c7815c-b5bb-4dcf-a0bd-91d8d62e21d2",
   "metadata": {},
   "outputs": [
    {
     "data": {
      "text/plain": [
       "Canada                     NaN\n",
       "France                     NaN\n",
       "Germany           47891.681088\n",
       "Italy                      NaN\n",
       "Japan             36239.110236\n",
       "United Kingdom             NaN\n",
       "United States     54468.053375\n",
       "dtype: float64"
      ]
     },
     "execution_count": 96,
     "metadata": {},
     "output_type": "execute_result"
    }
   ],
   "source": [
    "df['GDP'] / df['Population']"
   ]
  },
  {
   "cell_type": "code",
   "execution_count": 97,
   "id": "2a03c60c-c16e-41f1-92f0-40e21b9695e6",
   "metadata": {},
   "outputs": [
    {
     "data": {
      "text/html": [
       "<div>\n",
       "<style scoped>\n",
       "    .dataframe tbody tr th:only-of-type {\n",
       "        vertical-align: middle;\n",
       "    }\n",
       "\n",
       "    .dataframe tbody tr th {\n",
       "        vertical-align: top;\n",
       "    }\n",
       "\n",
       "    .dataframe thead th {\n",
       "        text-align: right;\n",
       "    }\n",
       "</style>\n",
       "<table border=\"1\" class=\"dataframe\">\n",
       "  <thead>\n",
       "    <tr style=\"text-align: right;\">\n",
       "      <th></th>\n",
       "      <th>GDP</th>\n",
       "      <th>HDI</th>\n",
       "    </tr>\n",
       "  </thead>\n",
       "  <tbody>\n",
       "    <tr>\n",
       "      <th>Canada</th>\n",
       "      <td>NaN</td>\n",
       "      <td>0.913</td>\n",
       "    </tr>\n",
       "    <tr>\n",
       "      <th>France</th>\n",
       "      <td>NaN</td>\n",
       "      <td>0.888</td>\n",
       "    </tr>\n",
       "    <tr>\n",
       "      <th>Germany</th>\n",
       "      <td>3874437.0</td>\n",
       "      <td>0.916</td>\n",
       "    </tr>\n",
       "    <tr>\n",
       "      <th>Italy</th>\n",
       "      <td>NaN</td>\n",
       "      <td>0.873</td>\n",
       "    </tr>\n",
       "    <tr>\n",
       "      <th>Japan</th>\n",
       "      <td>4602367.0</td>\n",
       "      <td>0.891</td>\n",
       "    </tr>\n",
       "    <tr>\n",
       "      <th>United Kingdom</th>\n",
       "      <td>NaN</td>\n",
       "      <td>0.907</td>\n",
       "    </tr>\n",
       "    <tr>\n",
       "      <th>United States</th>\n",
       "      <td>17348075.0</td>\n",
       "      <td>0.915</td>\n",
       "    </tr>\n",
       "  </tbody>\n",
       "</table>\n",
       "</div>"
      ],
      "text/plain": [
       "                       GDP    HDI\n",
       "Canada                 NaN  0.913\n",
       "France                 NaN  0.888\n",
       "Germany          3874437.0  0.916\n",
       "Italy                  NaN  0.873\n",
       "Japan            4602367.0  0.891\n",
       "United Kingdom         NaN  0.907\n",
       "United States   17348075.0  0.915"
      ]
     },
     "execution_count": 97,
     "metadata": {},
     "output_type": "execute_result"
    }
   ],
   "source": [
    "df[['GDP','HDI']]"
   ]
  },
  {
   "cell_type": "code",
   "execution_count": 100,
   "id": "b48d5202-32ab-44f9-9f0a-c36046d85fd5",
   "metadata": {},
   "outputs": [
    {
     "data": {
      "text/plain": [
       "GDP   -1000000.0\n",
       "HDI         -0.3\n",
       "dtype: float64"
      ]
     },
     "execution_count": 100,
     "metadata": {},
     "output_type": "execute_result"
    }
   ],
   "source": [
    "crisis = pd.Series([-1_000_000, -0.3], index=['GDP','HDI'])\n",
    "\n",
    "crisis"
   ]
  },
  {
   "cell_type": "code",
   "execution_count": 101,
   "id": "507df885-2de1-4efc-978f-c421b5ae82ef",
   "metadata": {},
   "outputs": [
    {
     "data": {
      "text/html": [
       "<div>\n",
       "<style scoped>\n",
       "    .dataframe tbody tr th:only-of-type {\n",
       "        vertical-align: middle;\n",
       "    }\n",
       "\n",
       "    .dataframe tbody tr th {\n",
       "        vertical-align: top;\n",
       "    }\n",
       "\n",
       "    .dataframe thead th {\n",
       "        text-align: right;\n",
       "    }\n",
       "</style>\n",
       "<table border=\"1\" class=\"dataframe\">\n",
       "  <thead>\n",
       "    <tr style=\"text-align: right;\">\n",
       "      <th></th>\n",
       "      <th>GDP</th>\n",
       "      <th>HDI</th>\n",
       "    </tr>\n",
       "  </thead>\n",
       "  <tbody>\n",
       "    <tr>\n",
       "      <th>Canada</th>\n",
       "      <td>NaN</td>\n",
       "      <td>0.613</td>\n",
       "    </tr>\n",
       "    <tr>\n",
       "      <th>France</th>\n",
       "      <td>NaN</td>\n",
       "      <td>0.588</td>\n",
       "    </tr>\n",
       "    <tr>\n",
       "      <th>Germany</th>\n",
       "      <td>2874437.0</td>\n",
       "      <td>0.616</td>\n",
       "    </tr>\n",
       "    <tr>\n",
       "      <th>Italy</th>\n",
       "      <td>NaN</td>\n",
       "      <td>0.573</td>\n",
       "    </tr>\n",
       "    <tr>\n",
       "      <th>Japan</th>\n",
       "      <td>3602367.0</td>\n",
       "      <td>0.591</td>\n",
       "    </tr>\n",
       "    <tr>\n",
       "      <th>United Kingdom</th>\n",
       "      <td>NaN</td>\n",
       "      <td>0.607</td>\n",
       "    </tr>\n",
       "    <tr>\n",
       "      <th>United States</th>\n",
       "      <td>16348075.0</td>\n",
       "      <td>0.615</td>\n",
       "    </tr>\n",
       "  </tbody>\n",
       "</table>\n",
       "</div>"
      ],
      "text/plain": [
       "                       GDP    HDI\n",
       "Canada                 NaN  0.613\n",
       "France                 NaN  0.588\n",
       "Germany          2874437.0  0.616\n",
       "Italy                  NaN  0.573\n",
       "Japan            3602367.0  0.591\n",
       "United Kingdom         NaN  0.607\n",
       "United States   16348075.0  0.615"
      ]
     },
     "execution_count": 101,
     "metadata": {},
     "output_type": "execute_result"
    }
   ],
   "source": [
    "df[['GDP','HDI']] + crisis"
   ]
  },
  {
   "cell_type": "code",
   "execution_count": 102,
   "id": "bf5c9650-9f06-4311-a69e-428ae092dfbd",
   "metadata": {},
   "outputs": [
    {
     "data": {
      "text/html": [
       "<div>\n",
       "<style scoped>\n",
       "    .dataframe tbody tr th:only-of-type {\n",
       "        vertical-align: middle;\n",
       "    }\n",
       "\n",
       "    .dataframe tbody tr th {\n",
       "        vertical-align: top;\n",
       "    }\n",
       "\n",
       "    .dataframe thead th {\n",
       "        text-align: right;\n",
       "    }\n",
       "</style>\n",
       "<table border=\"1\" class=\"dataframe\">\n",
       "  <thead>\n",
       "    <tr style=\"text-align: right;\">\n",
       "      <th></th>\n",
       "      <th>Population</th>\n",
       "      <th>GDP</th>\n",
       "      <th>Surface Area</th>\n",
       "      <th>HDI</th>\n",
       "    </tr>\n",
       "  </thead>\n",
       "  <tbody>\n",
       "    <tr>\n",
       "      <th>count</th>\n",
       "      <td>7.000000</td>\n",
       "      <td>3.000000e+00</td>\n",
       "      <td>7.000000e+00</td>\n",
       "      <td>7.000000</td>\n",
       "    </tr>\n",
       "    <tr>\n",
       "      <th>mean</th>\n",
       "      <td>107.271429</td>\n",
       "      <td>8.608293e+06</td>\n",
       "      <td>3.061327e+06</td>\n",
       "      <td>0.900429</td>\n",
       "    </tr>\n",
       "    <tr>\n",
       "      <th>std</th>\n",
       "      <td>97.247120</td>\n",
       "      <td>7.577619e+06</td>\n",
       "      <td>4.576187e+06</td>\n",
       "      <td>0.016592</td>\n",
       "    </tr>\n",
       "    <tr>\n",
       "      <th>min</th>\n",
       "      <td>35.500000</td>\n",
       "      <td>3.874437e+06</td>\n",
       "      <td>2.424950e+05</td>\n",
       "      <td>0.873000</td>\n",
       "    </tr>\n",
       "    <tr>\n",
       "      <th>25%</th>\n",
       "      <td>62.250000</td>\n",
       "      <td>4.238402e+06</td>\n",
       "      <td>3.292250e+05</td>\n",
       "      <td>0.889500</td>\n",
       "    </tr>\n",
       "    <tr>\n",
       "      <th>50%</th>\n",
       "      <td>64.500000</td>\n",
       "      <td>4.602367e+06</td>\n",
       "      <td>3.779300e+05</td>\n",
       "      <td>0.907000</td>\n",
       "    </tr>\n",
       "    <tr>\n",
       "      <th>75%</th>\n",
       "      <td>103.950000</td>\n",
       "      <td>1.097522e+07</td>\n",
       "      <td>5.082873e+06</td>\n",
       "      <td>0.914000</td>\n",
       "    </tr>\n",
       "    <tr>\n",
       "      <th>max</th>\n",
       "      <td>318.500000</td>\n",
       "      <td>1.734808e+07</td>\n",
       "      <td>9.984670e+06</td>\n",
       "      <td>0.916000</td>\n",
       "    </tr>\n",
       "  </tbody>\n",
       "</table>\n",
       "</div>"
      ],
      "text/plain": [
       "       Population           GDP  Surface Area       HDI\n",
       "count    7.000000  3.000000e+00  7.000000e+00  7.000000\n",
       "mean   107.271429  8.608293e+06  3.061327e+06  0.900429\n",
       "std     97.247120  7.577619e+06  4.576187e+06  0.016592\n",
       "min     35.500000  3.874437e+06  2.424950e+05  0.873000\n",
       "25%     62.250000  4.238402e+06  3.292250e+05  0.889500\n",
       "50%     64.500000  4.602367e+06  3.779300e+05  0.907000\n",
       "75%    103.950000  1.097522e+07  5.082873e+06  0.914000\n",
       "max    318.500000  1.734808e+07  9.984670e+06  0.916000"
      ]
     },
     "execution_count": 102,
     "metadata": {},
     "output_type": "execute_result"
    }
   ],
   "source": [
    "df.describe()"
   ]
  },
  {
   "cell_type": "markdown",
   "id": "90241acc-ed1b-47e6-888d-b2908ee2f230",
   "metadata": {},
   "source": [
    "## Sorting"
   ]
  },
  {
   "cell_type": "code",
   "execution_count": 104,
   "id": "cd5e0c3c-284f-45d9-9faf-08bc121561a1",
   "metadata": {},
   "outputs": [
    {
     "data": {
      "text/html": [
       "<div>\n",
       "<style scoped>\n",
       "    .dataframe tbody tr th:only-of-type {\n",
       "        vertical-align: middle;\n",
       "    }\n",
       "\n",
       "    .dataframe tbody tr th {\n",
       "        vertical-align: top;\n",
       "    }\n",
       "\n",
       "    .dataframe thead th {\n",
       "        text-align: right;\n",
       "    }\n",
       "</style>\n",
       "<table border=\"1\" class=\"dataframe\">\n",
       "  <thead>\n",
       "    <tr style=\"text-align: right;\">\n",
       "      <th></th>\n",
       "      <th>Population</th>\n",
       "      <th>GDP</th>\n",
       "      <th>Surface Area</th>\n",
       "      <th>HDI</th>\n",
       "      <th>Continent</th>\n",
       "    </tr>\n",
       "  </thead>\n",
       "  <tbody>\n",
       "    <tr>\n",
       "      <th>Canada</th>\n",
       "      <td>35.5</td>\n",
       "      <td>NaN</td>\n",
       "      <td>9984670</td>\n",
       "      <td>0.913</td>\n",
       "      <td>America</td>\n",
       "    </tr>\n",
       "    <tr>\n",
       "      <th>Italy</th>\n",
       "      <td>60.6</td>\n",
       "      <td>NaN</td>\n",
       "      <td>301336</td>\n",
       "      <td>0.873</td>\n",
       "      <td>Europe</td>\n",
       "    </tr>\n",
       "    <tr>\n",
       "      <th>France</th>\n",
       "      <td>63.9</td>\n",
       "      <td>NaN</td>\n",
       "      <td>640679</td>\n",
       "      <td>0.888</td>\n",
       "      <td>Europe</td>\n",
       "    </tr>\n",
       "    <tr>\n",
       "      <th>United Kingdom</th>\n",
       "      <td>64.5</td>\n",
       "      <td>NaN</td>\n",
       "      <td>242495</td>\n",
       "      <td>0.907</td>\n",
       "      <td>Europe</td>\n",
       "    </tr>\n",
       "    <tr>\n",
       "      <th>Germany</th>\n",
       "      <td>80.9</td>\n",
       "      <td>3874437.0</td>\n",
       "      <td>357114</td>\n",
       "      <td>0.916</td>\n",
       "      <td>Europe</td>\n",
       "    </tr>\n",
       "    <tr>\n",
       "      <th>Japan</th>\n",
       "      <td>127.0</td>\n",
       "      <td>4602367.0</td>\n",
       "      <td>377930</td>\n",
       "      <td>0.891</td>\n",
       "      <td>Asia</td>\n",
       "    </tr>\n",
       "    <tr>\n",
       "      <th>United States</th>\n",
       "      <td>318.5</td>\n",
       "      <td>17348075.0</td>\n",
       "      <td>9525067</td>\n",
       "      <td>0.915</td>\n",
       "      <td>America</td>\n",
       "    </tr>\n",
       "  </tbody>\n",
       "</table>\n",
       "</div>"
      ],
      "text/plain": [
       "                Population         GDP  Surface Area    HDI Continent\n",
       "Canada                35.5         NaN       9984670  0.913   America\n",
       "Italy                 60.6         NaN        301336  0.873    Europe\n",
       "France                63.9         NaN        640679  0.888    Europe\n",
       "United Kingdom        64.5         NaN        242495  0.907    Europe\n",
       "Germany               80.9   3874437.0        357114  0.916    Europe\n",
       "Japan                127.0   4602367.0        377930  0.891      Asia\n",
       "United States        318.5  17348075.0       9525067  0.915   America"
      ]
     },
     "execution_count": 104,
     "metadata": {},
     "output_type": "execute_result"
    }
   ],
   "source": [
    "df.sort_values(['Population'])"
   ]
  },
  {
   "cell_type": "code",
   "execution_count": 109,
   "id": "0b21f351-e92e-4e87-821f-f3e1fc4d529e",
   "metadata": {},
   "outputs": [
    {
     "data": {
      "text/html": [
       "<div>\n",
       "<style scoped>\n",
       "    .dataframe tbody tr th:only-of-type {\n",
       "        vertical-align: middle;\n",
       "    }\n",
       "\n",
       "    .dataframe tbody tr th {\n",
       "        vertical-align: top;\n",
       "    }\n",
       "\n",
       "    .dataframe thead th {\n",
       "        text-align: right;\n",
       "    }\n",
       "</style>\n",
       "<table border=\"1\" class=\"dataframe\">\n",
       "  <thead>\n",
       "    <tr style=\"text-align: right;\">\n",
       "      <th></th>\n",
       "      <th>Population</th>\n",
       "      <th>GDP</th>\n",
       "      <th>Surface Area</th>\n",
       "      <th>HDI</th>\n",
       "      <th>Continent</th>\n",
       "    </tr>\n",
       "  </thead>\n",
       "  <tbody>\n",
       "    <tr>\n",
       "      <th>United States</th>\n",
       "      <td>318.5</td>\n",
       "      <td>17348075.0</td>\n",
       "      <td>9525067</td>\n",
       "      <td>0.915</td>\n",
       "      <td>America</td>\n",
       "    </tr>\n",
       "    <tr>\n",
       "      <th>Japan</th>\n",
       "      <td>127.0</td>\n",
       "      <td>4602367.0</td>\n",
       "      <td>377930</td>\n",
       "      <td>0.891</td>\n",
       "      <td>Asia</td>\n",
       "    </tr>\n",
       "    <tr>\n",
       "      <th>Germany</th>\n",
       "      <td>80.9</td>\n",
       "      <td>3874437.0</td>\n",
       "      <td>357114</td>\n",
       "      <td>0.916</td>\n",
       "      <td>Europe</td>\n",
       "    </tr>\n",
       "    <tr>\n",
       "      <th>United Kingdom</th>\n",
       "      <td>64.5</td>\n",
       "      <td>NaN</td>\n",
       "      <td>242495</td>\n",
       "      <td>0.907</td>\n",
       "      <td>Europe</td>\n",
       "    </tr>\n",
       "    <tr>\n",
       "      <th>France</th>\n",
       "      <td>63.9</td>\n",
       "      <td>NaN</td>\n",
       "      <td>640679</td>\n",
       "      <td>0.888</td>\n",
       "      <td>Europe</td>\n",
       "    </tr>\n",
       "    <tr>\n",
       "      <th>Italy</th>\n",
       "      <td>60.6</td>\n",
       "      <td>NaN</td>\n",
       "      <td>301336</td>\n",
       "      <td>0.873</td>\n",
       "      <td>Europe</td>\n",
       "    </tr>\n",
       "    <tr>\n",
       "      <th>Canada</th>\n",
       "      <td>35.5</td>\n",
       "      <td>NaN</td>\n",
       "      <td>9984670</td>\n",
       "      <td>0.913</td>\n",
       "      <td>America</td>\n",
       "    </tr>\n",
       "  </tbody>\n",
       "</table>\n",
       "</div>"
      ],
      "text/plain": [
       "                Population         GDP  Surface Area    HDI Continent\n",
       "United States        318.5  17348075.0       9525067  0.915   America\n",
       "Japan                127.0   4602367.0        377930  0.891      Asia\n",
       "Germany               80.9   3874437.0        357114  0.916    Europe\n",
       "United Kingdom        64.5         NaN        242495  0.907    Europe\n",
       "France                63.9         NaN        640679  0.888    Europe\n",
       "Italy                 60.6         NaN        301336  0.873    Europe\n",
       "Canada                35.5         NaN       9984670  0.913   America"
      ]
     },
     "execution_count": 109,
     "metadata": {},
     "output_type": "execute_result"
    }
   ],
   "source": [
    "df.sort_values(['Population'], ascending=False)"
   ]
  },
  {
   "cell_type": "markdown",
   "id": "f7b63c0b-0e7f-41c8-850b-81bc96b4730b",
   "metadata": {},
   "source": [
    "df.sort_values(['Population'], ascending=False, inplace=True)\n",
    "\n",
    "the above code **will** modify the original DataFrame"
   ]
  },
  {
   "cell_type": "code",
   "execution_count": 111,
   "id": "a16c7123-6a9e-45b3-be93-5fea2026523c",
   "metadata": {},
   "outputs": [
    {
     "data": {
      "text/html": [
       "<div>\n",
       "<style scoped>\n",
       "    .dataframe tbody tr th:only-of-type {\n",
       "        vertical-align: middle;\n",
       "    }\n",
       "\n",
       "    .dataframe tbody tr th {\n",
       "        vertical-align: top;\n",
       "    }\n",
       "\n",
       "    .dataframe thead th {\n",
       "        text-align: right;\n",
       "    }\n",
       "</style>\n",
       "<table border=\"1\" class=\"dataframe\">\n",
       "  <thead>\n",
       "    <tr style=\"text-align: right;\">\n",
       "      <th></th>\n",
       "      <th>Population</th>\n",
       "      <th>GDP</th>\n",
       "      <th>Surface Area</th>\n",
       "      <th>HDI</th>\n",
       "      <th>Continent</th>\n",
       "    </tr>\n",
       "  </thead>\n",
       "  <tbody>\n",
       "    <tr>\n",
       "      <th>France</th>\n",
       "      <td>63.9</td>\n",
       "      <td>NaN</td>\n",
       "      <td>640679</td>\n",
       "      <td>0.888</td>\n",
       "      <td>Europe</td>\n",
       "    </tr>\n",
       "    <tr>\n",
       "      <th>Germany</th>\n",
       "      <td>80.9</td>\n",
       "      <td>3874437.0</td>\n",
       "      <td>357114</td>\n",
       "      <td>0.916</td>\n",
       "      <td>Europe</td>\n",
       "    </tr>\n",
       "    <tr>\n",
       "      <th>Italy</th>\n",
       "      <td>60.6</td>\n",
       "      <td>NaN</td>\n",
       "      <td>301336</td>\n",
       "      <td>0.873</td>\n",
       "      <td>Europe</td>\n",
       "    </tr>\n",
       "    <tr>\n",
       "      <th>Canada</th>\n",
       "      <td>35.5</td>\n",
       "      <td>NaN</td>\n",
       "      <td>9984670</td>\n",
       "      <td>0.913</td>\n",
       "      <td>America</td>\n",
       "    </tr>\n",
       "    <tr>\n",
       "      <th>United Kingdom</th>\n",
       "      <td>64.5</td>\n",
       "      <td>NaN</td>\n",
       "      <td>242495</td>\n",
       "      <td>0.907</td>\n",
       "      <td>Europe</td>\n",
       "    </tr>\n",
       "    <tr>\n",
       "      <th>United States</th>\n",
       "      <td>318.5</td>\n",
       "      <td>17348075.0</td>\n",
       "      <td>9525067</td>\n",
       "      <td>0.915</td>\n",
       "      <td>America</td>\n",
       "    </tr>\n",
       "  </tbody>\n",
       "</table>\n",
       "</div>"
      ],
      "text/plain": [
       "                Population         GDP  Surface Area    HDI Continent\n",
       "France                63.9         NaN        640679  0.888    Europe\n",
       "Germany               80.9   3874437.0        357114  0.916    Europe\n",
       "Italy                 60.6         NaN        301336  0.873    Europe\n",
       "Canada                35.5         NaN       9984670  0.913   America\n",
       "United Kingdom        64.5         NaN        242495  0.907    Europe\n",
       "United States        318.5  17348075.0       9525067  0.915   America"
      ]
     },
     "execution_count": 111,
     "metadata": {},
     "output_type": "execute_result"
    }
   ],
   "source": [
    "#To reorder the curent dataframe index you can use df.reindex\n",
    "df.reindex(['France',\n",
    "            'Germany',\n",
    "            'Italy',\n",
    "            'Canada',\n",
    "            'United Kingdom',\n",
    "            'United States'])"
   ]
  },
  {
   "cell_type": "code",
   "execution_count": 112,
   "id": "76c34188-5eff-4d3a-b6a4-fa0f7f28702a",
   "metadata": {},
   "outputs": [
    {
     "data": {
      "text/html": [
       "<div>\n",
       "<style scoped>\n",
       "    .dataframe tbody tr th:only-of-type {\n",
       "        vertical-align: middle;\n",
       "    }\n",
       "\n",
       "    .dataframe tbody tr th {\n",
       "        vertical-align: top;\n",
       "    }\n",
       "\n",
       "    .dataframe thead th {\n",
       "        text-align: right;\n",
       "    }\n",
       "</style>\n",
       "<table border=\"1\" class=\"dataframe\">\n",
       "  <thead>\n",
       "    <tr style=\"text-align: right;\">\n",
       "      <th></th>\n",
       "      <th>Population</th>\n",
       "      <th>GDP</th>\n",
       "      <th>Surface Area</th>\n",
       "      <th>HDI</th>\n",
       "      <th>Continent</th>\n",
       "    </tr>\n",
       "  </thead>\n",
       "  <tbody>\n",
       "    <tr>\n",
       "      <th>France</th>\n",
       "      <td>63.9</td>\n",
       "      <td>NaN</td>\n",
       "      <td>640679.0</td>\n",
       "      <td>0.888</td>\n",
       "      <td>Europe</td>\n",
       "    </tr>\n",
       "    <tr>\n",
       "      <th>Germany</th>\n",
       "      <td>80.9</td>\n",
       "      <td>3874437.0</td>\n",
       "      <td>357114.0</td>\n",
       "      <td>0.916</td>\n",
       "      <td>Europe</td>\n",
       "    </tr>\n",
       "    <tr>\n",
       "      <th>Italy</th>\n",
       "      <td>60.6</td>\n",
       "      <td>NaN</td>\n",
       "      <td>301336.0</td>\n",
       "      <td>0.873</td>\n",
       "      <td>Europe</td>\n",
       "    </tr>\n",
       "    <tr>\n",
       "      <th>Canada</th>\n",
       "      <td>35.5</td>\n",
       "      <td>NaN</td>\n",
       "      <td>9984670.0</td>\n",
       "      <td>0.913</td>\n",
       "      <td>America</td>\n",
       "    </tr>\n",
       "    <tr>\n",
       "      <th>United Kingdom</th>\n",
       "      <td>64.5</td>\n",
       "      <td>NaN</td>\n",
       "      <td>242495.0</td>\n",
       "      <td>0.907</td>\n",
       "      <td>Europe</td>\n",
       "    </tr>\n",
       "    <tr>\n",
       "      <th>United States</th>\n",
       "      <td>318.5</td>\n",
       "      <td>17348075.0</td>\n",
       "      <td>9525067.0</td>\n",
       "      <td>0.915</td>\n",
       "      <td>America</td>\n",
       "    </tr>\n",
       "    <tr>\n",
       "      <th>Brazil</th>\n",
       "      <td>NaN</td>\n",
       "      <td>NaN</td>\n",
       "      <td>NaN</td>\n",
       "      <td>NaN</td>\n",
       "      <td>NaN</td>\n",
       "    </tr>\n",
       "  </tbody>\n",
       "</table>\n",
       "</div>"
      ],
      "text/plain": [
       "                Population         GDP  Surface Area    HDI Continent\n",
       "France                63.9         NaN      640679.0  0.888    Europe\n",
       "Germany               80.9   3874437.0      357114.0  0.916    Europe\n",
       "Italy                 60.6         NaN      301336.0  0.873    Europe\n",
       "Canada                35.5         NaN     9984670.0  0.913   America\n",
       "United Kingdom        64.5         NaN      242495.0  0.907    Europe\n",
       "United States        318.5  17348075.0     9525067.0  0.915   America\n",
       "Brazil                 NaN         NaN           NaN    NaN       NaN"
      ]
     },
     "execution_count": 112,
     "metadata": {},
     "output_type": "execute_result"
    }
   ],
   "source": [
    "#To add a new dataindex\n",
    "df.reindex(['France',\n",
    "            'Germany',\n",
    "            'Italy',\n",
    "            'Canada',\n",
    "            'United Kingdom',\n",
    "            'United States',\n",
    "           'Brazil'])"
   ]
  },
  {
   "cell_type": "code",
   "execution_count": 113,
   "id": "106ad0b2-c324-4106-a2a4-82982ada32a7",
   "metadata": {},
   "outputs": [
    {
     "data": {
      "text/html": [
       "<div>\n",
       "<style scoped>\n",
       "    .dataframe tbody tr th:only-of-type {\n",
       "        vertical-align: middle;\n",
       "    }\n",
       "\n",
       "    .dataframe tbody tr th {\n",
       "        vertical-align: top;\n",
       "    }\n",
       "\n",
       "    .dataframe thead th {\n",
       "        text-align: right;\n",
       "    }\n",
       "</style>\n",
       "<table border=\"1\" class=\"dataframe\">\n",
       "  <thead>\n",
       "    <tr style=\"text-align: right;\">\n",
       "      <th></th>\n",
       "      <th>Population</th>\n",
       "      <th>GDP</th>\n",
       "      <th>Surface Area</th>\n",
       "      <th>HDI</th>\n",
       "      <th>Continent</th>\n",
       "    </tr>\n",
       "  </thead>\n",
       "  <tbody>\n",
       "    <tr>\n",
       "      <th>France</th>\n",
       "      <td>63.9</td>\n",
       "      <td>NaN</td>\n",
       "      <td>640679</td>\n",
       "      <td>0.888</td>\n",
       "      <td>Europe</td>\n",
       "    </tr>\n",
       "    <tr>\n",
       "      <th>Germany</th>\n",
       "      <td>80.9</td>\n",
       "      <td>3874437.0</td>\n",
       "      <td>357114</td>\n",
       "      <td>0.916</td>\n",
       "      <td>Europe</td>\n",
       "    </tr>\n",
       "    <tr>\n",
       "      <th>Italy</th>\n",
       "      <td>60.6</td>\n",
       "      <td>NaN</td>\n",
       "      <td>301336</td>\n",
       "      <td>0.873</td>\n",
       "      <td>Europe</td>\n",
       "    </tr>\n",
       "    <tr>\n",
       "      <th>Canada</th>\n",
       "      <td>35.5</td>\n",
       "      <td>NaN</td>\n",
       "      <td>9984670</td>\n",
       "      <td>0.913</td>\n",
       "      <td>America</td>\n",
       "    </tr>\n",
       "    <tr>\n",
       "      <th>United Kingdom</th>\n",
       "      <td>64.5</td>\n",
       "      <td>NaN</td>\n",
       "      <td>242495</td>\n",
       "      <td>0.907</td>\n",
       "      <td>Europe</td>\n",
       "    </tr>\n",
       "    <tr>\n",
       "      <th>United States</th>\n",
       "      <td>318.5</td>\n",
       "      <td>17348075.0</td>\n",
       "      <td>9525067</td>\n",
       "      <td>0.915</td>\n",
       "      <td>America</td>\n",
       "    </tr>\n",
       "    <tr>\n",
       "      <th>Brazil</th>\n",
       "      <td>0.0</td>\n",
       "      <td>0.0</td>\n",
       "      <td>0</td>\n",
       "      <td>0.000</td>\n",
       "      <td>0</td>\n",
       "    </tr>\n",
       "  </tbody>\n",
       "</table>\n",
       "</div>"
      ],
      "text/plain": [
       "                Population         GDP  Surface Area    HDI Continent\n",
       "France                63.9         NaN        640679  0.888    Europe\n",
       "Germany               80.9   3874437.0        357114  0.916    Europe\n",
       "Italy                 60.6         NaN        301336  0.873    Europe\n",
       "Canada                35.5         NaN       9984670  0.913   America\n",
       "United Kingdom        64.5         NaN        242495  0.907    Europe\n",
       "United States        318.5  17348075.0       9525067  0.915   America\n",
       "Brazil                 0.0         0.0             0  0.000         0"
      ]
     },
     "execution_count": 113,
     "metadata": {},
     "output_type": "execute_result"
    }
   ],
   "source": [
    "#To add a new dataindex\n",
    "df.reindex(['France',\n",
    "            'Germany',\n",
    "            'Italy',\n",
    "            'Canada',\n",
    "            'United Kingdom',\n",
    "            'United States',\n",
    "           'Brazil'], fill_value=0)"
   ]
  },
  {
   "cell_type": "markdown",
   "id": "4a80744f-280e-4f51-94d4-0ffbf83daeac",
   "metadata": {},
   "source": [
    "df.loc['Currency']\n",
    "\n",
    "vs\n",
    "\n",
    "df['Currency']"
   ]
  },
  {
   "cell_type": "code",
   "execution_count": 117,
   "id": "960ecf7a-41a9-4a46-ae9a-3870ed30948c",
   "metadata": {},
   "outputs": [
    {
     "data": {
      "text/html": [
       "<div>\n",
       "<style scoped>\n",
       "    .dataframe tbody tr th:only-of-type {\n",
       "        vertical-align: middle;\n",
       "    }\n",
       "\n",
       "    .dataframe tbody tr th {\n",
       "        vertical-align: top;\n",
       "    }\n",
       "\n",
       "    .dataframe thead th {\n",
       "        text-align: right;\n",
       "    }\n",
       "</style>\n",
       "<table border=\"1\" class=\"dataframe\">\n",
       "  <thead>\n",
       "    <tr style=\"text-align: right;\">\n",
       "      <th></th>\n",
       "      <th>Population</th>\n",
       "      <th>GDP</th>\n",
       "      <th>Surface Area</th>\n",
       "      <th>HDI</th>\n",
       "      <th>Continent</th>\n",
       "      <th>Currency</th>\n",
       "    </tr>\n",
       "  </thead>\n",
       "  <tbody>\n",
       "    <tr>\n",
       "      <th>Canada</th>\n",
       "      <td>35.5</td>\n",
       "      <td>NaN</td>\n",
       "      <td>9984670</td>\n",
       "      <td>0.913</td>\n",
       "      <td>America</td>\n",
       "      <td>Euro</td>\n",
       "    </tr>\n",
       "    <tr>\n",
       "      <th>France</th>\n",
       "      <td>63.9</td>\n",
       "      <td>NaN</td>\n",
       "      <td>640679</td>\n",
       "      <td>0.888</td>\n",
       "      <td>Europe</td>\n",
       "      <td>Euro</td>\n",
       "    </tr>\n",
       "    <tr>\n",
       "      <th>Germany</th>\n",
       "      <td>80.9</td>\n",
       "      <td>3874437.0</td>\n",
       "      <td>357114</td>\n",
       "      <td>0.916</td>\n",
       "      <td>Europe</td>\n",
       "      <td>Euro</td>\n",
       "    </tr>\n",
       "    <tr>\n",
       "      <th>Italy</th>\n",
       "      <td>60.6</td>\n",
       "      <td>NaN</td>\n",
       "      <td>301336</td>\n",
       "      <td>0.873</td>\n",
       "      <td>Europe</td>\n",
       "      <td>Canadian Dollar</td>\n",
       "    </tr>\n",
       "    <tr>\n",
       "      <th>Japan</th>\n",
       "      <td>127.0</td>\n",
       "      <td>4602367.0</td>\n",
       "      <td>377930</td>\n",
       "      <td>0.891</td>\n",
       "      <td>Asia</td>\n",
       "      <td>Pund Sterling</td>\n",
       "    </tr>\n",
       "    <tr>\n",
       "      <th>United Kingdom</th>\n",
       "      <td>64.5</td>\n",
       "      <td>NaN</td>\n",
       "      <td>242495</td>\n",
       "      <td>0.907</td>\n",
       "      <td>Europe</td>\n",
       "      <td>American Dollar</td>\n",
       "    </tr>\n",
       "    <tr>\n",
       "      <th>United States</th>\n",
       "      <td>318.5</td>\n",
       "      <td>17348075.0</td>\n",
       "      <td>9525067</td>\n",
       "      <td>0.915</td>\n",
       "      <td>America</td>\n",
       "      <td>Real</td>\n",
       "    </tr>\n",
       "  </tbody>\n",
       "</table>\n",
       "</div>"
      ],
      "text/plain": [
       "                Population         GDP  Surface Area    HDI Continent  \\\n",
       "Canada                35.5         NaN       9984670  0.913   America   \n",
       "France                63.9         NaN        640679  0.888    Europe   \n",
       "Germany               80.9   3874437.0        357114  0.916    Europe   \n",
       "Italy                 60.6         NaN        301336  0.873    Europe   \n",
       "Japan                127.0   4602367.0        377930  0.891      Asia   \n",
       "United Kingdom        64.5         NaN        242495  0.907    Europe   \n",
       "United States        318.5  17348075.0       9525067  0.915   America   \n",
       "\n",
       "                       Currency  \n",
       "Canada                     Euro  \n",
       "France                     Euro  \n",
       "Germany                    Euro  \n",
       "Italy           Canadian Dollar  \n",
       "Japan             Pund Sterling  \n",
       "United Kingdom  American Dollar  \n",
       "United States              Real  "
      ]
     },
     "execution_count": 117,
     "metadata": {},
     "output_type": "execute_result"
    }
   ],
   "source": [
    "#adding a column\n",
    "df['Currency'] = 'Euro', 'Euro', 'Euro', 'Canadian Dollar', 'Pund Sterling', 'American Dollar', 'Real'\n",
    "df"
   ]
  },
  {
   "cell_type": "code",
   "execution_count": 119,
   "id": "761398c5-0cb4-4d1c-b503-3a49a21e455f",
   "metadata": {},
   "outputs": [
    {
     "data": {
      "text/html": [
       "<div>\n",
       "<style scoped>\n",
       "    .dataframe tbody tr th:only-of-type {\n",
       "        vertical-align: middle;\n",
       "    }\n",
       "\n",
       "    .dataframe tbody tr th {\n",
       "        vertical-align: top;\n",
       "    }\n",
       "\n",
       "    .dataframe thead th {\n",
       "        text-align: right;\n",
       "    }\n",
       "</style>\n",
       "<table border=\"1\" class=\"dataframe\">\n",
       "  <thead>\n",
       "    <tr style=\"text-align: right;\">\n",
       "      <th></th>\n",
       "      <th>Population</th>\n",
       "      <th>GDP</th>\n",
       "      <th>Surface Area</th>\n",
       "      <th>HDI</th>\n",
       "      <th>Continent</th>\n",
       "      <th>Currency</th>\n",
       "    </tr>\n",
       "  </thead>\n",
       "  <tbody>\n",
       "    <tr>\n",
       "      <th>Canada</th>\n",
       "      <td>35.5</td>\n",
       "      <td>NaN</td>\n",
       "      <td>9984670</td>\n",
       "      <td>0.913</td>\n",
       "      <td>America</td>\n",
       "      <td>Euro</td>\n",
       "    </tr>\n",
       "    <tr>\n",
       "      <th>France</th>\n",
       "      <td>63.9</td>\n",
       "      <td>NaN</td>\n",
       "      <td>640679</td>\n",
       "      <td>0.888</td>\n",
       "      <td>Europe</td>\n",
       "      <td>Euro</td>\n",
       "    </tr>\n",
       "    <tr>\n",
       "      <th>Germany</th>\n",
       "      <td>80.9</td>\n",
       "      <td>3874437.0</td>\n",
       "      <td>357114</td>\n",
       "      <td>0.916</td>\n",
       "      <td>Europe</td>\n",
       "      <td>Euro</td>\n",
       "    </tr>\n",
       "    <tr>\n",
       "      <th>Italy</th>\n",
       "      <td>60.6</td>\n",
       "      <td>NaN</td>\n",
       "      <td>301336</td>\n",
       "      <td>0.873</td>\n",
       "      <td>Europe</td>\n",
       "      <td>Canadian Dollar</td>\n",
       "    </tr>\n",
       "    <tr>\n",
       "      <th>Japan</th>\n",
       "      <td>127.0</td>\n",
       "      <td>4602367.0</td>\n",
       "      <td>377930</td>\n",
       "      <td>0.891</td>\n",
       "      <td>Asia</td>\n",
       "      <td>Pund Sterling</td>\n",
       "    </tr>\n",
       "    <tr>\n",
       "      <th>United Kingdom</th>\n",
       "      <td>64.5</td>\n",
       "      <td>NaN</td>\n",
       "      <td>242495</td>\n",
       "      <td>0.907</td>\n",
       "      <td>Europe</td>\n",
       "      <td>American Dollar</td>\n",
       "    </tr>\n",
       "    <tr>\n",
       "      <th>United States</th>\n",
       "      <td>318.5</td>\n",
       "      <td>17348075.0</td>\n",
       "      <td>9525067</td>\n",
       "      <td>0.915</td>\n",
       "      <td>America</td>\n",
       "      <td>Real</td>\n",
       "    </tr>\n",
       "    <tr>\n",
       "      <th>Currency</th>\n",
       "      <td>Euro</td>\n",
       "      <td>Euro</td>\n",
       "      <td>Euro</td>\n",
       "      <td>Canadian Dollar</td>\n",
       "      <td>Pund Sterling</td>\n",
       "      <td>American Dollar</td>\n",
       "    </tr>\n",
       "  </tbody>\n",
       "</table>\n",
       "</div>"
      ],
      "text/plain": [
       "               Population         GDP Surface Area              HDI  \\\n",
       "Canada               35.5         NaN      9984670            0.913   \n",
       "France               63.9         NaN       640679            0.888   \n",
       "Germany              80.9   3874437.0       357114            0.916   \n",
       "Italy                60.6         NaN       301336            0.873   \n",
       "Japan               127.0   4602367.0       377930            0.891   \n",
       "United Kingdom       64.5         NaN       242495            0.907   \n",
       "United States       318.5  17348075.0      9525067            0.915   \n",
       "Currency             Euro        Euro         Euro  Canadian Dollar   \n",
       "\n",
       "                    Continent         Currency  \n",
       "Canada                America             Euro  \n",
       "France                 Europe             Euro  \n",
       "Germany                Europe             Euro  \n",
       "Italy                  Europe  Canadian Dollar  \n",
       "Japan                    Asia    Pund Sterling  \n",
       "United Kingdom         Europe  American Dollar  \n",
       "United States         America             Real  \n",
       "Currency        Pund Sterling  American Dollar  "
      ]
     },
     "execution_count": 119,
     "metadata": {},
     "output_type": "execute_result"
    }
   ],
   "source": [
    "#addign a row\n",
    "df.loc['Currency'] = 'Euro', 'Euro', 'Euro', 'Canadian Dollar', 'Pund Sterling', 'American Dollar'\n",
    "df"
   ]
  },
  {
   "cell_type": "code",
   "execution_count": 120,
   "id": "417c818f-433d-4319-bd28-7174148b10c6",
   "metadata": {},
   "outputs": [],
   "source": [
    "#deleting row\n",
    "df.drop('Currency', inplace=True)"
   ]
  },
  {
   "cell_type": "code",
   "execution_count": 121,
   "id": "ce033438-651c-49ab-894b-29969aeaae86",
   "metadata": {},
   "outputs": [
    {
     "data": {
      "text/html": [
       "<div>\n",
       "<style scoped>\n",
       "    .dataframe tbody tr th:only-of-type {\n",
       "        vertical-align: middle;\n",
       "    }\n",
       "\n",
       "    .dataframe tbody tr th {\n",
       "        vertical-align: top;\n",
       "    }\n",
       "\n",
       "    .dataframe thead th {\n",
       "        text-align: right;\n",
       "    }\n",
       "</style>\n",
       "<table border=\"1\" class=\"dataframe\">\n",
       "  <thead>\n",
       "    <tr style=\"text-align: right;\">\n",
       "      <th></th>\n",
       "      <th>Population</th>\n",
       "      <th>GDP</th>\n",
       "      <th>Surface Area</th>\n",
       "      <th>HDI</th>\n",
       "      <th>Continent</th>\n",
       "      <th>Currency</th>\n",
       "    </tr>\n",
       "  </thead>\n",
       "  <tbody>\n",
       "    <tr>\n",
       "      <th>Canada</th>\n",
       "      <td>35.5</td>\n",
       "      <td>NaN</td>\n",
       "      <td>9984670</td>\n",
       "      <td>0.913</td>\n",
       "      <td>America</td>\n",
       "      <td>Euro</td>\n",
       "    </tr>\n",
       "    <tr>\n",
       "      <th>France</th>\n",
       "      <td>63.9</td>\n",
       "      <td>NaN</td>\n",
       "      <td>640679</td>\n",
       "      <td>0.888</td>\n",
       "      <td>Europe</td>\n",
       "      <td>Euro</td>\n",
       "    </tr>\n",
       "    <tr>\n",
       "      <th>Germany</th>\n",
       "      <td>80.9</td>\n",
       "      <td>3874437.0</td>\n",
       "      <td>357114</td>\n",
       "      <td>0.916</td>\n",
       "      <td>Europe</td>\n",
       "      <td>Euro</td>\n",
       "    </tr>\n",
       "    <tr>\n",
       "      <th>Italy</th>\n",
       "      <td>60.6</td>\n",
       "      <td>NaN</td>\n",
       "      <td>301336</td>\n",
       "      <td>0.873</td>\n",
       "      <td>Europe</td>\n",
       "      <td>Canadian Dollar</td>\n",
       "    </tr>\n",
       "    <tr>\n",
       "      <th>Japan</th>\n",
       "      <td>127.0</td>\n",
       "      <td>4602367.0</td>\n",
       "      <td>377930</td>\n",
       "      <td>0.891</td>\n",
       "      <td>Asia</td>\n",
       "      <td>Pund Sterling</td>\n",
       "    </tr>\n",
       "    <tr>\n",
       "      <th>United Kingdom</th>\n",
       "      <td>64.5</td>\n",
       "      <td>NaN</td>\n",
       "      <td>242495</td>\n",
       "      <td>0.907</td>\n",
       "      <td>Europe</td>\n",
       "      <td>American Dollar</td>\n",
       "    </tr>\n",
       "    <tr>\n",
       "      <th>United States</th>\n",
       "      <td>318.5</td>\n",
       "      <td>17348075.0</td>\n",
       "      <td>9525067</td>\n",
       "      <td>0.915</td>\n",
       "      <td>America</td>\n",
       "      <td>Real</td>\n",
       "    </tr>\n",
       "  </tbody>\n",
       "</table>\n",
       "</div>"
      ],
      "text/plain": [
       "               Population         GDP Surface Area    HDI Continent  \\\n",
       "Canada               35.5         NaN      9984670  0.913   America   \n",
       "France               63.9         NaN       640679  0.888    Europe   \n",
       "Germany              80.9   3874437.0       357114  0.916    Europe   \n",
       "Italy                60.6         NaN       301336  0.873    Europe   \n",
       "Japan               127.0   4602367.0       377930  0.891      Asia   \n",
       "United Kingdom       64.5         NaN       242495  0.907    Europe   \n",
       "United States       318.5  17348075.0      9525067  0.915   America   \n",
       "\n",
       "                       Currency  \n",
       "Canada                     Euro  \n",
       "France                     Euro  \n",
       "Germany                    Euro  \n",
       "Italy           Canadian Dollar  \n",
       "Japan             Pund Sterling  \n",
       "United Kingdom  American Dollar  \n",
       "United States              Real  "
      ]
     },
     "execution_count": 121,
     "metadata": {},
     "output_type": "execute_result"
    }
   ],
   "source": [
    "df"
   ]
  },
  {
   "cell_type": "code",
   "execution_count": null,
   "id": "293aa5f5-5e40-4c06-b477-0fb788d21cbe",
   "metadata": {
    "collapsed": true,
    "jupyter": {
     "outputs_hidden": true
    },
    "tags": []
   },
   "outputs": [
    {
     "ename": "KeyError",
     "evalue": "\"['Currency'] not found in axis\"",
     "output_type": "error",
     "traceback": [
      "\u001b[1;31m---------------------------------------------------------------------------\u001b[0m",
      "\u001b[1;31mKeyError\u001b[0m                                  Traceback (most recent call last)",
      "Input \u001b[1;32mIn [124]\u001b[0m, in \u001b[0;36m<cell line: 2>\u001b[1;34m()\u001b[0m\n\u001b[0;32m      1\u001b[0m \u001b[38;5;66;03m#removing columns\u001b[39;00m\n\u001b[1;32m----> 2\u001b[0m \u001b[43mdf\u001b[49m\u001b[38;5;241;43m.\u001b[39;49m\u001b[43mdrop\u001b[49m\u001b[43m(\u001b[49m\u001b[43mcolumns\u001b[49m\u001b[38;5;241;43m=\u001b[39;49m\u001b[43m[\u001b[49m\u001b[38;5;124;43m'\u001b[39;49m\u001b[38;5;124;43mCurrency\u001b[39;49m\u001b[38;5;124;43m'\u001b[39;49m\u001b[43m]\u001b[49m\u001b[43m,\u001b[49m\u001b[43m \u001b[49m\u001b[43minplace\u001b[49m\u001b[38;5;241;43m=\u001b[39;49m\u001b[38;5;28;43;01mTrue\u001b[39;49;00m\u001b[43m)\u001b[49m\n",
      "File \u001b[1;32m~\\Anaconda3\\lib\\site-packages\\pandas\\util\\_decorators.py:311\u001b[0m, in \u001b[0;36mdeprecate_nonkeyword_arguments.<locals>.decorate.<locals>.wrapper\u001b[1;34m(*args, **kwargs)\u001b[0m\n\u001b[0;32m    305\u001b[0m \u001b[38;5;28;01mif\u001b[39;00m \u001b[38;5;28mlen\u001b[39m(args) \u001b[38;5;241m>\u001b[39m num_allow_args:\n\u001b[0;32m    306\u001b[0m     warnings\u001b[38;5;241m.\u001b[39mwarn(\n\u001b[0;32m    307\u001b[0m         msg\u001b[38;5;241m.\u001b[39mformat(arguments\u001b[38;5;241m=\u001b[39marguments),\n\u001b[0;32m    308\u001b[0m         \u001b[38;5;167;01mFutureWarning\u001b[39;00m,\n\u001b[0;32m    309\u001b[0m         stacklevel\u001b[38;5;241m=\u001b[39mstacklevel,\n\u001b[0;32m    310\u001b[0m     )\n\u001b[1;32m--> 311\u001b[0m \u001b[38;5;28;01mreturn\u001b[39;00m func(\u001b[38;5;241m*\u001b[39margs, \u001b[38;5;241m*\u001b[39m\u001b[38;5;241m*\u001b[39mkwargs)\n",
      "File \u001b[1;32m~\\Anaconda3\\lib\\site-packages\\pandas\\core\\frame.py:4954\u001b[0m, in \u001b[0;36mDataFrame.drop\u001b[1;34m(self, labels, axis, index, columns, level, inplace, errors)\u001b[0m\n\u001b[0;32m   4806\u001b[0m \u001b[38;5;129m@deprecate_nonkeyword_arguments\u001b[39m(version\u001b[38;5;241m=\u001b[39m\u001b[38;5;28;01mNone\u001b[39;00m, allowed_args\u001b[38;5;241m=\u001b[39m[\u001b[38;5;124m\"\u001b[39m\u001b[38;5;124mself\u001b[39m\u001b[38;5;124m\"\u001b[39m, \u001b[38;5;124m\"\u001b[39m\u001b[38;5;124mlabels\u001b[39m\u001b[38;5;124m\"\u001b[39m])\n\u001b[0;32m   4807\u001b[0m \u001b[38;5;28;01mdef\u001b[39;00m \u001b[38;5;21mdrop\u001b[39m(\n\u001b[0;32m   4808\u001b[0m     \u001b[38;5;28mself\u001b[39m,\n\u001b[1;32m   (...)\u001b[0m\n\u001b[0;32m   4815\u001b[0m     errors: \u001b[38;5;28mstr\u001b[39m \u001b[38;5;241m=\u001b[39m \u001b[38;5;124m\"\u001b[39m\u001b[38;5;124mraise\u001b[39m\u001b[38;5;124m\"\u001b[39m,\n\u001b[0;32m   4816\u001b[0m ):\n\u001b[0;32m   4817\u001b[0m     \u001b[38;5;124;03m\"\"\"\u001b[39;00m\n\u001b[0;32m   4818\u001b[0m \u001b[38;5;124;03m    Drop specified labels from rows or columns.\u001b[39;00m\n\u001b[0;32m   4819\u001b[0m \n\u001b[1;32m   (...)\u001b[0m\n\u001b[0;32m   4952\u001b[0m \u001b[38;5;124;03m            weight  1.0     0.8\u001b[39;00m\n\u001b[0;32m   4953\u001b[0m \u001b[38;5;124;03m    \"\"\"\u001b[39;00m\n\u001b[1;32m-> 4954\u001b[0m     \u001b[38;5;28;01mreturn\u001b[39;00m \u001b[38;5;28;43msuper\u001b[39;49m\u001b[43m(\u001b[49m\u001b[43m)\u001b[49m\u001b[38;5;241;43m.\u001b[39;49m\u001b[43mdrop\u001b[49m\u001b[43m(\u001b[49m\n\u001b[0;32m   4955\u001b[0m \u001b[43m        \u001b[49m\u001b[43mlabels\u001b[49m\u001b[38;5;241;43m=\u001b[39;49m\u001b[43mlabels\u001b[49m\u001b[43m,\u001b[49m\n\u001b[0;32m   4956\u001b[0m \u001b[43m        \u001b[49m\u001b[43maxis\u001b[49m\u001b[38;5;241;43m=\u001b[39;49m\u001b[43maxis\u001b[49m\u001b[43m,\u001b[49m\n\u001b[0;32m   4957\u001b[0m \u001b[43m        \u001b[49m\u001b[43mindex\u001b[49m\u001b[38;5;241;43m=\u001b[39;49m\u001b[43mindex\u001b[49m\u001b[43m,\u001b[49m\n\u001b[0;32m   4958\u001b[0m \u001b[43m        \u001b[49m\u001b[43mcolumns\u001b[49m\u001b[38;5;241;43m=\u001b[39;49m\u001b[43mcolumns\u001b[49m\u001b[43m,\u001b[49m\n\u001b[0;32m   4959\u001b[0m \u001b[43m        \u001b[49m\u001b[43mlevel\u001b[49m\u001b[38;5;241;43m=\u001b[39;49m\u001b[43mlevel\u001b[49m\u001b[43m,\u001b[49m\n\u001b[0;32m   4960\u001b[0m \u001b[43m        \u001b[49m\u001b[43minplace\u001b[49m\u001b[38;5;241;43m=\u001b[39;49m\u001b[43minplace\u001b[49m\u001b[43m,\u001b[49m\n\u001b[0;32m   4961\u001b[0m \u001b[43m        \u001b[49m\u001b[43merrors\u001b[49m\u001b[38;5;241;43m=\u001b[39;49m\u001b[43merrors\u001b[49m\u001b[43m,\u001b[49m\n\u001b[0;32m   4962\u001b[0m \u001b[43m    \u001b[49m\u001b[43m)\u001b[49m\n",
      "File \u001b[1;32m~\\Anaconda3\\lib\\site-packages\\pandas\\core\\generic.py:4267\u001b[0m, in \u001b[0;36mNDFrame.drop\u001b[1;34m(self, labels, axis, index, columns, level, inplace, errors)\u001b[0m\n\u001b[0;32m   4265\u001b[0m \u001b[38;5;28;01mfor\u001b[39;00m axis, labels \u001b[38;5;129;01min\u001b[39;00m axes\u001b[38;5;241m.\u001b[39mitems():\n\u001b[0;32m   4266\u001b[0m     \u001b[38;5;28;01mif\u001b[39;00m labels \u001b[38;5;129;01mis\u001b[39;00m \u001b[38;5;129;01mnot\u001b[39;00m \u001b[38;5;28;01mNone\u001b[39;00m:\n\u001b[1;32m-> 4267\u001b[0m         obj \u001b[38;5;241m=\u001b[39m \u001b[43mobj\u001b[49m\u001b[38;5;241;43m.\u001b[39;49m\u001b[43m_drop_axis\u001b[49m\u001b[43m(\u001b[49m\u001b[43mlabels\u001b[49m\u001b[43m,\u001b[49m\u001b[43m \u001b[49m\u001b[43maxis\u001b[49m\u001b[43m,\u001b[49m\u001b[43m \u001b[49m\u001b[43mlevel\u001b[49m\u001b[38;5;241;43m=\u001b[39;49m\u001b[43mlevel\u001b[49m\u001b[43m,\u001b[49m\u001b[43m \u001b[49m\u001b[43merrors\u001b[49m\u001b[38;5;241;43m=\u001b[39;49m\u001b[43merrors\u001b[49m\u001b[43m)\u001b[49m\n\u001b[0;32m   4269\u001b[0m \u001b[38;5;28;01mif\u001b[39;00m inplace:\n\u001b[0;32m   4270\u001b[0m     \u001b[38;5;28mself\u001b[39m\u001b[38;5;241m.\u001b[39m_update_inplace(obj)\n",
      "File \u001b[1;32m~\\Anaconda3\\lib\\site-packages\\pandas\\core\\generic.py:4311\u001b[0m, in \u001b[0;36mNDFrame._drop_axis\u001b[1;34m(self, labels, axis, level, errors, consolidate, only_slice)\u001b[0m\n\u001b[0;32m   4309\u001b[0m         new_axis \u001b[38;5;241m=\u001b[39m axis\u001b[38;5;241m.\u001b[39mdrop(labels, level\u001b[38;5;241m=\u001b[39mlevel, errors\u001b[38;5;241m=\u001b[39merrors)\n\u001b[0;32m   4310\u001b[0m     \u001b[38;5;28;01melse\u001b[39;00m:\n\u001b[1;32m-> 4311\u001b[0m         new_axis \u001b[38;5;241m=\u001b[39m \u001b[43maxis\u001b[49m\u001b[38;5;241;43m.\u001b[39;49m\u001b[43mdrop\u001b[49m\u001b[43m(\u001b[49m\u001b[43mlabels\u001b[49m\u001b[43m,\u001b[49m\u001b[43m \u001b[49m\u001b[43merrors\u001b[49m\u001b[38;5;241;43m=\u001b[39;49m\u001b[43merrors\u001b[49m\u001b[43m)\u001b[49m\n\u001b[0;32m   4312\u001b[0m     indexer \u001b[38;5;241m=\u001b[39m axis\u001b[38;5;241m.\u001b[39mget_indexer(new_axis)\n\u001b[0;32m   4314\u001b[0m \u001b[38;5;66;03m# Case for non-unique axis\u001b[39;00m\n\u001b[0;32m   4315\u001b[0m \u001b[38;5;28;01melse\u001b[39;00m:\n",
      "File \u001b[1;32m~\\Anaconda3\\lib\\site-packages\\pandas\\core\\indexes\\base.py:6644\u001b[0m, in \u001b[0;36mIndex.drop\u001b[1;34m(self, labels, errors)\u001b[0m\n\u001b[0;32m   6642\u001b[0m \u001b[38;5;28;01mif\u001b[39;00m mask\u001b[38;5;241m.\u001b[39many():\n\u001b[0;32m   6643\u001b[0m     \u001b[38;5;28;01mif\u001b[39;00m errors \u001b[38;5;241m!=\u001b[39m \u001b[38;5;124m\"\u001b[39m\u001b[38;5;124mignore\u001b[39m\u001b[38;5;124m\"\u001b[39m:\n\u001b[1;32m-> 6644\u001b[0m         \u001b[38;5;28;01mraise\u001b[39;00m \u001b[38;5;167;01mKeyError\u001b[39;00m(\u001b[38;5;124mf\u001b[39m\u001b[38;5;124m\"\u001b[39m\u001b[38;5;132;01m{\u001b[39;00m\u001b[38;5;28mlist\u001b[39m(labels[mask])\u001b[38;5;132;01m}\u001b[39;00m\u001b[38;5;124m not found in axis\u001b[39m\u001b[38;5;124m\"\u001b[39m)\n\u001b[0;32m   6645\u001b[0m     indexer \u001b[38;5;241m=\u001b[39m indexer[\u001b[38;5;241m~\u001b[39mmask]\n\u001b[0;32m   6646\u001b[0m \u001b[38;5;28;01mreturn\u001b[39;00m \u001b[38;5;28mself\u001b[39m\u001b[38;5;241m.\u001b[39mdelete(indexer)\n",
      "\u001b[1;31mKeyError\u001b[0m: \"['Currency'] not found in axis\""
     ]
    }
   ],
   "source": [
    "#removing columns\n",
    "df.drop(columns=['Currency'], inplace=True)"
   ]
  },
  {
   "cell_type": "code",
   "execution_count": 125,
   "id": "d0983d88-f108-4dbe-99d0-933497f6191e",
   "metadata": {
    "collapsed": true,
    "jupyter": {
     "outputs_hidden": true
    },
    "tags": []
   },
   "outputs": [
    {
     "data": {
      "text/html": [
       "<div>\n",
       "<style scoped>\n",
       "    .dataframe tbody tr th:only-of-type {\n",
       "        vertical-align: middle;\n",
       "    }\n",
       "\n",
       "    .dataframe tbody tr th {\n",
       "        vertical-align: top;\n",
       "    }\n",
       "\n",
       "    .dataframe thead th {\n",
       "        text-align: right;\n",
       "    }\n",
       "</style>\n",
       "<table border=\"1\" class=\"dataframe\">\n",
       "  <thead>\n",
       "    <tr style=\"text-align: right;\">\n",
       "      <th></th>\n",
       "      <th>Population</th>\n",
       "      <th>GDP</th>\n",
       "      <th>Surface Area</th>\n",
       "      <th>HDI</th>\n",
       "      <th>Continent</th>\n",
       "    </tr>\n",
       "  </thead>\n",
       "  <tbody>\n",
       "    <tr>\n",
       "      <th>Canada</th>\n",
       "      <td>35.5</td>\n",
       "      <td>NaN</td>\n",
       "      <td>9984670</td>\n",
       "      <td>0.913</td>\n",
       "      <td>America</td>\n",
       "    </tr>\n",
       "    <tr>\n",
       "      <th>France</th>\n",
       "      <td>63.9</td>\n",
       "      <td>NaN</td>\n",
       "      <td>640679</td>\n",
       "      <td>0.888</td>\n",
       "      <td>Europe</td>\n",
       "    </tr>\n",
       "    <tr>\n",
       "      <th>Germany</th>\n",
       "      <td>80.9</td>\n",
       "      <td>3874437.0</td>\n",
       "      <td>357114</td>\n",
       "      <td>0.916</td>\n",
       "      <td>Europe</td>\n",
       "    </tr>\n",
       "    <tr>\n",
       "      <th>Italy</th>\n",
       "      <td>60.6</td>\n",
       "      <td>NaN</td>\n",
       "      <td>301336</td>\n",
       "      <td>0.873</td>\n",
       "      <td>Europe</td>\n",
       "    </tr>\n",
       "    <tr>\n",
       "      <th>Japan</th>\n",
       "      <td>127.0</td>\n",
       "      <td>4602367.0</td>\n",
       "      <td>377930</td>\n",
       "      <td>0.891</td>\n",
       "      <td>Asia</td>\n",
       "    </tr>\n",
       "    <tr>\n",
       "      <th>United Kingdom</th>\n",
       "      <td>64.5</td>\n",
       "      <td>NaN</td>\n",
       "      <td>242495</td>\n",
       "      <td>0.907</td>\n",
       "      <td>Europe</td>\n",
       "    </tr>\n",
       "    <tr>\n",
       "      <th>United States</th>\n",
       "      <td>318.5</td>\n",
       "      <td>17348075.0</td>\n",
       "      <td>9525067</td>\n",
       "      <td>0.915</td>\n",
       "      <td>America</td>\n",
       "    </tr>\n",
       "  </tbody>\n",
       "</table>\n",
       "</div>"
      ],
      "text/plain": [
       "               Population         GDP Surface Area    HDI Continent\n",
       "Canada               35.5         NaN      9984670  0.913   America\n",
       "France               63.9         NaN       640679  0.888    Europe\n",
       "Germany              80.9   3874437.0       357114  0.916    Europe\n",
       "Italy                60.6         NaN       301336  0.873    Europe\n",
       "Japan               127.0   4602367.0       377930  0.891      Asia\n",
       "United Kingdom       64.5         NaN       242495  0.907    Europe\n",
       "United States       318.5  17348075.0      9525067  0.915   America"
      ]
     },
     "execution_count": 125,
     "metadata": {},
     "output_type": "execute_result"
    }
   ],
   "source": [
    "df"
   ]
  },
  {
   "cell_type": "markdown",
   "id": "8488f43f-c17f-4c93-a46a-68f6fa846714",
   "metadata": {},
   "source": [
    "df.drop(['Population', 'HDI'], axis='columns'\n",
    "\n",
    "and\n",
    "\n",
    "df.drop(['Canada', 'Germany'], axis='rows'\n",
    "\n",
    "can also be used"
   ]
  },
  {
   "cell_type": "code",
   "execution_count": 126,
   "id": "721152fd-1325-47ab-aeaf-a5fc789f03bb",
   "metadata": {},
   "outputs": [
    {
     "data": {
      "text/html": [
       "<div>\n",
       "<style scoped>\n",
       "    .dataframe tbody tr th:only-of-type {\n",
       "        vertical-align: middle;\n",
       "    }\n",
       "\n",
       "    .dataframe tbody tr th {\n",
       "        vertical-align: top;\n",
       "    }\n",
       "\n",
       "    .dataframe thead th {\n",
       "        text-align: right;\n",
       "    }\n",
       "</style>\n",
       "<table border=\"1\" class=\"dataframe\">\n",
       "  <thead>\n",
       "    <tr style=\"text-align: right;\">\n",
       "      <th></th>\n",
       "      <th>Population</th>\n",
       "      <th>GDP</th>\n",
       "      <th>Surface Area</th>\n",
       "      <th>HDI</th>\n",
       "      <th>Continent</th>\n",
       "      <th>GDP per Capita</th>\n",
       "    </tr>\n",
       "  </thead>\n",
       "  <tbody>\n",
       "    <tr>\n",
       "      <th>Canada</th>\n",
       "      <td>35.5</td>\n",
       "      <td>NaN</td>\n",
       "      <td>9984670</td>\n",
       "      <td>0.913</td>\n",
       "      <td>America</td>\n",
       "      <td>NaN</td>\n",
       "    </tr>\n",
       "    <tr>\n",
       "      <th>France</th>\n",
       "      <td>63.9</td>\n",
       "      <td>NaN</td>\n",
       "      <td>640679</td>\n",
       "      <td>0.888</td>\n",
       "      <td>Europe</td>\n",
       "      <td>NaN</td>\n",
       "    </tr>\n",
       "    <tr>\n",
       "      <th>Germany</th>\n",
       "      <td>80.9</td>\n",
       "      <td>3874437.0</td>\n",
       "      <td>357114</td>\n",
       "      <td>0.916</td>\n",
       "      <td>Europe</td>\n",
       "      <td>47891.681088</td>\n",
       "    </tr>\n",
       "    <tr>\n",
       "      <th>Italy</th>\n",
       "      <td>60.6</td>\n",
       "      <td>NaN</td>\n",
       "      <td>301336</td>\n",
       "      <td>0.873</td>\n",
       "      <td>Europe</td>\n",
       "      <td>NaN</td>\n",
       "    </tr>\n",
       "    <tr>\n",
       "      <th>Japan</th>\n",
       "      <td>127.0</td>\n",
       "      <td>4602367.0</td>\n",
       "      <td>377930</td>\n",
       "      <td>0.891</td>\n",
       "      <td>Asia</td>\n",
       "      <td>36239.110236</td>\n",
       "    </tr>\n",
       "    <tr>\n",
       "      <th>United Kingdom</th>\n",
       "      <td>64.5</td>\n",
       "      <td>NaN</td>\n",
       "      <td>242495</td>\n",
       "      <td>0.907</td>\n",
       "      <td>Europe</td>\n",
       "      <td>NaN</td>\n",
       "    </tr>\n",
       "    <tr>\n",
       "      <th>United States</th>\n",
       "      <td>318.5</td>\n",
       "      <td>17348075.0</td>\n",
       "      <td>9525067</td>\n",
       "      <td>0.915</td>\n",
       "      <td>America</td>\n",
       "      <td>54468.053375</td>\n",
       "    </tr>\n",
       "  </tbody>\n",
       "</table>\n",
       "</div>"
      ],
      "text/plain": [
       "               Population         GDP Surface Area    HDI Continent  \\\n",
       "Canada               35.5         NaN      9984670  0.913   America   \n",
       "France               63.9         NaN       640679  0.888    Europe   \n",
       "Germany              80.9   3874437.0       357114  0.916    Europe   \n",
       "Italy                60.6         NaN       301336  0.873    Europe   \n",
       "Japan               127.0   4602367.0       377930  0.891      Asia   \n",
       "United Kingdom       64.5         NaN       242495  0.907    Europe   \n",
       "United States       318.5  17348075.0      9525067  0.915   America   \n",
       "\n",
       "               GDP per Capita  \n",
       "Canada                    NaN  \n",
       "France                    NaN  \n",
       "Germany          47891.681088  \n",
       "Italy                     NaN  \n",
       "Japan            36239.110236  \n",
       "United Kingdom            NaN  \n",
       "United States    54468.053375  "
      ]
     },
     "execution_count": 126,
     "metadata": {},
     "output_type": "execute_result"
    }
   ],
   "source": [
    "df['GDP per Capita'] = df['GDP'] / df['Population']\n",
    "df"
   ]
  },
  {
   "cell_type": "code",
   "execution_count": 144,
   "id": "41d76499-13b7-4135-844b-7c1c313916bc",
   "metadata": {
    "tags": []
   },
   "outputs": [],
   "source": [
    "df = pd.read_csv('data/wedge_data_test.csv', sep=\";\")"
   ]
  },
  {
   "cell_type": "code",
   "execution_count": 145,
   "id": "5c9c4ae8-9e7f-4024-9b35-a57bfae51e71",
   "metadata": {},
   "outputs": [
    {
     "data": {
      "text/html": [
       "<div>\n",
       "<style scoped>\n",
       "    .dataframe tbody tr th:only-of-type {\n",
       "        vertical-align: middle;\n",
       "    }\n",
       "\n",
       "    .dataframe tbody tr th {\n",
       "        vertical-align: top;\n",
       "    }\n",
       "\n",
       "    .dataframe thead th {\n",
       "        text-align: right;\n",
       "    }\n",
       "</style>\n",
       "<table border=\"1\" class=\"dataframe\">\n",
       "  <thead>\n",
       "    <tr style=\"text-align: right;\">\n",
       "      <th></th>\n",
       "      <th>Tid</th>\n",
       "      <th>Ytvikt</th>\n",
       "      <th>Tambur</th>\n",
       "      <th>Kvalitet</th>\n",
       "      <th>Datum</th>\n",
       "      <th>Körning</th>\n",
       "      <th>Månad</th>\n",
       "      <th>År</th>\n",
       "    </tr>\n",
       "  </thead>\n",
       "  <tbody>\n",
       "    <tr>\n",
       "      <th>0</th>\n",
       "      <td>2022-04-09 02:00</td>\n",
       "      <td>220,2166646</td>\n",
       "      <td>302916</td>\n",
       "      <td>22220</td>\n",
       "      <td>2022-04-09</td>\n",
       "      <td>22220_44660</td>\n",
       "      <td>apr</td>\n",
       "      <td>2022</td>\n",
       "    </tr>\n",
       "    <tr>\n",
       "      <th>1</th>\n",
       "      <td>2022-04-09 03:00</td>\n",
       "      <td>221,4499995</td>\n",
       "      <td>302917</td>\n",
       "      <td>22220</td>\n",
       "      <td>2022-04-09</td>\n",
       "      <td>22220_44660</td>\n",
       "      <td>apr</td>\n",
       "      <td>2022</td>\n",
       "    </tr>\n",
       "    <tr>\n",
       "      <th>2</th>\n",
       "      <td>2022-04-09 04:00</td>\n",
       "      <td>223,3000005</td>\n",
       "      <td>302918</td>\n",
       "      <td>22220</td>\n",
       "      <td>2022-04-09</td>\n",
       "      <td>22220_44660</td>\n",
       "      <td>apr</td>\n",
       "      <td>2022</td>\n",
       "    </tr>\n",
       "    <tr>\n",
       "      <th>3</th>\n",
       "      <td>2022-04-09 05:00</td>\n",
       "      <td>223,1166712</td>\n",
       "      <td>302919</td>\n",
       "      <td>22220</td>\n",
       "      <td>2022-04-09</td>\n",
       "      <td>22220_44660</td>\n",
       "      <td>apr</td>\n",
       "      <td>2022</td>\n",
       "    </tr>\n",
       "    <tr>\n",
       "      <th>4</th>\n",
       "      <td>2022-04-09 06:00</td>\n",
       "      <td>223,4499995</td>\n",
       "      <td>302920</td>\n",
       "      <td>22220</td>\n",
       "      <td>2022-04-09</td>\n",
       "      <td>22220_44660</td>\n",
       "      <td>apr</td>\n",
       "      <td>2022</td>\n",
       "    </tr>\n",
       "    <tr>\n",
       "      <th>...</th>\n",
       "      <td>...</td>\n",
       "      <td>...</td>\n",
       "      <td>...</td>\n",
       "      <td>...</td>\n",
       "      <td>...</td>\n",
       "      <td>...</td>\n",
       "      <td>...</td>\n",
       "      <td>...</td>\n",
       "    </tr>\n",
       "    <tr>\n",
       "      <th>374</th>\n",
       "      <td>2022-04-30 18:00</td>\n",
       "      <td>232,2833328</td>\n",
       "      <td>303412</td>\n",
       "      <td>48230</td>\n",
       "      <td>2022-04-30</td>\n",
       "      <td>48230_44681</td>\n",
       "      <td>apr</td>\n",
       "      <td>2022</td>\n",
       "    </tr>\n",
       "    <tr>\n",
       "      <th>375</th>\n",
       "      <td>2022-04-30 19:00</td>\n",
       "      <td>230,6500015</td>\n",
       "      <td>303413</td>\n",
       "      <td>48230</td>\n",
       "      <td>2022-04-30</td>\n",
       "      <td>48230_44681</td>\n",
       "      <td>apr</td>\n",
       "      <td>2022</td>\n",
       "    </tr>\n",
       "    <tr>\n",
       "      <th>376</th>\n",
       "      <td>2022-04-30 20:00</td>\n",
       "      <td>228,950002</td>\n",
       "      <td>303414</td>\n",
       "      <td>48230</td>\n",
       "      <td>2022-04-30</td>\n",
       "      <td>48230_44681</td>\n",
       "      <td>apr</td>\n",
       "      <td>2022</td>\n",
       "    </tr>\n",
       "    <tr>\n",
       "      <th>377</th>\n",
       "      <td>2022-04-30 21:00</td>\n",
       "      <td>230,7166646</td>\n",
       "      <td>303415</td>\n",
       "      <td>48230</td>\n",
       "      <td>2022-04-30</td>\n",
       "      <td>48230_44681</td>\n",
       "      <td>apr</td>\n",
       "      <td>2022</td>\n",
       "    </tr>\n",
       "    <tr>\n",
       "      <th>378</th>\n",
       "      <td>2022-04-30 22:00</td>\n",
       "      <td>231,350001</td>\n",
       "      <td>303416</td>\n",
       "      <td>48230</td>\n",
       "      <td>2022-04-30</td>\n",
       "      <td>48230_44681</td>\n",
       "      <td>apr</td>\n",
       "      <td>2022</td>\n",
       "    </tr>\n",
       "  </tbody>\n",
       "</table>\n",
       "<p>379 rows × 8 columns</p>\n",
       "</div>"
      ],
      "text/plain": [
       "                  Tid       Ytvikt  Tambur  Kvalitet       Datum      Körning  \\\n",
       "0    2022-04-09 02:00  220,2166646  302916     22220  2022-04-09  22220_44660   \n",
       "1    2022-04-09 03:00  221,4499995  302917     22220  2022-04-09  22220_44660   \n",
       "2    2022-04-09 04:00  223,3000005  302918     22220  2022-04-09  22220_44660   \n",
       "3    2022-04-09 05:00  223,1166712  302919     22220  2022-04-09  22220_44660   \n",
       "4    2022-04-09 06:00  223,4499995  302920     22220  2022-04-09  22220_44660   \n",
       "..                ...          ...     ...       ...         ...          ...   \n",
       "374  2022-04-30 18:00  232,2833328  303412     48230  2022-04-30  48230_44681   \n",
       "375  2022-04-30 19:00  230,6500015  303413     48230  2022-04-30  48230_44681   \n",
       "376  2022-04-30 20:00   228,950002  303414     48230  2022-04-30  48230_44681   \n",
       "377  2022-04-30 21:00  230,7166646  303415     48230  2022-04-30  48230_44681   \n",
       "378  2022-04-30 22:00   231,350001  303416     48230  2022-04-30  48230_44681   \n",
       "\n",
       "    Månad    År  \n",
       "0     apr  2022  \n",
       "1     apr  2022  \n",
       "2     apr  2022  \n",
       "3     apr  2022  \n",
       "4     apr  2022  \n",
       "..    ...   ...  \n",
       "374   apr  2022  \n",
       "375   apr  2022  \n",
       "376   apr  2022  \n",
       "377   apr  2022  \n",
       "378   apr  2022  \n",
       "\n",
       "[379 rows x 8 columns]"
      ]
     },
     "execution_count": 145,
     "metadata": {},
     "output_type": "execute_result"
    }
   ],
   "source": [
    "df"
   ]
  },
  {
   "cell_type": "code",
   "execution_count": 148,
   "id": "2df6119d-1279-44e0-b614-b4cda6d81caa",
   "metadata": {},
   "outputs": [
    {
     "ename": "KeyError",
     "evalue": "\"None of ['Körning'] are in the columns\"",
     "output_type": "error",
     "traceback": [
      "\u001b[1;31m---------------------------------------------------------------------------\u001b[0m",
      "\u001b[1;31mKeyError\u001b[0m                                  Traceback (most recent call last)",
      "Input \u001b[1;32mIn [148]\u001b[0m, in \u001b[0;36m<cell line: 1>\u001b[1;34m()\u001b[0m\n\u001b[1;32m----> 1\u001b[0m \u001b[43mdf\u001b[49m\u001b[38;5;241;43m.\u001b[39;49m\u001b[43mset_index\u001b[49m\u001b[43m(\u001b[49m\u001b[38;5;124;43m'\u001b[39;49m\u001b[38;5;124;43mKörning\u001b[39;49m\u001b[38;5;124;43m'\u001b[39;49m\u001b[43m,\u001b[49m\u001b[43m \u001b[49m\u001b[43minplace\u001b[49m\u001b[38;5;241;43m=\u001b[39;49m\u001b[38;5;28;43;01mTrue\u001b[39;49;00m\u001b[43m)\u001b[49m\n\u001b[0;32m      2\u001b[0m df\n",
      "File \u001b[1;32m~\\Anaconda3\\lib\\site-packages\\pandas\\util\\_decorators.py:311\u001b[0m, in \u001b[0;36mdeprecate_nonkeyword_arguments.<locals>.decorate.<locals>.wrapper\u001b[1;34m(*args, **kwargs)\u001b[0m\n\u001b[0;32m    305\u001b[0m \u001b[38;5;28;01mif\u001b[39;00m \u001b[38;5;28mlen\u001b[39m(args) \u001b[38;5;241m>\u001b[39m num_allow_args:\n\u001b[0;32m    306\u001b[0m     warnings\u001b[38;5;241m.\u001b[39mwarn(\n\u001b[0;32m    307\u001b[0m         msg\u001b[38;5;241m.\u001b[39mformat(arguments\u001b[38;5;241m=\u001b[39marguments),\n\u001b[0;32m    308\u001b[0m         \u001b[38;5;167;01mFutureWarning\u001b[39;00m,\n\u001b[0;32m    309\u001b[0m         stacklevel\u001b[38;5;241m=\u001b[39mstacklevel,\n\u001b[0;32m    310\u001b[0m     )\n\u001b[1;32m--> 311\u001b[0m \u001b[38;5;28;01mreturn\u001b[39;00m func(\u001b[38;5;241m*\u001b[39margs, \u001b[38;5;241m*\u001b[39m\u001b[38;5;241m*\u001b[39mkwargs)\n",
      "File \u001b[1;32m~\\Anaconda3\\lib\\site-packages\\pandas\\core\\frame.py:5494\u001b[0m, in \u001b[0;36mDataFrame.set_index\u001b[1;34m(self, keys, drop, append, inplace, verify_integrity)\u001b[0m\n\u001b[0;32m   5491\u001b[0m                 missing\u001b[38;5;241m.\u001b[39mappend(col)\n\u001b[0;32m   5493\u001b[0m \u001b[38;5;28;01mif\u001b[39;00m missing:\n\u001b[1;32m-> 5494\u001b[0m     \u001b[38;5;28;01mraise\u001b[39;00m \u001b[38;5;167;01mKeyError\u001b[39;00m(\u001b[38;5;124mf\u001b[39m\u001b[38;5;124m\"\u001b[39m\u001b[38;5;124mNone of \u001b[39m\u001b[38;5;132;01m{\u001b[39;00mmissing\u001b[38;5;132;01m}\u001b[39;00m\u001b[38;5;124m are in the columns\u001b[39m\u001b[38;5;124m\"\u001b[39m)\n\u001b[0;32m   5496\u001b[0m \u001b[38;5;28;01mif\u001b[39;00m inplace:\n\u001b[0;32m   5497\u001b[0m     frame \u001b[38;5;241m=\u001b[39m \u001b[38;5;28mself\u001b[39m\n",
      "\u001b[1;31mKeyError\u001b[0m: \"None of ['Körning'] are in the columns\""
     ]
    }
   ],
   "source": [
    "df.set_index('Körning', inplace=True)\n"
   ]
  },
  {
   "cell_type": "code",
   "execution_count": 149,
   "id": "8b5707b5-6f59-46c6-95d4-9a8a7190bb4b",
   "metadata": {},
   "outputs": [
    {
     "data": {
      "text/html": [
       "<div>\n",
       "<style scoped>\n",
       "    .dataframe tbody tr th:only-of-type {\n",
       "        vertical-align: middle;\n",
       "    }\n",
       "\n",
       "    .dataframe tbody tr th {\n",
       "        vertical-align: top;\n",
       "    }\n",
       "\n",
       "    .dataframe thead th {\n",
       "        text-align: right;\n",
       "    }\n",
       "</style>\n",
       "<table border=\"1\" class=\"dataframe\">\n",
       "  <thead>\n",
       "    <tr style=\"text-align: right;\">\n",
       "      <th></th>\n",
       "      <th>Tid</th>\n",
       "      <th>Ytvikt</th>\n",
       "      <th>Tambur</th>\n",
       "      <th>Kvalitet</th>\n",
       "      <th>Datum</th>\n",
       "      <th>Månad</th>\n",
       "      <th>År</th>\n",
       "    </tr>\n",
       "    <tr>\n",
       "      <th>Körning</th>\n",
       "      <th></th>\n",
       "      <th></th>\n",
       "      <th></th>\n",
       "      <th></th>\n",
       "      <th></th>\n",
       "      <th></th>\n",
       "      <th></th>\n",
       "    </tr>\n",
       "  </thead>\n",
       "  <tbody>\n",
       "    <tr>\n",
       "      <th>22220_44660</th>\n",
       "      <td>2022-04-09 02:00</td>\n",
       "      <td>220,2166646</td>\n",
       "      <td>302916</td>\n",
       "      <td>22220</td>\n",
       "      <td>2022-04-09</td>\n",
       "      <td>apr</td>\n",
       "      <td>2022</td>\n",
       "    </tr>\n",
       "    <tr>\n",
       "      <th>22220_44660</th>\n",
       "      <td>2022-04-09 03:00</td>\n",
       "      <td>221,4499995</td>\n",
       "      <td>302917</td>\n",
       "      <td>22220</td>\n",
       "      <td>2022-04-09</td>\n",
       "      <td>apr</td>\n",
       "      <td>2022</td>\n",
       "    </tr>\n",
       "    <tr>\n",
       "      <th>22220_44660</th>\n",
       "      <td>2022-04-09 04:00</td>\n",
       "      <td>223,3000005</td>\n",
       "      <td>302918</td>\n",
       "      <td>22220</td>\n",
       "      <td>2022-04-09</td>\n",
       "      <td>apr</td>\n",
       "      <td>2022</td>\n",
       "    </tr>\n",
       "    <tr>\n",
       "      <th>22220_44660</th>\n",
       "      <td>2022-04-09 05:00</td>\n",
       "      <td>223,1166712</td>\n",
       "      <td>302919</td>\n",
       "      <td>22220</td>\n",
       "      <td>2022-04-09</td>\n",
       "      <td>apr</td>\n",
       "      <td>2022</td>\n",
       "    </tr>\n",
       "    <tr>\n",
       "      <th>22220_44660</th>\n",
       "      <td>2022-04-09 06:00</td>\n",
       "      <td>223,4499995</td>\n",
       "      <td>302920</td>\n",
       "      <td>22220</td>\n",
       "      <td>2022-04-09</td>\n",
       "      <td>apr</td>\n",
       "      <td>2022</td>\n",
       "    </tr>\n",
       "    <tr>\n",
       "      <th>...</th>\n",
       "      <td>...</td>\n",
       "      <td>...</td>\n",
       "      <td>...</td>\n",
       "      <td>...</td>\n",
       "      <td>...</td>\n",
       "      <td>...</td>\n",
       "      <td>...</td>\n",
       "    </tr>\n",
       "    <tr>\n",
       "      <th>48230_44681</th>\n",
       "      <td>2022-04-30 18:00</td>\n",
       "      <td>232,2833328</td>\n",
       "      <td>303412</td>\n",
       "      <td>48230</td>\n",
       "      <td>2022-04-30</td>\n",
       "      <td>apr</td>\n",
       "      <td>2022</td>\n",
       "    </tr>\n",
       "    <tr>\n",
       "      <th>48230_44681</th>\n",
       "      <td>2022-04-30 19:00</td>\n",
       "      <td>230,6500015</td>\n",
       "      <td>303413</td>\n",
       "      <td>48230</td>\n",
       "      <td>2022-04-30</td>\n",
       "      <td>apr</td>\n",
       "      <td>2022</td>\n",
       "    </tr>\n",
       "    <tr>\n",
       "      <th>48230_44681</th>\n",
       "      <td>2022-04-30 20:00</td>\n",
       "      <td>228,950002</td>\n",
       "      <td>303414</td>\n",
       "      <td>48230</td>\n",
       "      <td>2022-04-30</td>\n",
       "      <td>apr</td>\n",
       "      <td>2022</td>\n",
       "    </tr>\n",
       "    <tr>\n",
       "      <th>48230_44681</th>\n",
       "      <td>2022-04-30 21:00</td>\n",
       "      <td>230,7166646</td>\n",
       "      <td>303415</td>\n",
       "      <td>48230</td>\n",
       "      <td>2022-04-30</td>\n",
       "      <td>apr</td>\n",
       "      <td>2022</td>\n",
       "    </tr>\n",
       "    <tr>\n",
       "      <th>48230_44681</th>\n",
       "      <td>2022-04-30 22:00</td>\n",
       "      <td>231,350001</td>\n",
       "      <td>303416</td>\n",
       "      <td>48230</td>\n",
       "      <td>2022-04-30</td>\n",
       "      <td>apr</td>\n",
       "      <td>2022</td>\n",
       "    </tr>\n",
       "  </tbody>\n",
       "</table>\n",
       "<p>379 rows × 7 columns</p>\n",
       "</div>"
      ],
      "text/plain": [
       "                          Tid       Ytvikt  Tambur  Kvalitet       Datum  \\\n",
       "Körning                                                                    \n",
       "22220_44660  2022-04-09 02:00  220,2166646  302916     22220  2022-04-09   \n",
       "22220_44660  2022-04-09 03:00  221,4499995  302917     22220  2022-04-09   \n",
       "22220_44660  2022-04-09 04:00  223,3000005  302918     22220  2022-04-09   \n",
       "22220_44660  2022-04-09 05:00  223,1166712  302919     22220  2022-04-09   \n",
       "22220_44660  2022-04-09 06:00  223,4499995  302920     22220  2022-04-09   \n",
       "...                       ...          ...     ...       ...         ...   \n",
       "48230_44681  2022-04-30 18:00  232,2833328  303412     48230  2022-04-30   \n",
       "48230_44681  2022-04-30 19:00  230,6500015  303413     48230  2022-04-30   \n",
       "48230_44681  2022-04-30 20:00   228,950002  303414     48230  2022-04-30   \n",
       "48230_44681  2022-04-30 21:00  230,7166646  303415     48230  2022-04-30   \n",
       "48230_44681  2022-04-30 22:00   231,350001  303416     48230  2022-04-30   \n",
       "\n",
       "            Månad    År  \n",
       "Körning                  \n",
       "22220_44660   apr  2022  \n",
       "22220_44660   apr  2022  \n",
       "22220_44660   apr  2022  \n",
       "22220_44660   apr  2022  \n",
       "22220_44660   apr  2022  \n",
       "...           ...   ...  \n",
       "48230_44681   apr  2022  \n",
       "48230_44681   apr  2022  \n",
       "48230_44681   apr  2022  \n",
       "48230_44681   apr  2022  \n",
       "48230_44681   apr  2022  \n",
       "\n",
       "[379 rows x 7 columns]"
      ]
     },
     "execution_count": 149,
     "metadata": {},
     "output_type": "execute_result"
    }
   ],
   "source": [
    "df"
   ]
  },
  {
   "cell_type": "code",
   "execution_count": 152,
   "id": "1b254320-48ba-490d-a080-94dca67a5720",
   "metadata": {},
   "outputs": [
    {
     "ename": "ModuleNotFoundError",
     "evalue": "No module named 'sqlit3'",
     "output_type": "error",
     "traceback": [
      "\u001b[1;31m---------------------------------------------------------------------------\u001b[0m",
      "\u001b[1;31mModuleNotFoundError\u001b[0m                       Traceback (most recent call last)",
      "Input \u001b[1;32mIn [152]\u001b[0m, in \u001b[0;36m<cell line: 1>\u001b[1;34m()\u001b[0m\n\u001b[1;32m----> 1\u001b[0m \u001b[38;5;28;01mimport\u001b[39;00m \u001b[38;5;21;01msqlit3\u001b[39;00m\n",
      "\u001b[1;31mModuleNotFoundError\u001b[0m: No module named 'sqlit3'"
     ]
    }
   ],
   "source": [
    "# Import SQL??????????????\n",
    "import sqlit3"
   ]
  },
  {
   "cell_type": "code",
   "execution_count": 156,
   "id": "2f906008-9a40-44e6-8fd7-3b5401d9daa5",
   "metadata": {},
   "outputs": [],
   "source": [
    "df = pd.read_csv('data/wedge_data_test.csv', sep=\";\")"
   ]
  },
  {
   "cell_type": "code",
   "execution_count": 158,
   "id": "923f5792-139a-4380-8952-d9f939bf5098",
   "metadata": {},
   "outputs": [
    {
     "data": {
      "text/html": [
       "<div>\n",
       "<style scoped>\n",
       "    .dataframe tbody tr th:only-of-type {\n",
       "        vertical-align: middle;\n",
       "    }\n",
       "\n",
       "    .dataframe tbody tr th {\n",
       "        vertical-align: top;\n",
       "    }\n",
       "\n",
       "    .dataframe thead th {\n",
       "        text-align: right;\n",
       "    }\n",
       "</style>\n",
       "<table border=\"1\" class=\"dataframe\">\n",
       "  <thead>\n",
       "    <tr style=\"text-align: right;\">\n",
       "      <th></th>\n",
       "      <th>Tid</th>\n",
       "      <th>Ytvikt</th>\n",
       "      <th>Tambur</th>\n",
       "      <th>Kvalitet</th>\n",
       "      <th>Datum</th>\n",
       "      <th>Körning</th>\n",
       "      <th>Månad</th>\n",
       "      <th>År</th>\n",
       "    </tr>\n",
       "  </thead>\n",
       "  <tbody>\n",
       "    <tr>\n",
       "      <th>0</th>\n",
       "      <td>2022-04-09 02:00</td>\n",
       "      <td>220,2166646</td>\n",
       "      <td>302916</td>\n",
       "      <td>22220</td>\n",
       "      <td>2022-04-09</td>\n",
       "      <td>22220_44660</td>\n",
       "      <td>apr</td>\n",
       "      <td>2022</td>\n",
       "    </tr>\n",
       "    <tr>\n",
       "      <th>1</th>\n",
       "      <td>2022-04-09 03:00</td>\n",
       "      <td>221,4499995</td>\n",
       "      <td>302917</td>\n",
       "      <td>22220</td>\n",
       "      <td>2022-04-09</td>\n",
       "      <td>22220_44660</td>\n",
       "      <td>apr</td>\n",
       "      <td>2022</td>\n",
       "    </tr>\n",
       "    <tr>\n",
       "      <th>2</th>\n",
       "      <td>2022-04-09 04:00</td>\n",
       "      <td>223,3000005</td>\n",
       "      <td>302918</td>\n",
       "      <td>22220</td>\n",
       "      <td>2022-04-09</td>\n",
       "      <td>22220_44660</td>\n",
       "      <td>apr</td>\n",
       "      <td>2022</td>\n",
       "    </tr>\n",
       "    <tr>\n",
       "      <th>3</th>\n",
       "      <td>2022-04-09 05:00</td>\n",
       "      <td>223,1166712</td>\n",
       "      <td>302919</td>\n",
       "      <td>22220</td>\n",
       "      <td>2022-04-09</td>\n",
       "      <td>22220_44660</td>\n",
       "      <td>apr</td>\n",
       "      <td>2022</td>\n",
       "    </tr>\n",
       "    <tr>\n",
       "      <th>4</th>\n",
       "      <td>2022-04-09 06:00</td>\n",
       "      <td>223,4499995</td>\n",
       "      <td>302920</td>\n",
       "      <td>22220</td>\n",
       "      <td>2022-04-09</td>\n",
       "      <td>22220_44660</td>\n",
       "      <td>apr</td>\n",
       "      <td>2022</td>\n",
       "    </tr>\n",
       "    <tr>\n",
       "      <th>...</th>\n",
       "      <td>...</td>\n",
       "      <td>...</td>\n",
       "      <td>...</td>\n",
       "      <td>...</td>\n",
       "      <td>...</td>\n",
       "      <td>...</td>\n",
       "      <td>...</td>\n",
       "      <td>...</td>\n",
       "    </tr>\n",
       "    <tr>\n",
       "      <th>374</th>\n",
       "      <td>2022-04-30 18:00</td>\n",
       "      <td>232,2833328</td>\n",
       "      <td>303412</td>\n",
       "      <td>48230</td>\n",
       "      <td>2022-04-30</td>\n",
       "      <td>48230_44681</td>\n",
       "      <td>apr</td>\n",
       "      <td>2022</td>\n",
       "    </tr>\n",
       "    <tr>\n",
       "      <th>375</th>\n",
       "      <td>2022-04-30 19:00</td>\n",
       "      <td>230,6500015</td>\n",
       "      <td>303413</td>\n",
       "      <td>48230</td>\n",
       "      <td>2022-04-30</td>\n",
       "      <td>48230_44681</td>\n",
       "      <td>apr</td>\n",
       "      <td>2022</td>\n",
       "    </tr>\n",
       "    <tr>\n",
       "      <th>376</th>\n",
       "      <td>2022-04-30 20:00</td>\n",
       "      <td>228,950002</td>\n",
       "      <td>303414</td>\n",
       "      <td>48230</td>\n",
       "      <td>2022-04-30</td>\n",
       "      <td>48230_44681</td>\n",
       "      <td>apr</td>\n",
       "      <td>2022</td>\n",
       "    </tr>\n",
       "    <tr>\n",
       "      <th>377</th>\n",
       "      <td>2022-04-30 21:00</td>\n",
       "      <td>230,7166646</td>\n",
       "      <td>303415</td>\n",
       "      <td>48230</td>\n",
       "      <td>2022-04-30</td>\n",
       "      <td>48230_44681</td>\n",
       "      <td>apr</td>\n",
       "      <td>2022</td>\n",
       "    </tr>\n",
       "    <tr>\n",
       "      <th>378</th>\n",
       "      <td>2022-04-30 22:00</td>\n",
       "      <td>231,350001</td>\n",
       "      <td>303416</td>\n",
       "      <td>48230</td>\n",
       "      <td>2022-04-30</td>\n",
       "      <td>48230_44681</td>\n",
       "      <td>apr</td>\n",
       "      <td>2022</td>\n",
       "    </tr>\n",
       "  </tbody>\n",
       "</table>\n",
       "<p>379 rows × 8 columns</p>\n",
       "</div>"
      ],
      "text/plain": [
       "                  Tid       Ytvikt  Tambur  Kvalitet       Datum      Körning  \\\n",
       "0    2022-04-09 02:00  220,2166646  302916     22220  2022-04-09  22220_44660   \n",
       "1    2022-04-09 03:00  221,4499995  302917     22220  2022-04-09  22220_44660   \n",
       "2    2022-04-09 04:00  223,3000005  302918     22220  2022-04-09  22220_44660   \n",
       "3    2022-04-09 05:00  223,1166712  302919     22220  2022-04-09  22220_44660   \n",
       "4    2022-04-09 06:00  223,4499995  302920     22220  2022-04-09  22220_44660   \n",
       "..                ...          ...     ...       ...         ...          ...   \n",
       "374  2022-04-30 18:00  232,2833328  303412     48230  2022-04-30  48230_44681   \n",
       "375  2022-04-30 19:00  230,6500015  303413     48230  2022-04-30  48230_44681   \n",
       "376  2022-04-30 20:00   228,950002  303414     48230  2022-04-30  48230_44681   \n",
       "377  2022-04-30 21:00  230,7166646  303415     48230  2022-04-30  48230_44681   \n",
       "378  2022-04-30 22:00   231,350001  303416     48230  2022-04-30  48230_44681   \n",
       "\n",
       "    Månad    År  \n",
       "0     apr  2022  \n",
       "1     apr  2022  \n",
       "2     apr  2022  \n",
       "3     apr  2022  \n",
       "4     apr  2022  \n",
       "..    ...   ...  \n",
       "374   apr  2022  \n",
       "375   apr  2022  \n",
       "376   apr  2022  \n",
       "377   apr  2022  \n",
       "378   apr  2022  \n",
       "\n",
       "[379 rows x 8 columns]"
      ]
     },
     "execution_count": 158,
     "metadata": {},
     "output_type": "execute_result"
    }
   ],
   "source": [
    "df"
   ]
  },
  {
   "cell_type": "code",
   "execution_count": 169,
   "id": "37091d24-7da9-4fc3-8bb6-d6693fd697a8",
   "metadata": {},
   "outputs": [
    {
     "data": {
      "text/html": [
       "<div>\n",
       "<style scoped>\n",
       "    .dataframe tbody tr th:only-of-type {\n",
       "        vertical-align: middle;\n",
       "    }\n",
       "\n",
       "    .dataframe tbody tr th {\n",
       "        vertical-align: top;\n",
       "    }\n",
       "\n",
       "    .dataframe thead th {\n",
       "        text-align: right;\n",
       "    }\n",
       "</style>\n",
       "<table border=\"1\" class=\"dataframe\">\n",
       "  <thead>\n",
       "    <tr style=\"text-align: right;\">\n",
       "      <th></th>\n",
       "      <th>Tid</th>\n",
       "      <th>Ytvikt</th>\n",
       "      <th>Tambur</th>\n",
       "      <th>Kvalitet</th>\n",
       "      <th>Datum</th>\n",
       "      <th>Körning</th>\n",
       "      <th>Månad</th>\n",
       "      <th>År</th>\n",
       "    </tr>\n",
       "  </thead>\n",
       "  <tbody>\n",
       "    <tr>\n",
       "      <th>0</th>\n",
       "      <td>2022-04-09 02:00</td>\n",
       "      <td>220,2166646</td>\n",
       "      <td>302916</td>\n",
       "      <td>22220</td>\n",
       "      <td>2022-04-09</td>\n",
       "      <td>22220_44660</td>\n",
       "      <td>apr</td>\n",
       "      <td>2022</td>\n",
       "    </tr>\n",
       "    <tr>\n",
       "      <th>1</th>\n",
       "      <td>2022-04-09 03:00</td>\n",
       "      <td>221,4499995</td>\n",
       "      <td>302917</td>\n",
       "      <td>22220</td>\n",
       "      <td>2022-04-09</td>\n",
       "      <td>22220_44660</td>\n",
       "      <td>apr</td>\n",
       "      <td>2022</td>\n",
       "    </tr>\n",
       "    <tr>\n",
       "      <th>2</th>\n",
       "      <td>2022-04-09 04:00</td>\n",
       "      <td>223,3000005</td>\n",
       "      <td>302918</td>\n",
       "      <td>22220</td>\n",
       "      <td>2022-04-09</td>\n",
       "      <td>22220_44660</td>\n",
       "      <td>apr</td>\n",
       "      <td>2022</td>\n",
       "    </tr>\n",
       "    <tr>\n",
       "      <th>3</th>\n",
       "      <td>2022-04-09 05:00</td>\n",
       "      <td>223,1166712</td>\n",
       "      <td>302919</td>\n",
       "      <td>22220</td>\n",
       "      <td>2022-04-09</td>\n",
       "      <td>22220_44660</td>\n",
       "      <td>apr</td>\n",
       "      <td>2022</td>\n",
       "    </tr>\n",
       "    <tr>\n",
       "      <th>4</th>\n",
       "      <td>2022-04-09 06:00</td>\n",
       "      <td>223,4499995</td>\n",
       "      <td>302920</td>\n",
       "      <td>22220</td>\n",
       "      <td>2022-04-09</td>\n",
       "      <td>22220_44660</td>\n",
       "      <td>apr</td>\n",
       "      <td>2022</td>\n",
       "    </tr>\n",
       "    <tr>\n",
       "      <th>...</th>\n",
       "      <td>...</td>\n",
       "      <td>...</td>\n",
       "      <td>...</td>\n",
       "      <td>...</td>\n",
       "      <td>...</td>\n",
       "      <td>...</td>\n",
       "      <td>...</td>\n",
       "      <td>...</td>\n",
       "    </tr>\n",
       "    <tr>\n",
       "      <th>374</th>\n",
       "      <td>2022-04-30 18:00</td>\n",
       "      <td>232,2833328</td>\n",
       "      <td>303412</td>\n",
       "      <td>48230</td>\n",
       "      <td>2022-04-30</td>\n",
       "      <td>48230_44681</td>\n",
       "      <td>apr</td>\n",
       "      <td>2022</td>\n",
       "    </tr>\n",
       "    <tr>\n",
       "      <th>375</th>\n",
       "      <td>2022-04-30 19:00</td>\n",
       "      <td>230,6500015</td>\n",
       "      <td>303413</td>\n",
       "      <td>48230</td>\n",
       "      <td>2022-04-30</td>\n",
       "      <td>48230_44681</td>\n",
       "      <td>apr</td>\n",
       "      <td>2022</td>\n",
       "    </tr>\n",
       "    <tr>\n",
       "      <th>376</th>\n",
       "      <td>2022-04-30 20:00</td>\n",
       "      <td>228,950002</td>\n",
       "      <td>303414</td>\n",
       "      <td>48230</td>\n",
       "      <td>2022-04-30</td>\n",
       "      <td>48230_44681</td>\n",
       "      <td>apr</td>\n",
       "      <td>2022</td>\n",
       "    </tr>\n",
       "    <tr>\n",
       "      <th>377</th>\n",
       "      <td>2022-04-30 21:00</td>\n",
       "      <td>230,7166646</td>\n",
       "      <td>303415</td>\n",
       "      <td>48230</td>\n",
       "      <td>2022-04-30</td>\n",
       "      <td>48230_44681</td>\n",
       "      <td>apr</td>\n",
       "      <td>2022</td>\n",
       "    </tr>\n",
       "    <tr>\n",
       "      <th>378</th>\n",
       "      <td>2022-04-30 22:00</td>\n",
       "      <td>231,350001</td>\n",
       "      <td>303416</td>\n",
       "      <td>48230</td>\n",
       "      <td>2022-04-30</td>\n",
       "      <td>48230_44681</td>\n",
       "      <td>apr</td>\n",
       "      <td>2022</td>\n",
       "    </tr>\n",
       "  </tbody>\n",
       "</table>\n",
       "<p>379 rows × 8 columns</p>\n",
       "</div>"
      ],
      "text/plain": [
       "                  Tid       Ytvikt  Tambur  Kvalitet       Datum      Körning  \\\n",
       "0    2022-04-09 02:00  220,2166646  302916     22220  2022-04-09  22220_44660   \n",
       "1    2022-04-09 03:00  221,4499995  302917     22220  2022-04-09  22220_44660   \n",
       "2    2022-04-09 04:00  223,3000005  302918     22220  2022-04-09  22220_44660   \n",
       "3    2022-04-09 05:00  223,1166712  302919     22220  2022-04-09  22220_44660   \n",
       "4    2022-04-09 06:00  223,4499995  302920     22220  2022-04-09  22220_44660   \n",
       "..                ...          ...     ...       ...         ...          ...   \n",
       "374  2022-04-30 18:00  232,2833328  303412     48230  2022-04-30  48230_44681   \n",
       "375  2022-04-30 19:00  230,6500015  303413     48230  2022-04-30  48230_44681   \n",
       "376  2022-04-30 20:00   228,950002  303414     48230  2022-04-30  48230_44681   \n",
       "377  2022-04-30 21:00  230,7166646  303415     48230  2022-04-30  48230_44681   \n",
       "378  2022-04-30 22:00   231,350001  303416     48230  2022-04-30  48230_44681   \n",
       "\n",
       "    Månad    År  \n",
       "0     apr  2022  \n",
       "1     apr  2022  \n",
       "2     apr  2022  \n",
       "3     apr  2022  \n",
       "4     apr  2022  \n",
       "..    ...   ...  \n",
       "374   apr  2022  \n",
       "375   apr  2022  \n",
       "376   apr  2022  \n",
       "377   apr  2022  \n",
       "378   apr  2022  \n",
       "\n",
       "[379 rows x 8 columns]"
      ]
     },
     "execution_count": 169,
     "metadata": {},
     "output_type": "execute_result"
    }
   ],
   "source": [
    "df"
   ]
  },
  {
   "cell_type": "code",
   "execution_count": 154,
   "id": "4f9f0958-6a4a-43dc-bf04-88f441266a1d",
   "metadata": {
    "jupyter": {
     "source_hidden": true
    },
    "tags": []
   },
   "outputs": [],
   "source": [
    "import matplotlib.pyplot as plt"
   ]
  },
  {
   "cell_type": "code",
   "execution_count": 168,
   "id": "280c94e9-96d3-4367-bd61-a22790f83a67",
   "metadata": {},
   "outputs": [
    {
     "ename": "AttributeError",
     "evalue": "'PathCollection' object has no property 'Figsize'",
     "output_type": "error",
     "traceback": [
      "\u001b[1;31m---------------------------------------------------------------------------\u001b[0m",
      "\u001b[1;31mAttributeError\u001b[0m                            Traceback (most recent call last)",
      "Input \u001b[1;32mIn [168]\u001b[0m, in \u001b[0;36m<cell line: 1>\u001b[1;34m()\u001b[0m\n\u001b[1;32m----> 1\u001b[0m \u001b[43mdf\u001b[49m\u001b[38;5;241;43m.\u001b[39;49m\u001b[43mplot\u001b[49m\u001b[43m(\u001b[49m\u001b[43mkind\u001b[49m\u001b[38;5;241;43m=\u001b[39;49m\u001b[38;5;124;43m'\u001b[39;49m\u001b[38;5;124;43mscatter\u001b[39;49m\u001b[38;5;124;43m'\u001b[39;49m\u001b[43m,\u001b[49m\n\u001b[0;32m      2\u001b[0m \u001b[43m        \u001b[49m\u001b[43mx\u001b[49m\u001b[38;5;241;43m=\u001b[39;49m\u001b[38;5;124;43m'\u001b[39;49m\u001b[38;5;124;43mKörning\u001b[39;49m\u001b[38;5;124;43m'\u001b[39;49m\u001b[43m,\u001b[49m\n\u001b[0;32m      3\u001b[0m \u001b[43m        \u001b[49m\u001b[43my\u001b[49m\u001b[38;5;241;43m=\u001b[39;49m\u001b[38;5;124;43m'\u001b[39;49m\u001b[38;5;124;43mYtvikt\u001b[39;49m\u001b[38;5;124;43m'\u001b[39;49m\u001b[43m,\u001b[49m\n\u001b[0;32m      4\u001b[0m \u001b[43m        \u001b[49m\u001b[43mcolor\u001b[49m\u001b[38;5;241;43m=\u001b[39;49m\u001b[38;5;124;43m'\u001b[39;49m\u001b[38;5;124;43morange\u001b[39;49m\u001b[38;5;124;43m'\u001b[39;49m\u001b[43m,\u001b[49m\n\u001b[0;32m      5\u001b[0m \u001b[43m        \u001b[49m\u001b[43mFigsize\u001b[49m\u001b[38;5;241;43m=\u001b[39;49m\u001b[43m(\u001b[49m\u001b[38;5;241;43m12\u001b[39;49m\u001b[43m,\u001b[49m\u001b[43m \u001b[49m\u001b[38;5;241;43m6\u001b[39;49m\u001b[43m)\u001b[49m\u001b[43m)\u001b[49m\n",
      "File \u001b[1;32m~\\Anaconda3\\lib\\site-packages\\pandas\\plotting\\_core.py:917\u001b[0m, in \u001b[0;36mPlotAccessor.__call__\u001b[1;34m(self, *args, **kwargs)\u001b[0m\n\u001b[0;32m    915\u001b[0m \u001b[38;5;28;01mif\u001b[39;00m kind \u001b[38;5;129;01min\u001b[39;00m \u001b[38;5;28mself\u001b[39m\u001b[38;5;241m.\u001b[39m_dataframe_kinds:\n\u001b[0;32m    916\u001b[0m     \u001b[38;5;28;01mif\u001b[39;00m \u001b[38;5;28misinstance\u001b[39m(data, ABCDataFrame):\n\u001b[1;32m--> 917\u001b[0m         \u001b[38;5;28;01mreturn\u001b[39;00m plot_backend\u001b[38;5;241m.\u001b[39mplot(data, x\u001b[38;5;241m=\u001b[39mx, y\u001b[38;5;241m=\u001b[39my, kind\u001b[38;5;241m=\u001b[39mkind, \u001b[38;5;241m*\u001b[39m\u001b[38;5;241m*\u001b[39mkwargs)\n\u001b[0;32m    918\u001b[0m     \u001b[38;5;28;01melse\u001b[39;00m:\n\u001b[0;32m    919\u001b[0m         \u001b[38;5;28;01mraise\u001b[39;00m \u001b[38;5;167;01mValueError\u001b[39;00m(\u001b[38;5;124mf\u001b[39m\u001b[38;5;124m\"\u001b[39m\u001b[38;5;124mplot kind \u001b[39m\u001b[38;5;132;01m{\u001b[39;00mkind\u001b[38;5;132;01m}\u001b[39;00m\u001b[38;5;124m can only be used for data frames\u001b[39m\u001b[38;5;124m\"\u001b[39m)\n",
      "File \u001b[1;32m~\\Anaconda3\\lib\\site-packages\\pandas\\plotting\\_matplotlib\\__init__.py:71\u001b[0m, in \u001b[0;36mplot\u001b[1;34m(data, kind, **kwargs)\u001b[0m\n\u001b[0;32m     69\u001b[0m         kwargs[\u001b[38;5;124m\"\u001b[39m\u001b[38;5;124max\u001b[39m\u001b[38;5;124m\"\u001b[39m] \u001b[38;5;241m=\u001b[39m \u001b[38;5;28mgetattr\u001b[39m(ax, \u001b[38;5;124m\"\u001b[39m\u001b[38;5;124mleft_ax\u001b[39m\u001b[38;5;124m\"\u001b[39m, ax)\n\u001b[0;32m     70\u001b[0m plot_obj \u001b[38;5;241m=\u001b[39m PLOT_CLASSES[kind](data, \u001b[38;5;241m*\u001b[39m\u001b[38;5;241m*\u001b[39mkwargs)\n\u001b[1;32m---> 71\u001b[0m \u001b[43mplot_obj\u001b[49m\u001b[38;5;241;43m.\u001b[39;49m\u001b[43mgenerate\u001b[49m\u001b[43m(\u001b[49m\u001b[43m)\u001b[49m\n\u001b[0;32m     72\u001b[0m plot_obj\u001b[38;5;241m.\u001b[39mdraw()\n\u001b[0;32m     73\u001b[0m \u001b[38;5;28;01mreturn\u001b[39;00m plot_obj\u001b[38;5;241m.\u001b[39mresult\n",
      "File \u001b[1;32m~\\Anaconda3\\lib\\site-packages\\pandas\\plotting\\_matplotlib\\core.py:329\u001b[0m, in \u001b[0;36mMPLPlot.generate\u001b[1;34m(self)\u001b[0m\n\u001b[0;32m    327\u001b[0m \u001b[38;5;28mself\u001b[39m\u001b[38;5;241m.\u001b[39m_compute_plot_data()\n\u001b[0;32m    328\u001b[0m \u001b[38;5;28mself\u001b[39m\u001b[38;5;241m.\u001b[39m_setup_subplots()\n\u001b[1;32m--> 329\u001b[0m \u001b[38;5;28;43mself\u001b[39;49m\u001b[38;5;241;43m.\u001b[39;49m\u001b[43m_make_plot\u001b[49m\u001b[43m(\u001b[49m\u001b[43m)\u001b[49m\n\u001b[0;32m    330\u001b[0m \u001b[38;5;28mself\u001b[39m\u001b[38;5;241m.\u001b[39m_add_table()\n\u001b[0;32m    331\u001b[0m \u001b[38;5;28mself\u001b[39m\u001b[38;5;241m.\u001b[39m_make_legend()\n",
      "File \u001b[1;32m~\\Anaconda3\\lib\\site-packages\\pandas\\plotting\\_matplotlib\\core.py:1114\u001b[0m, in \u001b[0;36mScatterPlot._make_plot\u001b[1;34m(self)\u001b[0m\n\u001b[0;32m   1112\u001b[0m \u001b[38;5;28;01melse\u001b[39;00m:\n\u001b[0;32m   1113\u001b[0m     label \u001b[38;5;241m=\u001b[39m \u001b[38;5;28;01mNone\u001b[39;00m\n\u001b[1;32m-> 1114\u001b[0m scatter \u001b[38;5;241m=\u001b[39m ax\u001b[38;5;241m.\u001b[39mscatter(\n\u001b[0;32m   1115\u001b[0m     data[x]\u001b[38;5;241m.\u001b[39mvalues,\n\u001b[0;32m   1116\u001b[0m     data[y]\u001b[38;5;241m.\u001b[39mvalues,\n\u001b[0;32m   1117\u001b[0m     c\u001b[38;5;241m=\u001b[39mc_values,\n\u001b[0;32m   1118\u001b[0m     label\u001b[38;5;241m=\u001b[39mlabel,\n\u001b[0;32m   1119\u001b[0m     cmap\u001b[38;5;241m=\u001b[39mcmap,\n\u001b[0;32m   1120\u001b[0m     norm\u001b[38;5;241m=\u001b[39mnorm,\n\u001b[0;32m   1121\u001b[0m     \u001b[38;5;241m*\u001b[39m\u001b[38;5;241m*\u001b[39m\u001b[38;5;28mself\u001b[39m\u001b[38;5;241m.\u001b[39mkwds,\n\u001b[0;32m   1122\u001b[0m )\n\u001b[0;32m   1123\u001b[0m \u001b[38;5;28;01mif\u001b[39;00m cb:\n\u001b[0;32m   1124\u001b[0m     cbar_label \u001b[38;5;241m=\u001b[39m c \u001b[38;5;28;01mif\u001b[39;00m c_is_column \u001b[38;5;28;01melse\u001b[39;00m \u001b[38;5;124m\"\u001b[39m\u001b[38;5;124m\"\u001b[39m\n",
      "File \u001b[1;32m~\\Anaconda3\\lib\\site-packages\\matplotlib\\__init__.py:1412\u001b[0m, in \u001b[0;36m_preprocess_data.<locals>.inner\u001b[1;34m(ax, data, *args, **kwargs)\u001b[0m\n\u001b[0;32m   1409\u001b[0m \u001b[38;5;129m@functools\u001b[39m\u001b[38;5;241m.\u001b[39mwraps(func)\n\u001b[0;32m   1410\u001b[0m \u001b[38;5;28;01mdef\u001b[39;00m \u001b[38;5;21minner\u001b[39m(ax, \u001b[38;5;241m*\u001b[39margs, data\u001b[38;5;241m=\u001b[39m\u001b[38;5;28;01mNone\u001b[39;00m, \u001b[38;5;241m*\u001b[39m\u001b[38;5;241m*\u001b[39mkwargs):\n\u001b[0;32m   1411\u001b[0m     \u001b[38;5;28;01mif\u001b[39;00m data \u001b[38;5;129;01mis\u001b[39;00m \u001b[38;5;28;01mNone\u001b[39;00m:\n\u001b[1;32m-> 1412\u001b[0m         \u001b[38;5;28;01mreturn\u001b[39;00m func(ax, \u001b[38;5;241m*\u001b[39m\u001b[38;5;28mmap\u001b[39m(sanitize_sequence, args), \u001b[38;5;241m*\u001b[39m\u001b[38;5;241m*\u001b[39mkwargs)\n\u001b[0;32m   1414\u001b[0m     bound \u001b[38;5;241m=\u001b[39m new_sig\u001b[38;5;241m.\u001b[39mbind(ax, \u001b[38;5;241m*\u001b[39margs, \u001b[38;5;241m*\u001b[39m\u001b[38;5;241m*\u001b[39mkwargs)\n\u001b[0;32m   1415\u001b[0m     auto_label \u001b[38;5;241m=\u001b[39m (bound\u001b[38;5;241m.\u001b[39marguments\u001b[38;5;241m.\u001b[39mget(label_namer)\n\u001b[0;32m   1416\u001b[0m                   \u001b[38;5;129;01mor\u001b[39;00m bound\u001b[38;5;241m.\u001b[39mkwargs\u001b[38;5;241m.\u001b[39mget(label_namer))\n",
      "File \u001b[1;32m~\\Anaconda3\\lib\\site-packages\\matplotlib\\axes\\_axes.py:4468\u001b[0m, in \u001b[0;36mAxes.scatter\u001b[1;34m(self, x, y, s, c, marker, cmap, norm, vmin, vmax, alpha, linewidths, edgecolors, plotnonfinite, **kwargs)\u001b[0m\n\u001b[0;32m   4458\u001b[0m collection \u001b[38;5;241m=\u001b[39m mcoll\u001b[38;5;241m.\u001b[39mPathCollection(\n\u001b[0;32m   4459\u001b[0m         (path,), scales,\n\u001b[0;32m   4460\u001b[0m         facecolors\u001b[38;5;241m=\u001b[39mcolors,\n\u001b[1;32m   (...)\u001b[0m\n\u001b[0;32m   4465\u001b[0m         alpha\u001b[38;5;241m=\u001b[39malpha\n\u001b[0;32m   4466\u001b[0m         )\n\u001b[0;32m   4467\u001b[0m collection\u001b[38;5;241m.\u001b[39mset_transform(mtransforms\u001b[38;5;241m.\u001b[39mIdentityTransform())\n\u001b[1;32m-> 4468\u001b[0m \u001b[43mcollection\u001b[49m\u001b[38;5;241;43m.\u001b[39;49m\u001b[43mupdate\u001b[49m\u001b[43m(\u001b[49m\u001b[43mkwargs\u001b[49m\u001b[43m)\u001b[49m\n\u001b[0;32m   4470\u001b[0m \u001b[38;5;28;01mif\u001b[39;00m colors \u001b[38;5;129;01mis\u001b[39;00m \u001b[38;5;28;01mNone\u001b[39;00m:\n\u001b[0;32m   4471\u001b[0m     collection\u001b[38;5;241m.\u001b[39mset_array(c)\n",
      "File \u001b[1;32m~\\Anaconda3\\lib\\site-packages\\matplotlib\\artist.py:1064\u001b[0m, in \u001b[0;36mArtist.update\u001b[1;34m(self, props)\u001b[0m\n\u001b[0;32m   1062\u001b[0m             func \u001b[38;5;241m=\u001b[39m \u001b[38;5;28mgetattr\u001b[39m(\u001b[38;5;28mself\u001b[39m, \u001b[38;5;124mf\u001b[39m\u001b[38;5;124m\"\u001b[39m\u001b[38;5;124mset_\u001b[39m\u001b[38;5;132;01m{\u001b[39;00mk\u001b[38;5;132;01m}\u001b[39;00m\u001b[38;5;124m\"\u001b[39m, \u001b[38;5;28;01mNone\u001b[39;00m)\n\u001b[0;32m   1063\u001b[0m             \u001b[38;5;28;01mif\u001b[39;00m \u001b[38;5;129;01mnot\u001b[39;00m callable(func):\n\u001b[1;32m-> 1064\u001b[0m                 \u001b[38;5;28;01mraise\u001b[39;00m \u001b[38;5;167;01mAttributeError\u001b[39;00m(\u001b[38;5;124mf\u001b[39m\u001b[38;5;124m\"\u001b[39m\u001b[38;5;132;01m{\u001b[39;00m\u001b[38;5;28mtype\u001b[39m(\u001b[38;5;28mself\u001b[39m)\u001b[38;5;241m.\u001b[39m\u001b[38;5;18m__name__\u001b[39m\u001b[38;5;132;01m!r}\u001b[39;00m\u001b[38;5;124m object \u001b[39m\u001b[38;5;124m\"\u001b[39m\n\u001b[0;32m   1065\u001b[0m                                      \u001b[38;5;124mf\u001b[39m\u001b[38;5;124m\"\u001b[39m\u001b[38;5;124mhas no property \u001b[39m\u001b[38;5;132;01m{\u001b[39;00mk\u001b[38;5;132;01m!r}\u001b[39;00m\u001b[38;5;124m\"\u001b[39m)\n\u001b[0;32m   1066\u001b[0m             ret\u001b[38;5;241m.\u001b[39mappend(func(v))\n\u001b[0;32m   1067\u001b[0m \u001b[38;5;28;01mif\u001b[39;00m ret:\n",
      "\u001b[1;31mAttributeError\u001b[0m: 'PathCollection' object has no property 'Figsize'"
     ]
    },
    {
     "data": {
      "image/png": "[encoded data removed]",
      "text/plain": [
       "<Figure size 432x288 with 1 Axes>"
      ]
     },
     "metadata": {
      "needs_background": "light"
     },
     "output_type": "display_data"
    }
   ],
   "source": [
    "df.plot(kind='scatter',\n",
    "        x='Körning',\n",
    "        y='Ytvikt',\n",
    "        color='orange',\n",
    "        Figsize=(12, 6))"
   ]
  }
 ],
 "metadata": {
  "kernelspec": {
   "display_name": "Python 3 (ipykernel)",
   "language": "python",
   "name": "python3"
  },
  "language_info": {
   "codemirror_mode": {
    "name": "ipython",
    "version": 3
   },
   "file_extension": ".py",
   "mimetype": "text/x-python",
   "name": "python",
   "nbconvert_exporter": "python",
   "pygments_lexer": "ipython3",
   "version": "3.9.12"
  },
  "toc-autonumbering": false,
  "toc-showcode": true,
  "toc-showmarkdowntxt": false
 },
 "nbformat": 4,
 "nbformat_minor": 5
}
